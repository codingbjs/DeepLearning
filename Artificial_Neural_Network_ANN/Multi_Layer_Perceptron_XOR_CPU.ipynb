{
  "nbformat": 4,
  "nbformat_minor": 0,
  "metadata": {
    "colab": {
      "provenance": [],
      "authorship_tag": "ABX9TyOxKj0jAZGf5hxkD3HS/qdm",
      "include_colab_link": true
    },
    "kernelspec": {
      "name": "python3",
      "display_name": "Python 3"
    },
    "language_info": {
      "name": "python"
    }
  },
  "cells": [
    {
      "cell_type": "markdown",
      "metadata": {
        "id": "view-in-github",
        "colab_type": "text"
      },
      "source": [
        "<a href=\"https://colab.research.google.com/github/codingbjs/DeepLearning/blob/main/Artificial_Neural_Network_ANN/Multi_Layer_Perceptron_XOR_CPU.ipynb\" target=\"_parent\"><img src=\"https://colab.research.google.com/assets/colab-badge.svg\" alt=\"Open In Colab\"/></a>"
      ]
    },
    {
      "cell_type": "code",
      "execution_count": null,
      "metadata": {
        "id": "uX6D45HpJ4BF"
      },
      "outputs": [],
      "source": [
        "import warnings\n",
        "warnings.filterwarnings('ignore')"
      ]
    },
    {
      "cell_type": "code",
      "source": [
        "import numpy as np"
      ],
      "metadata": {
        "id": "sSJJlIklKTjD"
      },
      "execution_count": null,
      "outputs": []
    },
    {
      "cell_type": "code",
      "source": [
        "def gradient(machine, param):\n",
        "    if param.ndim == 1:\n",
        "        temp_param = param\n",
        "        delta = 0.00005\n",
        "        learned_param = np.zeros(param.shape)\n",
        "\n",
        "        for index in range(len(param)):\n",
        "            target_param = float(temp_param[index])\n",
        "            temp_param[index] = target_param + delta\n",
        "            param_plus_delta = machine(temp_param)\n",
        "            temp_param[index] = target_param - delta\n",
        "            param_minus_delta = machine(temp_param)\n",
        "            learned_param[index] = (param_plus_delta - param_minus_delta) / (2 * delta)\n",
        "            temp_param[index] = target_param\n",
        "\n",
        "        return learned_param\n",
        "\n",
        "    elif param.ndim == 2 :\n",
        "        temp_param = param\n",
        "        delta = 0.00005\n",
        "        learned_param = np.zeros(param.shape)\n",
        "\n",
        "        rows = param.shape[0]\n",
        "        columns = param.shape[1]\n",
        "\n",
        "        for row in range(rows):\n",
        "            for column in range(columns):\n",
        "                target_param = float(temp_param[row, column])\n",
        "                temp_param[row, column] = target_param + delta\n",
        "                param_plus_delta = machine(temp_param)\n",
        "                temp_param[row, column] = target_param - delta\n",
        "                param_minus_delta = machine(temp_param)\n",
        "                learned_param[row, column] = (param_plus_delta - param_minus_delta) / (2 * delta)\n",
        "                temp_param[row, column] = target_param\n",
        "\n",
        "        return learned_param"
      ],
      "metadata": {
        "id": "5p29bUGTKZoX"
      },
      "execution_count": null,
      "outputs": []
    },
    {
      "cell_type": "code",
      "source": [
        "import numpy as np\n",
        "\n",
        "def sigmoid(x):\n",
        "    y_hat = 1/(1 + np.exp(-x))\n",
        "    return y_hat"
      ],
      "metadata": {
        "id": "tcLxAN2CNOKd"
      },
      "execution_count": null,
      "outputs": []
    },
    {
      "cell_type": "code",
      "source": [
        "class LogicGate:\n",
        "    def __init__(self, gate_type, X_input, y_output):\n",
        "        self.Type = gate_type   # gate_type 문자열 지정 Member\n",
        "\n",
        "        self.X_input = X_input.reshape(4,2)\n",
        "        self.y_output = y_output.reshape(4,1)\n",
        "\n",
        "        self.W = np.random.rand(2,1)\n",
        "        self.b = np.random.rand(1)\n",
        "\n",
        "        self.learning_rate = 0.01\n",
        "\n",
        "    def cost_func(self):\n",
        "        z = np.dot(self.X_input, self.W) + self.b\n",
        "        y_hat = sigmoid(z)\n",
        "\n",
        "        return -np.sum(self.y_output * np.log(y_hat) + (1 - self.y_output) * np.log(1 - y_hat))\n",
        "\n",
        "    def fit(self):\n",
        "        machine = lambda x : self.cost_func()\n",
        "        print('Initial Cost = ', self.cost_func())\n",
        "\n",
        "        for step in range(10001):\n",
        "            self.W = self.W - self.learning_rate * gradient(machine, self.W)\n",
        "            self.b = self.b - self.learning_rate * gradient(machine, self.b)\n",
        "\n",
        "            if step % 1000 == 0:\n",
        "                print('Step = ', step, 'Cost = ', self.cost_func())\n",
        "\n",
        "    def predict(self, input_data):\n",
        "        z = np.dot(input_data, self.W) + self.b\n",
        "        y_prob = sigmoid(z)\n",
        "\n",
        "        if y_prob > 0.5:\n",
        "            result = 1\n",
        "        else:\n",
        "            result = 0\n",
        "\n",
        "        return y_prob, result\n"
      ],
      "metadata": {
        "id": "AgBpWMkNNhXI"
      },
      "execution_count": null,
      "outputs": []
    },
    {
      "cell_type": "code",
      "source": [
        "X_input = np.array([[0,0],[0,1],[1,0],[1,1]])\n",
        "y_output = np.array([0,0,0,1])\n"
      ],
      "metadata": {
        "id": "hsfxt39XRTsK"
      },
      "execution_count": null,
      "outputs": []
    },
    {
      "cell_type": "code",
      "source": [
        "AND_Gate = LogicGate('AND_GATE', X_input, y_output)\n",
        "AND_Gate.fit()"
      ],
      "metadata": {
        "colab": {
          "base_uri": "https://localhost:8080/"
        },
        "id": "l0nOnK64Rv4z",
        "outputId": "aeea8cae-3239-42f1-83da-89dc693ce9df"
      },
      "execution_count": null,
      "outputs": [
        {
          "output_type": "stream",
          "name": "stdout",
          "text": [
            "Initial Cost =  3.2367407320594324\n",
            "Step =  0 Cost =  3.2120043624481993\n",
            "Step =  1000 Cost =  1.0330971442723367\n",
            "Step =  2000 Cost =  0.6710820063209032\n",
            "Step =  3000 Cost =  0.4974447293619353\n",
            "Step =  4000 Cost =  0.394123519782665\n",
            "Step =  5000 Cost =  0.32557218149320777\n",
            "Step =  6000 Cost =  0.2768547859015505\n",
            "Step =  7000 Cost =  0.24051927642321258\n",
            "Step =  8000 Cost =  0.21242136892344016\n",
            "Step =  9000 Cost =  0.19007274191598406\n",
            "Step =  10000 Cost =  0.1718903986578078\n"
          ]
        }
      ]
    },
    {
      "cell_type": "code",
      "source": [
        "print(AND_Gate.Type, '\\n')\n",
        "\n",
        "test_data = np.array([[0,0],[0,1],[1,0],[1,1]])\n",
        "\n",
        "for input_data in test_data:\n",
        "    sigmoid_val, logical_val = AND_Gate.predict(input_data)\n",
        "    print(input_data, ' = ', logical_val)"
      ],
      "metadata": {
        "colab": {
          "base_uri": "https://localhost:8080/"
        },
        "id": "yK_y9LGES22y",
        "outputId": "917901bb-be0c-4d03-ce73-fd622f4e79c8"
      },
      "execution_count": null,
      "outputs": [
        {
          "output_type": "stream",
          "name": "stdout",
          "text": [
            "AND_GATE \n",
            "\n",
            "[0 0]  =  0\n",
            "[0 1]  =  0\n",
            "[1 0]  =  0\n",
            "[1 1]  =  1\n"
          ]
        }
      ]
    },
    {
      "cell_type": "code",
      "source": [
        "X_input = np.array([[0,0],[0,1],[1,0],[1,1]])\n",
        "y_output = np.array([0,1,1,1])\n",
        "\n",
        "OR_Gate = LogicGate('OR_GATE', X_input, y_output)\n",
        "\n",
        "OR_Gate.fit()"
      ],
      "metadata": {
        "colab": {
          "base_uri": "https://localhost:8080/"
        },
        "id": "DKBaCu63U7KN",
        "outputId": "2d532328-27df-47b8-862e-6ab7302ccb0a"
      },
      "execution_count": null,
      "outputs": [
        {
          "output_type": "stream",
          "name": "stdout",
          "text": [
            "Initial Cost =  1.5373681770815673\n",
            "Step =  0 Cost =  1.535554392417107\n",
            "Step =  1000 Cost =  0.6659053655549013\n",
            "Step =  2000 Cost =  0.4105734465537814\n",
            "Step =  3000 Cost =  0.29272945842376885\n",
            "Step =  4000 Cost =  0.22597219007150068\n",
            "Step =  5000 Cost =  0.1833717193998873\n",
            "Step =  6000 Cost =  0.1539719959732123\n",
            "Step =  7000 Cost =  0.13252644178568337\n",
            "Step =  8000 Cost =  0.11622457821947708\n",
            "Step =  9000 Cost =  0.10343175813508754\n",
            "Step =  10000 Cost =  0.09313528580901724\n"
          ]
        }
      ]
    },
    {
      "cell_type": "code",
      "source": [
        "print(OR_Gate.Type, '\\n')\n",
        "\n",
        "test_data = np.array([[0,0],[0,1],[1,0],[1,1]])\n",
        "\n",
        "for input_data in test_data:\n",
        "    sigmoid_val, logical_val = OR_Gate.predict(input_data)\n",
        "    print(input_data, ' = ', logical_val)"
      ],
      "metadata": {
        "colab": {
          "base_uri": "https://localhost:8080/"
        },
        "id": "LvY394EQVXH-",
        "outputId": "b7ea9127-4114-4cfa-b7f2-4e9fafc9f92d"
      },
      "execution_count": null,
      "outputs": [
        {
          "output_type": "stream",
          "name": "stdout",
          "text": [
            "OR_GATE \n",
            "\n",
            "[0 0]  =  0\n",
            "[0 1]  =  1\n",
            "[1 0]  =  1\n",
            "[1 1]  =  1\n"
          ]
        }
      ]
    },
    {
      "cell_type": "code",
      "source": [
        "X_input = np.array([[0,0],[0,1],[1,0],[1,1]])\n",
        "y_output = np.array([1,1,1,0])\n",
        "\n",
        "NAND_Gate = LogicGate('NAND_GATE', X_input, y_output)\n",
        "\n",
        "NAND_Gate.fit()"
      ],
      "metadata": {
        "colab": {
          "base_uri": "https://localhost:8080/"
        },
        "id": "hK3ar3KdVlRO",
        "outputId": "2c139e68-a7d9-4a04-91d5-6ba1ef349a86"
      },
      "execution_count": null,
      "outputs": [
        {
          "output_type": "stream",
          "name": "stdout",
          "text": [
            "Initial Cost =  3.1152820293922288\n",
            "Step =  0 Cost =  3.1047539808564437\n",
            "Step =  1000 Cost =  1.0657050265188956\n",
            "Step =  2000 Cost =  0.6842327803028172\n",
            "Step =  3000 Cost =  0.5047036817644979\n",
            "Step =  4000 Cost =  0.398732368876306\n",
            "Step =  5000 Cost =  0.3287515984994481\n",
            "Step =  6000 Cost =  0.27917518270600483\n",
            "Step =  7000 Cost =  0.24228397887788797\n",
            "Step =  8000 Cost =  0.2138065622706315\n",
            "Step =  9000 Cost =  0.1911876559024394\n",
            "Step =  10000 Cost =  0.17280626658156326\n"
          ]
        }
      ]
    },
    {
      "cell_type": "code",
      "source": [
        "print(NAND_Gate.Type, '\\n')\n",
        "\n",
        "test_data = np.array([[0,0],[0,1],[1,0],[1,1]])\n",
        "\n",
        "for input_data in test_data:\n",
        "    sigmoid_val, logical_val = NAND_Gate.predict(input_data)\n",
        "    print(input_data, ' = ', logical_val)"
      ],
      "metadata": {
        "colab": {
          "base_uri": "https://localhost:8080/"
        },
        "id": "JIm_eZkAV5W-",
        "outputId": "e61b00be-94fd-4857-e4f7-62bd216821c1"
      },
      "execution_count": null,
      "outputs": [
        {
          "output_type": "stream",
          "name": "stdout",
          "text": [
            "NAND_GATE \n",
            "\n",
            "[0 0]  =  1\n",
            "[0 1]  =  1\n",
            "[1 0]  =  1\n",
            "[1 1]  =  0\n"
          ]
        }
      ]
    }
  ]
}