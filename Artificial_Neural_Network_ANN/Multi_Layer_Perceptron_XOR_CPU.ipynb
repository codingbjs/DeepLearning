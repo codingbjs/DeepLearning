{
  "nbformat": 4,
  "nbformat_minor": 0,
  "metadata": {
    "colab": {
      "provenance": [],
      "authorship_tag": "ABX9TyPQv85IfIRws93EkCvbnjWE",
      "include_colab_link": true
    },
    "kernelspec": {
      "name": "python3",
      "display_name": "Python 3"
    },
    "language_info": {
      "name": "python"
    }
  },
  "cells": [
    {
      "cell_type": "markdown",
      "metadata": {
        "id": "view-in-github",
        "colab_type": "text"
      },
      "source": [
        "<a href=\"https://colab.research.google.com/github/codingbjs/DeepLearning/blob/main/Artificial_Neural_Network_ANN/Multi_Layer_Perceptron_XOR_CPU.ipynb\" target=\"_parent\"><img src=\"https://colab.research.google.com/assets/colab-badge.svg\" alt=\"Open In Colab\"/></a>"
      ]
    },
    {
      "cell_type": "code",
      "execution_count": null,
      "metadata": {
        "id": "uX6D45HpJ4BF"
      },
      "outputs": [],
      "source": [
        "import warnings\n",
        "warnings.filterwarnings('ignore')"
      ]
    },
    {
      "cell_type": "code",
      "source": [
        "import numpy as np"
      ],
      "metadata": {
        "id": "sSJJlIklKTjD"
      },
      "execution_count": null,
      "outputs": []
    },
    {
      "cell_type": "code",
      "source": [
        "def gradient(machine, param):\n",
        "    if param.ndim == 1:\n",
        "        temp_param = param\n",
        "        delta = 0.00005\n",
        "        learned_param = np.zeros(param.shape)\n",
        "\n",
        "        for index in range(len(param)):\n",
        "            target_param = float(temp_param[index])\n",
        "            temp_param[index] = target_param + delta\n",
        "            param_plus_delta = machine(temp_param)\n",
        "            temp_param[index] = target_param - delta\n",
        "            param_minus_delta = machine(temp_param)\n",
        "            learned_param[index] = (param_plus_delta - param_minus_delta) / (2 * delta)\n",
        "            temp_param[index] = target_param\n",
        "\n",
        "        return learned_param\n",
        "\n",
        "    elif param.ndim == 2 :\n",
        "        temp_param = param\n",
        "        delta = 0.00005\n",
        "        learned_param = np.zeros(param.shape)\n",
        "\n",
        "        rows = param.shape[0]\n",
        "        columns = param.shape[1]\n",
        "\n",
        "        for row in range(rows):\n",
        "            for column in range(columns):\n",
        "                target_param = float(temp_param[row, column])\n",
        "                temp_param[row, column] = target_param + delta\n",
        "                param_plus_delta = machine(temp_param)\n",
        "                temp_param[row, column] = target_param - delta\n",
        "                param_minus_delta = machine(temp_param)\n",
        "                learned_param[row, column] = (param_plus_delta - param_minus_delta) / (2 * delta)\n",
        "                temp_param[row, column] = target_param\n",
        "\n",
        "        return learned_param"
      ],
      "metadata": {
        "id": "5p29bUGTKZoX"
      },
      "execution_count": null,
      "outputs": []
    },
    {
      "cell_type": "code",
      "source": [
        "import numpy as np\n",
        "\n",
        "def sigmoid(x):\n",
        "    y_hat = 1/(1 + np.exp(-x))\n",
        "    return y_hat"
      ],
      "metadata": {
        "id": "tcLxAN2CNOKd"
      },
      "execution_count": null,
      "outputs": []
    },
    {
      "cell_type": "code",
      "source": [
        "class LogicGate:\n",
        "    def __init__(self, gate_type, X_input, y_output):\n",
        "        self.Type = gate_type   # gate_type 문자열 지정 Member\n",
        "\n",
        "        self.X_input = X_input.reshape(4,2)\n",
        "        self.y_output = y_output.reshape(4,1)\n",
        "\n",
        "        self.W = np.random.rand(2,1)\n",
        "        self.b = np.random.rand(1)\n",
        "\n",
        "        self.learning_rate = 0.01\n",
        "\n",
        "    def cost_func(self):\n",
        "        z = np.dot(self.X_input, self.W) + self.b\n",
        "        y_hat = sigmoid(z)\n",
        "\n",
        "        return -np.sum(self.y_output * np.log(y_hat) + (1 - self.y_output) * np.log(1 - y_hat))\n",
        "\n",
        "    def fit(self):\n",
        "        machine = lambda x : self.cost_func()\n",
        "        print('Initial Cost = ', self.cost_func())\n",
        "\n",
        "        for step in range(10001):\n",
        "            self.W = self.W - self.learning_rate * gradient(machine, self.W)\n",
        "            self.b = self.b - self.learning_rate * gradient(machine, self.b)\n",
        "\n",
        "            if step % 1000 == 0:\n",
        "                print('Step = ', step, 'Cost = ', self.cost_func())\n",
        "\n",
        "    def predict(self, input_data):\n",
        "        z = np.dot(input_data, self.W) + self.b\n",
        "        y_prob = sigmoid(z)\n",
        "\n",
        "        if y_prob > 0.5:\n",
        "            result = 1\n",
        "        else:\n",
        "            result = 0\n",
        "\n",
        "        return y_prob, result\n"
      ],
      "metadata": {
        "id": "AgBpWMkNNhXI"
      },
      "execution_count": null,
      "outputs": []
    },
    {
      "cell_type": "code",
      "source": [
        "X_input = np.array([[0,0],[0,1],[1,0],[1,1]])\n",
        "y_output = np.array([0,0,0,1])\n"
      ],
      "metadata": {
        "id": "hsfxt39XRTsK"
      },
      "execution_count": null,
      "outputs": []
    },
    {
      "cell_type": "code",
      "source": [
        "AND_Gate = LogicGate('AND_GATE', X_input, y_output)\n",
        "AND_Gate.fit()"
      ],
      "metadata": {
        "colab": {
          "base_uri": "https://localhost:8080/"
        },
        "id": "l0nOnK64Rv4z",
        "outputId": "aeea8cae-3239-42f1-83da-89dc693ce9df"
      },
      "execution_count": null,
      "outputs": [
        {
          "output_type": "stream",
          "name": "stdout",
          "text": [
            "Initial Cost =  3.2367407320594324\n",
            "Step =  0 Cost =  3.2120043624481993\n",
            "Step =  1000 Cost =  1.0330971442723367\n",
            "Step =  2000 Cost =  0.6710820063209032\n",
            "Step =  3000 Cost =  0.4974447293619353\n",
            "Step =  4000 Cost =  0.394123519782665\n",
            "Step =  5000 Cost =  0.32557218149320777\n",
            "Step =  6000 Cost =  0.2768547859015505\n",
            "Step =  7000 Cost =  0.24051927642321258\n",
            "Step =  8000 Cost =  0.21242136892344016\n",
            "Step =  9000 Cost =  0.19007274191598406\n",
            "Step =  10000 Cost =  0.1718903986578078\n"
          ]
        }
      ]
    },
    {
      "cell_type": "code",
      "source": [
        "print(AND_Gate.Type, '\\n')\n",
        "\n",
        "test_data = np.array([[0,0],[0,1],[1,0],[1,1]])\n",
        "\n",
        "for input_data in test_data:\n",
        "    sigmoid_val, logical_val = AND_Gate.predict(input_data)\n",
        "    print(input_data, ' = ', logical_val)"
      ],
      "metadata": {
        "colab": {
          "base_uri": "https://localhost:8080/"
        },
        "id": "yK_y9LGES22y",
        "outputId": "917901bb-be0c-4d03-ce73-fd622f4e79c8"
      },
      "execution_count": null,
      "outputs": [
        {
          "output_type": "stream",
          "name": "stdout",
          "text": [
            "AND_GATE \n",
            "\n",
            "[0 0]  =  0\n",
            "[0 1]  =  0\n",
            "[1 0]  =  0\n",
            "[1 1]  =  1\n"
          ]
        }
      ]
    },
    {
      "cell_type": "code",
      "source": [
        "X_input = np.array([[0,0],[0,1],[1,0],[1,1]])\n",
        "y_output = np.array([0,1,1,1])\n",
        "\n",
        "OR_Gate = LogicGate('OR_GATE', X_input, y_output)\n",
        "\n",
        "OR_Gate.fit()"
      ],
      "metadata": {
        "colab": {
          "base_uri": "https://localhost:8080/"
        },
        "id": "DKBaCu63U7KN",
        "outputId": "2d532328-27df-47b8-862e-6ab7302ccb0a"
      },
      "execution_count": null,
      "outputs": [
        {
          "output_type": "stream",
          "name": "stdout",
          "text": [
            "Initial Cost =  1.5373681770815673\n",
            "Step =  0 Cost =  1.535554392417107\n",
            "Step =  1000 Cost =  0.6659053655549013\n",
            "Step =  2000 Cost =  0.4105734465537814\n",
            "Step =  3000 Cost =  0.29272945842376885\n",
            "Step =  4000 Cost =  0.22597219007150068\n",
            "Step =  5000 Cost =  0.1833717193998873\n",
            "Step =  6000 Cost =  0.1539719959732123\n",
            "Step =  7000 Cost =  0.13252644178568337\n",
            "Step =  8000 Cost =  0.11622457821947708\n",
            "Step =  9000 Cost =  0.10343175813508754\n",
            "Step =  10000 Cost =  0.09313528580901724\n"
          ]
        }
      ]
    },
    {
      "cell_type": "code",
      "source": [
        "print(OR_Gate.Type, '\\n')\n",
        "\n",
        "test_data = np.array([[0,0],[0,1],[1,0],[1,1]])\n",
        "\n",
        "for input_data in test_data:\n",
        "    sigmoid_val, logical_val = OR_Gate.predict(input_data)\n",
        "    print(input_data, ' = ', logical_val)"
      ],
      "metadata": {
        "colab": {
          "base_uri": "https://localhost:8080/"
        },
        "id": "LvY394EQVXH-",
        "outputId": "b7ea9127-4114-4cfa-b7f2-4e9fafc9f92d"
      },
      "execution_count": null,
      "outputs": [
        {
          "output_type": "stream",
          "name": "stdout",
          "text": [
            "OR_GATE \n",
            "\n",
            "[0 0]  =  0\n",
            "[0 1]  =  1\n",
            "[1 0]  =  1\n",
            "[1 1]  =  1\n"
          ]
        }
      ]
    },
    {
      "cell_type": "code",
      "source": [
        "X_input = np.array([[0,0],[0,1],[1,0],[1,1]])\n",
        "y_output = np.array([1,1,1,0])\n",
        "\n",
        "NAND_Gate = LogicGate('NAND_GATE', X_input, y_output)\n",
        "\n",
        "NAND_Gate.fit()"
      ],
      "metadata": {
        "colab": {
          "base_uri": "https://localhost:8080/"
        },
        "id": "hK3ar3KdVlRO",
        "outputId": "2c139e68-a7d9-4a04-91d5-6ba1ef349a86"
      },
      "execution_count": null,
      "outputs": [
        {
          "output_type": "stream",
          "name": "stdout",
          "text": [
            "Initial Cost =  3.1152820293922288\n",
            "Step =  0 Cost =  3.1047539808564437\n",
            "Step =  1000 Cost =  1.0657050265188956\n",
            "Step =  2000 Cost =  0.6842327803028172\n",
            "Step =  3000 Cost =  0.5047036817644979\n",
            "Step =  4000 Cost =  0.398732368876306\n",
            "Step =  5000 Cost =  0.3287515984994481\n",
            "Step =  6000 Cost =  0.27917518270600483\n",
            "Step =  7000 Cost =  0.24228397887788797\n",
            "Step =  8000 Cost =  0.2138065622706315\n",
            "Step =  9000 Cost =  0.1911876559024394\n",
            "Step =  10000 Cost =  0.17280626658156326\n"
          ]
        }
      ]
    },
    {
      "cell_type": "code",
      "source": [
        "print(NAND_Gate.Type, '\\n')\n",
        "\n",
        "test_data = np.array([[0,0],[0,1],[1,0],[1,1]])\n",
        "\n",
        "for input_data in test_data:\n",
        "    sigmoid_val, logical_val = NAND_Gate.predict(input_data)\n",
        "    print(input_data, ' = ', logical_val)"
      ],
      "metadata": {
        "colab": {
          "base_uri": "https://localhost:8080/"
        },
        "id": "JIm_eZkAV5W-",
        "outputId": "e61b00be-94fd-4857-e4f7-62bd216821c1"
      },
      "execution_count": null,
      "outputs": [
        {
          "output_type": "stream",
          "name": "stdout",
          "text": [
            "NAND_GATE \n",
            "\n",
            "[0 0]  =  1\n",
            "[0 1]  =  1\n",
            "[1 0]  =  1\n",
            "[1 1]  =  0\n"
          ]
        }
      ]
    },
    {
      "cell_type": "code",
      "metadata": {
        "id": "RHbjtJh6fduB"
      },
      "source": [
        "X_input  = np.array([[0, 0], [0, 1], [1, 0], [1, 1]])\n",
        "y_output = np.array([0, 1, 1, 0])"
      ],
      "execution_count": 42,
      "outputs": []
    },
    {
      "cell_type": "code",
      "metadata": {
        "id": "9FF1q21ahATG",
        "colab": {
          "base_uri": "https://localhost:8080/"
        },
        "outputId": "5ef3ba59-260b-4093-8fed-46da1e6ea330"
      },
      "source": [
        "XOR_Gate = LogicGate('XOR_GATE', X_input, y_output)\n",
        "\n",
        "XOR_Gate.fit()"
      ],
      "execution_count": 43,
      "outputs": [
        {
          "output_type": "stream",
          "name": "stdout",
          "text": [
            "Initial Cost =  3.3726072970235443\n",
            "Step =  0 Cost =  3.3574473510399296\n",
            "Step =  1000 Cost =  2.7731872102074426\n",
            "Step =  2000 Cost =  2.7726134672862335\n",
            "Step =  3000 Cost =  2.7725897747304296\n",
            "Step =  4000 Cost =  2.772588767210716\n",
            "Step =  5000 Cost =  2.7725887241626865\n",
            "Step =  6000 Cost =  2.772588722322012\n",
            "Step =  7000 Cost =  2.7725887222432974\n",
            "Step =  8000 Cost =  2.7725887222399317\n",
            "Step =  9000 Cost =  2.7725887222397874\n",
            "Step =  10000 Cost =  2.7725887222397816\n"
          ]
        }
      ]
    },
    {
      "cell_type": "code",
      "metadata": {
        "id": "gn5Su92GhQY-",
        "colab": {
          "base_uri": "https://localhost:8080/"
        },
        "outputId": "d03b2e17-bd35-4097-c360-0936416f004b"
      },
      "source": [
        "print(XOR_Gate.Type, '\\n')\n",
        "\n",
        "test_data = np.array([[0, 0], [0, 1], [1, 0], [1, 1]])\n",
        "\n",
        "for input_data in test_data:\n",
        "    (sigmoid_val, logical_val) = XOR_Gate.predict(input_data)\n",
        "    print(input_data, ' = ', logical_val)"
      ],
      "execution_count": 44,
      "outputs": [
        {
          "output_type": "stream",
          "name": "stdout",
          "text": [
            "XOR_GATE \n",
            "\n",
            "[0 0]  =  0\n",
            "[0 1]  =  0\n",
            "[1 0]  =  0\n",
            "[1 1]  =  1\n"
          ]
        }
      ]
    },
    {
      "cell_type": "code",
      "source": [
        "input_data = np.array([[0, 0], [0, 1], [1, 0], [1, 1]])\n",
        "\n",
        "HL1_1 = []    # NAND 출력\n",
        "HL1_2 = []    # OR   출력\n",
        "\n",
        "new_input_data = []  # AND      입력\n",
        "final_output = []    # AND(XOR) 출력\n",
        "\n",
        "for index in range(len(input_data)):\n",
        "\n",
        "    HL1_1 = NAND_Gate.predict(input_data[index])  # NAND 출력\n",
        "    HL1_2 = OR_Gate.predict(input_data[index])    # OR   출력\n",
        "\n",
        "    new_input_data.append(HL1_1[-1])    # AND 입력\n",
        "    new_input_data.append(HL1_2[-1])    # AND 입력\n",
        "\n",
        "    (sigmoid_val, logical_val) = AND_Gate.predict(np.array(new_input_data))\n",
        "\n",
        "    final_output.append(logical_val)    # AND(XOR) 출력\n",
        "    new_input_data = []                 # AND 입력 초기화"
      ],
      "metadata": {
        "id": "Gt9bUlHCyN42"
      },
      "execution_count": 45,
      "outputs": []
    },
    {
      "cell_type": "code",
      "source": [
        "print(XOR_Gate.Type, '\\n')\n",
        "\n",
        "for index in range(len(input_data)):\n",
        "    print(input_data[index], ' = ', final_output[index])"
      ],
      "metadata": {
        "colab": {
          "base_uri": "https://localhost:8080/"
        },
        "id": "MqmN8GT8yUdj",
        "outputId": "edaf0e76-67f2-44c3-e79d-023cda7c2a09"
      },
      "execution_count": 46,
      "outputs": [
        {
          "output_type": "stream",
          "name": "stdout",
          "text": [
            "XOR_GATE \n",
            "\n",
            "[0 0]  =  0\n",
            "[0 1]  =  1\n",
            "[1 0]  =  1\n",
            "[1 1]  =  0\n"
          ]
        }
      ]
    },
    {
      "cell_type": "code",
      "metadata": {
        "id": "rU2ZjRtQp9Xr"
      },
      "source": [
        "class XOR_Gate:\n",
        "\n",
        "    def __init__(self, gate_Type, X_input, y_output):\n",
        "\n",
        "# gate_Type 문자열 지정 Member\n",
        "        self.Type = gate_Type\n",
        "\n",
        "# X_input, y_output Member 초기화\n",
        "        self.X_input = X_input.reshape(4, 2)\n",
        "        self.y_output = y_output.reshape(4, 1)\n",
        "\n",
        "# W_1, b_1 Member 초기화\n",
        "        self.W_1 = np.random.rand(2, 2)\n",
        "        self.b_1 = np.random.rand(2)\n",
        "\n",
        "# W_2, b_2 Member 초기화\n",
        "        self.W_2 = np.random.rand(2, 1)\n",
        "        self.b_2 = np.random.rand(1)\n",
        "\n",
        "# learning_rate Member 지정\n",
        "        self.learning_rate = 0.01\n",
        "\n",
        "# Cost_Function(CEE) Method\n",
        "    def cost_func(self):\n",
        "\n",
        "        z_1 = np.dot(self.X_input, self.W_1) + self.b_1     # Hidden Layer\n",
        "        a_1 = sigmoid(z_1)\n",
        "\n",
        "        z_2 = np.dot(a_1, self.W_2) + self.b_2              # Output Layer\n",
        "        y_hat = sigmoid(z_2)\n",
        "\n",
        "        return -np.sum(self.y_output * np.log(y_hat) + (1 - self.y_output) * np.log(1 - y_hat))\n",
        "\n",
        "# Learning Method\n",
        "    def fit(self):\n",
        "        machine = lambda x : self.cost_func()\n",
        "        print('Initial Cost = ', self.cost_func())\n",
        "\n",
        "        for step in  range(50001):\n",
        "            self.W_1 = self.W_1- self.learning_rate * gradient(machine, self.W_1)\n",
        "            self.b_1 = self.b_1 - self.learning_rate * gradient(machine, self.b_1)\n",
        "\n",
        "            self.W_2 = self.W_2 - self.learning_rate * gradient(machine, self.W_2)\n",
        "            self.b_2 = self.b_2 - self.learning_rate * gradient(machine, self.b_2)\n",
        "\n",
        "            if (step % 1000 == 0):\n",
        "                print('Step = ', step, 'Cost = ', self.cost_func())\n",
        "\n",
        "# Predict Method\n",
        "    def predict(self, input_data):\n",
        "\n",
        "        z_1 = np.dot(input_data, self.W_1) + self.b_1     # Hidden Layer\n",
        "        a_1 = sigmoid(z_1)\n",
        "\n",
        "        z_2 = np.dot(a_1, self.W_2) + self.b_2            # Output Layer\n",
        "        y_prob = sigmoid(z_2)\n",
        "\n",
        "\n",
        "        if y_prob > 0.5:\n",
        "            result = 1\n",
        "        else:\n",
        "            result = 0\n",
        "\n",
        "        return y_prob, result"
      ],
      "execution_count": 47,
      "outputs": []
    },
    {
      "cell_type": "code",
      "metadata": {
        "id": "X-Y-0WxQv5hS"
      },
      "source": [
        "X_input  = np.array([[0, 0], [0, 1], [1, 0], [1, 1]])\n",
        "y_output = np.array([0, 1, 1, 0])"
      ],
      "execution_count": 48,
      "outputs": []
    },
    {
      "cell_type": "code",
      "metadata": {
        "colab": {
          "base_uri": "https://localhost:8080/"
        },
        "id": "6nfufi7Cv5hT",
        "outputId": "ad1e9419-2383-4a04-ce54-87c22daea91f"
      },
      "source": [
        "XOR_Gate_2 = XOR_Gate('XOR_GATE', X_input, y_output)\n",
        "\n",
        "XOR_Gate_2.fit()"
      ],
      "execution_count": 49,
      "outputs": [
        {
          "output_type": "stream",
          "name": "stdout",
          "text": [
            "Initial Cost =  3.1059541361669507\n",
            "Step =  0 Cost =  3.0943845920926822\n",
            "Step =  1000 Cost =  2.7716296516158008\n",
            "Step =  2000 Cost =  2.77069421811094\n",
            "Step =  3000 Cost =  2.7687771304547524\n",
            "Step =  4000 Cost =  2.7645710132098094\n",
            "Step =  5000 Cost =  2.7548268947168433\n",
            "Step =  6000 Cost =  2.731849797058347\n",
            "Step =  7000 Cost =  2.6794748849646632\n",
            "Step =  8000 Cost =  2.5710849076847886\n",
            "Step =  9000 Cost =  2.3967268351302446\n",
            "Step =  10000 Cost =  2.1965060391534013\n",
            "Step =  11000 Cost =  1.9792935287816724\n",
            "Step =  12000 Cost =  1.6460192640975748\n",
            "Step =  13000 Cost =  1.1474778524510973\n",
            "Step =  14000 Cost =  0.7265362184389061\n",
            "Step =  15000 Cost =  0.48441554103674633\n",
            "Step =  16000 Cost =  0.350140968309846\n",
            "Step =  17000 Cost =  0.2697427731599672\n",
            "Step =  18000 Cost =  0.21757393998128857\n",
            "Step =  19000 Cost =  0.18145566918999922\n",
            "Step =  20000 Cost =  0.15516114081057275\n",
            "Step =  21000 Cost =  0.1352531023732963\n",
            "Step =  22000 Cost =  0.11970414641858287\n",
            "Step =  23000 Cost =  0.10725057637492814\n",
            "Step =  24000 Cost =  0.09706779772364728\n",
            "Step =  25000 Cost =  0.08859674276944654\n",
            "Step =  26000 Cost =  0.08144592191049133\n",
            "Step =  27000 Cost =  0.07533353480219684\n",
            "Step =  28000 Cost =  0.07005186652191375\n",
            "Step =  29000 Cost =  0.06544462021866182\n",
            "Step =  30000 Cost =  0.06139204406191938\n",
            "Step =  31000 Cost =  0.05780091025107784\n",
            "Step =  32000 Cost =  0.05459760294767875\n",
            "Step =  33000 Cost =  0.051723249983022634\n",
            "Step =  34000 Cost =  0.04913022928090928\n",
            "Step =  35000 Cost =  0.04677961920860989\n",
            "Step =  36000 Cost =  0.04463930923251325\n",
            "Step =  37000 Cost =  0.0426825803375865\n",
            "Step =  38000 Cost =  0.04088702483218019\n",
            "Step =  39000 Cost =  0.03923371481815884\n",
            "Step =  40000 Cost =  0.03770655522418608\n",
            "Step =  41000 Cost =  0.03629177546382073\n",
            "Step =  42000 Cost =  0.03497752636484728\n",
            "Step =  43000 Cost =  0.03375355785980806\n",
            "Step =  44000 Cost =  0.03261095922359035\n",
            "Step =  45000 Cost =  0.031541948180602145\n",
            "Step =  46000 Cost =  0.030539698511042573\n",
            "Step =  47000 Cost =  0.029598198220740772\n",
            "Step =  48000 Cost =  0.02871213215110652\n",
            "Step =  49000 Cost =  0.02787678426550978\n",
            "Step =  50000 Cost =  0.027087955878661005\n"
          ]
        }
      ]
    },
    {
      "cell_type": "code",
      "metadata": {
        "colab": {
          "base_uri": "https://localhost:8080/"
        },
        "id": "o9cbHccRwX--",
        "outputId": "048437ce-db21-4d5c-dd4e-4c6f12c09f77"
      },
      "source": [
        "print(XOR_Gate_2.Type, '\\n')\n",
        "\n",
        "test_data = np.array([[0, 0], [0, 1], [1, 0], [1, 1]])\n",
        "\n",
        "for input_data in test_data:\n",
        "    (sigmoid_val, logical_val) = XOR_Gate_2.predict(input_data)\n",
        "    print(input_data, ' = ', logical_val)"
      ],
      "execution_count": 50,
      "outputs": [
        {
          "output_type": "stream",
          "name": "stdout",
          "text": [
            "XOR_GATE \n",
            "\n",
            "[0 0]  =  0\n",
            "[0 1]  =  1\n",
            "[1 0]  =  1\n",
            "[1 1]  =  0\n"
          ]
        }
      ]
    }
  ]
}