{
  "nbformat": 4,
  "nbformat_minor": 0,
  "metadata": {
    "colab": {
      "provenance": [],
      "authorship_tag": "ABX9TyOM6eLEBcfzMn/OfWoOZPmC",
      "include_colab_link": true
    },
    "kernelspec": {
      "name": "python3",
      "display_name": "Python 3"
    },
    "language_info": {
      "name": "python"
    }
  },
  "cells": [
    {
      "cell_type": "markdown",
      "metadata": {
        "id": "view-in-github",
        "colab_type": "text"
      },
      "source": [
        "<a href=\"https://colab.research.google.com/github/codingbjs/DeepLearning/blob/main/TensorFlow/Keras_iris_Modeling_CPU.ipynb\" target=\"_parent\"><img src=\"https://colab.research.google.com/assets/colab-badge.svg\" alt=\"Open In Colab\"/></a>"
      ]
    },
    {
      "cell_type": "code",
      "execution_count": 1,
      "metadata": {
        "id": "C0zE5q9UwcZR"
      },
      "outputs": [],
      "source": [
        "import warnings\n",
        "warnings.filterwarnings('ignore')"
      ]
    },
    {
      "cell_type": "code",
      "source": [
        "import seaborn as sns\n",
        "\n",
        "iris = sns.load_dataset('iris')"
      ],
      "metadata": {
        "id": "Ovjx7jLrwvFv"
      },
      "execution_count": 5,
      "outputs": []
    },
    {
      "cell_type": "code",
      "source": [
        "iris.info()"
      ],
      "metadata": {
        "colab": {
          "base_uri": "https://localhost:8080/"
        },
        "id": "JqMejLVqxEAk",
        "outputId": "6f43a247-a22c-4cd0-fdf3-ca1fbb476d1e"
      },
      "execution_count": 7,
      "outputs": [
        {
          "output_type": "stream",
          "name": "stdout",
          "text": [
            "<class 'pandas.core.frame.DataFrame'>\n",
            "RangeIndex: 150 entries, 0 to 149\n",
            "Data columns (total 5 columns):\n",
            " #   Column        Non-Null Count  Dtype  \n",
            "---  ------        --------------  -----  \n",
            " 0   sepal_length  150 non-null    float64\n",
            " 1   sepal_width   150 non-null    float64\n",
            " 2   petal_length  150 non-null    float64\n",
            " 3   petal_width   150 non-null    float64\n",
            " 4   species       150 non-null    object \n",
            "dtypes: float64(4), object(1)\n",
            "memory usage: 6.0+ KB\n"
          ]
        }
      ]
    },
    {
      "cell_type": "code",
      "source": [
        "iris.head(3)"
      ],
      "metadata": {
        "colab": {
          "base_uri": "https://localhost:8080/",
          "height": 143
        },
        "id": "WmSzP23ZxKBk",
        "outputId": "6a646fd5-9632-4a19-d201-5026ca950e54"
      },
      "execution_count": 8,
      "outputs": [
        {
          "output_type": "execute_result",
          "data": {
            "text/plain": [
              "   sepal_length  sepal_width  petal_length  petal_width species\n",
              "0           5.1          3.5           1.4          0.2  setosa\n",
              "1           4.9          3.0           1.4          0.2  setosa\n",
              "2           4.7          3.2           1.3          0.2  setosa"
            ],
            "text/html": [
              "\n",
              "  <div id=\"df-1e36601c-6533-43db-a6a0-f4bfaaebf580\" class=\"colab-df-container\">\n",
              "    <div>\n",
              "<style scoped>\n",
              "    .dataframe tbody tr th:only-of-type {\n",
              "        vertical-align: middle;\n",
              "    }\n",
              "\n",
              "    .dataframe tbody tr th {\n",
              "        vertical-align: top;\n",
              "    }\n",
              "\n",
              "    .dataframe thead th {\n",
              "        text-align: right;\n",
              "    }\n",
              "</style>\n",
              "<table border=\"1\" class=\"dataframe\">\n",
              "  <thead>\n",
              "    <tr style=\"text-align: right;\">\n",
              "      <th></th>\n",
              "      <th>sepal_length</th>\n",
              "      <th>sepal_width</th>\n",
              "      <th>petal_length</th>\n",
              "      <th>petal_width</th>\n",
              "      <th>species</th>\n",
              "    </tr>\n",
              "  </thead>\n",
              "  <tbody>\n",
              "    <tr>\n",
              "      <th>0</th>\n",
              "      <td>5.1</td>\n",
              "      <td>3.5</td>\n",
              "      <td>1.4</td>\n",
              "      <td>0.2</td>\n",
              "      <td>setosa</td>\n",
              "    </tr>\n",
              "    <tr>\n",
              "      <th>1</th>\n",
              "      <td>4.9</td>\n",
              "      <td>3.0</td>\n",
              "      <td>1.4</td>\n",
              "      <td>0.2</td>\n",
              "      <td>setosa</td>\n",
              "    </tr>\n",
              "    <tr>\n",
              "      <th>2</th>\n",
              "      <td>4.7</td>\n",
              "      <td>3.2</td>\n",
              "      <td>1.3</td>\n",
              "      <td>0.2</td>\n",
              "      <td>setosa</td>\n",
              "    </tr>\n",
              "  </tbody>\n",
              "</table>\n",
              "</div>\n",
              "    <div class=\"colab-df-buttons\">\n",
              "\n",
              "  <div class=\"colab-df-container\">\n",
              "    <button class=\"colab-df-convert\" onclick=\"convertToInteractive('df-1e36601c-6533-43db-a6a0-f4bfaaebf580')\"\n",
              "            title=\"Convert this dataframe to an interactive table.\"\n",
              "            style=\"display:none;\">\n",
              "\n",
              "  <svg xmlns=\"http://www.w3.org/2000/svg\" height=\"24px\" viewBox=\"0 -960 960 960\">\n",
              "    <path d=\"M120-120v-720h720v720H120Zm60-500h600v-160H180v160Zm220 220h160v-160H400v160Zm0 220h160v-160H400v160ZM180-400h160v-160H180v160Zm440 0h160v-160H620v160ZM180-180h160v-160H180v160Zm440 0h160v-160H620v160Z\"/>\n",
              "  </svg>\n",
              "    </button>\n",
              "\n",
              "  <style>\n",
              "    .colab-df-container {\n",
              "      display:flex;\n",
              "      gap: 12px;\n",
              "    }\n",
              "\n",
              "    .colab-df-convert {\n",
              "      background-color: #E8F0FE;\n",
              "      border: none;\n",
              "      border-radius: 50%;\n",
              "      cursor: pointer;\n",
              "      display: none;\n",
              "      fill: #1967D2;\n",
              "      height: 32px;\n",
              "      padding: 0 0 0 0;\n",
              "      width: 32px;\n",
              "    }\n",
              "\n",
              "    .colab-df-convert:hover {\n",
              "      background-color: #E2EBFA;\n",
              "      box-shadow: 0px 1px 2px rgba(60, 64, 67, 0.3), 0px 1px 3px 1px rgba(60, 64, 67, 0.15);\n",
              "      fill: #174EA6;\n",
              "    }\n",
              "\n",
              "    .colab-df-buttons div {\n",
              "      margin-bottom: 4px;\n",
              "    }\n",
              "\n",
              "    [theme=dark] .colab-df-convert {\n",
              "      background-color: #3B4455;\n",
              "      fill: #D2E3FC;\n",
              "    }\n",
              "\n",
              "    [theme=dark] .colab-df-convert:hover {\n",
              "      background-color: #434B5C;\n",
              "      box-shadow: 0px 1px 3px 1px rgba(0, 0, 0, 0.15);\n",
              "      filter: drop-shadow(0px 1px 2px rgba(0, 0, 0, 0.3));\n",
              "      fill: #FFFFFF;\n",
              "    }\n",
              "  </style>\n",
              "\n",
              "    <script>\n",
              "      const buttonEl =\n",
              "        document.querySelector('#df-1e36601c-6533-43db-a6a0-f4bfaaebf580 button.colab-df-convert');\n",
              "      buttonEl.style.display =\n",
              "        google.colab.kernel.accessAllowed ? 'block' : 'none';\n",
              "\n",
              "      async function convertToInteractive(key) {\n",
              "        const element = document.querySelector('#df-1e36601c-6533-43db-a6a0-f4bfaaebf580');\n",
              "        const dataTable =\n",
              "          await google.colab.kernel.invokeFunction('convertToInteractive',\n",
              "                                                    [key], {});\n",
              "        if (!dataTable) return;\n",
              "\n",
              "        const docLinkHtml = 'Like what you see? Visit the ' +\n",
              "          '<a target=\"_blank\" href=https://colab.research.google.com/notebooks/data_table.ipynb>data table notebook</a>'\n",
              "          + ' to learn more about interactive tables.';\n",
              "        element.innerHTML = '';\n",
              "        dataTable['output_type'] = 'display_data';\n",
              "        await google.colab.output.renderOutput(dataTable, element);\n",
              "        const docLink = document.createElement('div');\n",
              "        docLink.innerHTML = docLinkHtml;\n",
              "        element.appendChild(docLink);\n",
              "      }\n",
              "    </script>\n",
              "  </div>\n",
              "\n",
              "\n",
              "<div id=\"df-9ae1bd7b-bc70-4770-9b74-ab571af8f7ac\">\n",
              "  <button class=\"colab-df-quickchart\" onclick=\"quickchart('df-9ae1bd7b-bc70-4770-9b74-ab571af8f7ac')\"\n",
              "            title=\"Suggest charts.\"\n",
              "            style=\"display:none;\">\n",
              "\n",
              "<svg xmlns=\"http://www.w3.org/2000/svg\" height=\"24px\"viewBox=\"0 0 24 24\"\n",
              "     width=\"24px\">\n",
              "    <g>\n",
              "        <path d=\"M19 3H5c-1.1 0-2 .9-2 2v14c0 1.1.9 2 2 2h14c1.1 0 2-.9 2-2V5c0-1.1-.9-2-2-2zM9 17H7v-7h2v7zm4 0h-2V7h2v10zm4 0h-2v-4h2v4z\"/>\n",
              "    </g>\n",
              "</svg>\n",
              "  </button>\n",
              "\n",
              "<style>\n",
              "  .colab-df-quickchart {\n",
              "      --bg-color: #E8F0FE;\n",
              "      --fill-color: #1967D2;\n",
              "      --hover-bg-color: #E2EBFA;\n",
              "      --hover-fill-color: #174EA6;\n",
              "      --disabled-fill-color: #AAA;\n",
              "      --disabled-bg-color: #DDD;\n",
              "  }\n",
              "\n",
              "  [theme=dark] .colab-df-quickchart {\n",
              "      --bg-color: #3B4455;\n",
              "      --fill-color: #D2E3FC;\n",
              "      --hover-bg-color: #434B5C;\n",
              "      --hover-fill-color: #FFFFFF;\n",
              "      --disabled-bg-color: #3B4455;\n",
              "      --disabled-fill-color: #666;\n",
              "  }\n",
              "\n",
              "  .colab-df-quickchart {\n",
              "    background-color: var(--bg-color);\n",
              "    border: none;\n",
              "    border-radius: 50%;\n",
              "    cursor: pointer;\n",
              "    display: none;\n",
              "    fill: var(--fill-color);\n",
              "    height: 32px;\n",
              "    padding: 0;\n",
              "    width: 32px;\n",
              "  }\n",
              "\n",
              "  .colab-df-quickchart:hover {\n",
              "    background-color: var(--hover-bg-color);\n",
              "    box-shadow: 0 1px 2px rgba(60, 64, 67, 0.3), 0 1px 3px 1px rgba(60, 64, 67, 0.15);\n",
              "    fill: var(--button-hover-fill-color);\n",
              "  }\n",
              "\n",
              "  .colab-df-quickchart-complete:disabled,\n",
              "  .colab-df-quickchart-complete:disabled:hover {\n",
              "    background-color: var(--disabled-bg-color);\n",
              "    fill: var(--disabled-fill-color);\n",
              "    box-shadow: none;\n",
              "  }\n",
              "\n",
              "  .colab-df-spinner {\n",
              "    border: 2px solid var(--fill-color);\n",
              "    border-color: transparent;\n",
              "    border-bottom-color: var(--fill-color);\n",
              "    animation:\n",
              "      spin 1s steps(1) infinite;\n",
              "  }\n",
              "\n",
              "  @keyframes spin {\n",
              "    0% {\n",
              "      border-color: transparent;\n",
              "      border-bottom-color: var(--fill-color);\n",
              "      border-left-color: var(--fill-color);\n",
              "    }\n",
              "    20% {\n",
              "      border-color: transparent;\n",
              "      border-left-color: var(--fill-color);\n",
              "      border-top-color: var(--fill-color);\n",
              "    }\n",
              "    30% {\n",
              "      border-color: transparent;\n",
              "      border-left-color: var(--fill-color);\n",
              "      border-top-color: var(--fill-color);\n",
              "      border-right-color: var(--fill-color);\n",
              "    }\n",
              "    40% {\n",
              "      border-color: transparent;\n",
              "      border-right-color: var(--fill-color);\n",
              "      border-top-color: var(--fill-color);\n",
              "    }\n",
              "    60% {\n",
              "      border-color: transparent;\n",
              "      border-right-color: var(--fill-color);\n",
              "    }\n",
              "    80% {\n",
              "      border-color: transparent;\n",
              "      border-right-color: var(--fill-color);\n",
              "      border-bottom-color: var(--fill-color);\n",
              "    }\n",
              "    90% {\n",
              "      border-color: transparent;\n",
              "      border-bottom-color: var(--fill-color);\n",
              "    }\n",
              "  }\n",
              "</style>\n",
              "\n",
              "  <script>\n",
              "    async function quickchart(key) {\n",
              "      const quickchartButtonEl =\n",
              "        document.querySelector('#' + key + ' button');\n",
              "      quickchartButtonEl.disabled = true;  // To prevent multiple clicks.\n",
              "      quickchartButtonEl.classList.add('colab-df-spinner');\n",
              "      try {\n",
              "        const charts = await google.colab.kernel.invokeFunction(\n",
              "            'suggestCharts', [key], {});\n",
              "      } catch (error) {\n",
              "        console.error('Error during call to suggestCharts:', error);\n",
              "      }\n",
              "      quickchartButtonEl.classList.remove('colab-df-spinner');\n",
              "      quickchartButtonEl.classList.add('colab-df-quickchart-complete');\n",
              "    }\n",
              "    (() => {\n",
              "      let quickchartButtonEl =\n",
              "        document.querySelector('#df-9ae1bd7b-bc70-4770-9b74-ab571af8f7ac button');\n",
              "      quickchartButtonEl.style.display =\n",
              "        google.colab.kernel.accessAllowed ? 'block' : 'none';\n",
              "    })();\n",
              "  </script>\n",
              "</div>\n",
              "    </div>\n",
              "  </div>\n"
            ]
          },
          "metadata": {},
          "execution_count": 8
        }
      ]
    },
    {
      "cell_type": "code",
      "source": [
        "import tensorflow\n",
        "\n",
        "tensorflow.__version__"
      ],
      "metadata": {
        "colab": {
          "base_uri": "https://localhost:8080/",
          "height": 35
        },
        "id": "W8P8Y4__xYfb",
        "outputId": "2f8a566e-ebe4-40f6-c3ce-2b2af4072a1d"
      },
      "execution_count": 9,
      "outputs": [
        {
          "output_type": "execute_result",
          "data": {
            "text/plain": [
              "'2.13.0'"
            ],
            "application/vnd.google.colaboratory.intrinsic+json": {
              "type": "string"
            }
          },
          "metadata": {},
          "execution_count": 9
        }
      ]
    },
    {
      "cell_type": "code",
      "source": [
        "import keras\n",
        "\n",
        "keras.__version__"
      ],
      "metadata": {
        "colab": {
          "base_uri": "https://localhost:8080/",
          "height": 35
        },
        "id": "w0GPQjMkxjT4",
        "outputId": "51e9320a-431e-4207-fd33-b52927d6db4e"
      },
      "execution_count": 10,
      "outputs": [
        {
          "output_type": "execute_result",
          "data": {
            "text/plain": [
              "'2.13.1'"
            ],
            "application/vnd.google.colaboratory.intrinsic+json": {
              "type": "string"
            }
          },
          "metadata": {},
          "execution_count": 10
        }
      ]
    },
    {
      "cell_type": "code",
      "source": [
        "iris.species.value_counts()"
      ],
      "metadata": {
        "colab": {
          "base_uri": "https://localhost:8080/"
        },
        "id": "LRquzDwAxxHm",
        "outputId": "e1be7508-4704-4d9c-b9f2-783dbad5051f"
      },
      "execution_count": 11,
      "outputs": [
        {
          "output_type": "execute_result",
          "data": {
            "text/plain": [
              "setosa        50\n",
              "versicolor    50\n",
              "virginica     50\n",
              "Name: species, dtype: int64"
            ]
          },
          "metadata": {},
          "execution_count": 11
        }
      ]
    },
    {
      "cell_type": "code",
      "source": [
        "X = iris[['sepal_length', 'sepal_width', 'petal_length', 'petal_width']]\n",
        "y = iris['species']\n",
        "\n",
        "X.shape, y.shape"
      ],
      "metadata": {
        "colab": {
          "base_uri": "https://localhost:8080/"
        },
        "id": "c_Ef2KMtx6ds",
        "outputId": "45ddfe3e-d09f-4083-b38c-8649a631ccc5"
      },
      "execution_count": 15,
      "outputs": [
        {
          "output_type": "execute_result",
          "data": {
            "text/plain": [
              "((150, 4), (150,))"
            ]
          },
          "metadata": {},
          "execution_count": 15
        }
      ]
    },
    {
      "cell_type": "code",
      "source": [
        "from sklearn.preprocessing import LabelEncoder\n",
        "encoder = LabelEncoder()\n",
        "\n",
        "LBE_y = encoder.fit_transform(y)\n",
        "LBE_y"
      ],
      "metadata": {
        "colab": {
          "base_uri": "https://localhost:8080/"
        },
        "id": "B4DGgbbiy6Bs",
        "outputId": "72ad47af-0728-4d0e-aad7-9692cb18c391"
      },
      "execution_count": 18,
      "outputs": [
        {
          "output_type": "execute_result",
          "data": {
            "text/plain": [
              "array([0, 0, 0, 0, 0, 0, 0, 0, 0, 0, 0, 0, 0, 0, 0, 0, 0, 0, 0, 0, 0, 0,\n",
              "       0, 0, 0, 0, 0, 0, 0, 0, 0, 0, 0, 0, 0, 0, 0, 0, 0, 0, 0, 0, 0, 0,\n",
              "       0, 0, 0, 0, 0, 0, 1, 1, 1, 1, 1, 1, 1, 1, 1, 1, 1, 1, 1, 1, 1, 1,\n",
              "       1, 1, 1, 1, 1, 1, 1, 1, 1, 1, 1, 1, 1, 1, 1, 1, 1, 1, 1, 1, 1, 1,\n",
              "       1, 1, 1, 1, 1, 1, 1, 1, 1, 1, 1, 1, 2, 2, 2, 2, 2, 2, 2, 2, 2, 2,\n",
              "       2, 2, 2, 2, 2, 2, 2, 2, 2, 2, 2, 2, 2, 2, 2, 2, 2, 2, 2, 2, 2, 2,\n",
              "       2, 2, 2, 2, 2, 2, 2, 2, 2, 2, 2, 2, 2, 2, 2, 2, 2, 2])"
            ]
          },
          "metadata": {},
          "execution_count": 18
        }
      ]
    },
    {
      "cell_type": "code",
      "source": [
        "from tensorflow.keras.utils import to_categorical\n",
        "OHE_y = to_categorical(LBE_y)\n",
        "OHE_y"
      ],
      "metadata": {
        "colab": {
          "base_uri": "https://localhost:8080/"
        },
        "id": "KUxsJ1a3zcIT",
        "outputId": "d202001c-c720-4bb9-b983-7d9dde80ad13"
      },
      "execution_count": 19,
      "outputs": [
        {
          "output_type": "execute_result",
          "data": {
            "text/plain": [
              "array([[1., 0., 0.],\n",
              "       [1., 0., 0.],\n",
              "       [1., 0., 0.],\n",
              "       [1., 0., 0.],\n",
              "       [1., 0., 0.],\n",
              "       [1., 0., 0.],\n",
              "       [1., 0., 0.],\n",
              "       [1., 0., 0.],\n",
              "       [1., 0., 0.],\n",
              "       [1., 0., 0.],\n",
              "       [1., 0., 0.],\n",
              "       [1., 0., 0.],\n",
              "       [1., 0., 0.],\n",
              "       [1., 0., 0.],\n",
              "       [1., 0., 0.],\n",
              "       [1., 0., 0.],\n",
              "       [1., 0., 0.],\n",
              "       [1., 0., 0.],\n",
              "       [1., 0., 0.],\n",
              "       [1., 0., 0.],\n",
              "       [1., 0., 0.],\n",
              "       [1., 0., 0.],\n",
              "       [1., 0., 0.],\n",
              "       [1., 0., 0.],\n",
              "       [1., 0., 0.],\n",
              "       [1., 0., 0.],\n",
              "       [1., 0., 0.],\n",
              "       [1., 0., 0.],\n",
              "       [1., 0., 0.],\n",
              "       [1., 0., 0.],\n",
              "       [1., 0., 0.],\n",
              "       [1., 0., 0.],\n",
              "       [1., 0., 0.],\n",
              "       [1., 0., 0.],\n",
              "       [1., 0., 0.],\n",
              "       [1., 0., 0.],\n",
              "       [1., 0., 0.],\n",
              "       [1., 0., 0.],\n",
              "       [1., 0., 0.],\n",
              "       [1., 0., 0.],\n",
              "       [1., 0., 0.],\n",
              "       [1., 0., 0.],\n",
              "       [1., 0., 0.],\n",
              "       [1., 0., 0.],\n",
              "       [1., 0., 0.],\n",
              "       [1., 0., 0.],\n",
              "       [1., 0., 0.],\n",
              "       [1., 0., 0.],\n",
              "       [1., 0., 0.],\n",
              "       [1., 0., 0.],\n",
              "       [0., 1., 0.],\n",
              "       [0., 1., 0.],\n",
              "       [0., 1., 0.],\n",
              "       [0., 1., 0.],\n",
              "       [0., 1., 0.],\n",
              "       [0., 1., 0.],\n",
              "       [0., 1., 0.],\n",
              "       [0., 1., 0.],\n",
              "       [0., 1., 0.],\n",
              "       [0., 1., 0.],\n",
              "       [0., 1., 0.],\n",
              "       [0., 1., 0.],\n",
              "       [0., 1., 0.],\n",
              "       [0., 1., 0.],\n",
              "       [0., 1., 0.],\n",
              "       [0., 1., 0.],\n",
              "       [0., 1., 0.],\n",
              "       [0., 1., 0.],\n",
              "       [0., 1., 0.],\n",
              "       [0., 1., 0.],\n",
              "       [0., 1., 0.],\n",
              "       [0., 1., 0.],\n",
              "       [0., 1., 0.],\n",
              "       [0., 1., 0.],\n",
              "       [0., 1., 0.],\n",
              "       [0., 1., 0.],\n",
              "       [0., 1., 0.],\n",
              "       [0., 1., 0.],\n",
              "       [0., 1., 0.],\n",
              "       [0., 1., 0.],\n",
              "       [0., 1., 0.],\n",
              "       [0., 1., 0.],\n",
              "       [0., 1., 0.],\n",
              "       [0., 1., 0.],\n",
              "       [0., 1., 0.],\n",
              "       [0., 1., 0.],\n",
              "       [0., 1., 0.],\n",
              "       [0., 1., 0.],\n",
              "       [0., 1., 0.],\n",
              "       [0., 1., 0.],\n",
              "       [0., 1., 0.],\n",
              "       [0., 1., 0.],\n",
              "       [0., 1., 0.],\n",
              "       [0., 1., 0.],\n",
              "       [0., 1., 0.],\n",
              "       [0., 1., 0.],\n",
              "       [0., 1., 0.],\n",
              "       [0., 1., 0.],\n",
              "       [0., 1., 0.],\n",
              "       [0., 1., 0.],\n",
              "       [0., 0., 1.],\n",
              "       [0., 0., 1.],\n",
              "       [0., 0., 1.],\n",
              "       [0., 0., 1.],\n",
              "       [0., 0., 1.],\n",
              "       [0., 0., 1.],\n",
              "       [0., 0., 1.],\n",
              "       [0., 0., 1.],\n",
              "       [0., 0., 1.],\n",
              "       [0., 0., 1.],\n",
              "       [0., 0., 1.],\n",
              "       [0., 0., 1.],\n",
              "       [0., 0., 1.],\n",
              "       [0., 0., 1.],\n",
              "       [0., 0., 1.],\n",
              "       [0., 0., 1.],\n",
              "       [0., 0., 1.],\n",
              "       [0., 0., 1.],\n",
              "       [0., 0., 1.],\n",
              "       [0., 0., 1.],\n",
              "       [0., 0., 1.],\n",
              "       [0., 0., 1.],\n",
              "       [0., 0., 1.],\n",
              "       [0., 0., 1.],\n",
              "       [0., 0., 1.],\n",
              "       [0., 0., 1.],\n",
              "       [0., 0., 1.],\n",
              "       [0., 0., 1.],\n",
              "       [0., 0., 1.],\n",
              "       [0., 0., 1.],\n",
              "       [0., 0., 1.],\n",
              "       [0., 0., 1.],\n",
              "       [0., 0., 1.],\n",
              "       [0., 0., 1.],\n",
              "       [0., 0., 1.],\n",
              "       [0., 0., 1.],\n",
              "       [0., 0., 1.],\n",
              "       [0., 0., 1.],\n",
              "       [0., 0., 1.],\n",
              "       [0., 0., 1.],\n",
              "       [0., 0., 1.],\n",
              "       [0., 0., 1.],\n",
              "       [0., 0., 1.],\n",
              "       [0., 0., 1.],\n",
              "       [0., 0., 1.],\n",
              "       [0., 0., 1.],\n",
              "       [0., 0., 1.],\n",
              "       [0., 0., 1.],\n",
              "       [0., 0., 1.],\n",
              "       [0., 0., 1.]], dtype=float32)"
            ]
          },
          "metadata": {},
          "execution_count": 19
        }
      ]
    },
    {
      "cell_type": "code",
      "source": [
        "from sklearn.model_selection import train_test_split\n",
        "X_train, X_test, y_train, y_test = train_test_split(X, OHE_y,\n",
        "                                                    test_size=0.3,\n",
        "                                                    random_state=2045)\n",
        "\n",
        "X_train.shape, X_test.shape, y_train.shape, y_test.shape"
      ],
      "metadata": {
        "colab": {
          "base_uri": "https://localhost:8080/"
        },
        "id": "L_jfBWnE0BLN",
        "outputId": "c841aa6b-c7f1-4cfc-d5e0-25137f0c4f95"
      },
      "execution_count": 20,
      "outputs": [
        {
          "output_type": "execute_result",
          "data": {
            "text/plain": [
              "((105, 4), (45, 4), (105, 3), (45, 3))"
            ]
          },
          "metadata": {},
          "execution_count": 20
        }
      ]
    },
    {
      "cell_type": "code",
      "source": [
        "from tensorflow.keras import models\n",
        "from tensorflow.keras import layers"
      ],
      "metadata": {
        "id": "aVf34Lce0rHz"
      },
      "execution_count": 21,
      "outputs": []
    },
    {
      "cell_type": "code",
      "source": [
        "Model_iris = models.Sequential()\n",
        "\n",
        "Model_iris.add(layers.Dense(16, activation='relu', input_shape=(4,)))\n",
        "Model_iris.add(layers.Dense(8, activation='relu'))\n",
        "Model_iris.add(layers.Dense(3, activation='softmax'))"
      ],
      "metadata": {
        "id": "KWaGjwlV01bH"
      },
      "execution_count": 24,
      "outputs": []
    },
    {
      "cell_type": "code",
      "source": [
        "Model_iris.summary()"
      ],
      "metadata": {
        "colab": {
          "base_uri": "https://localhost:8080/"
        },
        "id": "0cApgiD61zu_",
        "outputId": "3ad35165-5487-48d3-f22f-408371be9b14"
      },
      "execution_count": 26,
      "outputs": [
        {
          "output_type": "stream",
          "name": "stdout",
          "text": [
            "Model: \"sequential_1\"\n",
            "_________________________________________________________________\n",
            " Layer (type)                Output Shape              Param #   \n",
            "=================================================================\n",
            " dense (Dense)               (None, 16)                80        \n",
            "                                                                 \n",
            " dense_1 (Dense)             (None, 8)                 136       \n",
            "                                                                 \n",
            " dense_2 (Dense)             (None, 3)                 27        \n",
            "                                                                 \n",
            "=================================================================\n",
            "Total params: 243 (972.00 Byte)\n",
            "Trainable params: 243 (972.00 Byte)\n",
            "Non-trainable params: 0 (0.00 Byte)\n",
            "_________________________________________________________________\n"
          ]
        }
      ]
    },
    {
      "cell_type": "code",
      "source": [
        "from tensorflow.keras import utils\n",
        "\n",
        "utils.plot_model(Model_iris,\n",
        "                 show_shapes=True,\n",
        "                 show_dtype=True)"
      ],
      "metadata": {
        "colab": {
          "base_uri": "https://localhost:8080/",
          "height": 545
        },
        "id": "QTzKZTv_1-VY",
        "outputId": "76207fa6-deca-403c-93f6-1dd0bb168eaf"
      },
      "execution_count": 29,
      "outputs": [
        {
          "output_type": "execute_result",
          "data": {
            "image/png": "[encoded data removed]",
            "text/plain": [
              "<IPython.core.display.Image object>"
            ]
          },
          "metadata": {},
          "execution_count": 29
        }
      ]
    },
    {
      "cell_type": "code",
      "source": [
        "Model_iris.compile(loss = 'categorical_crossentropy',\n",
        "                   optimizer='adam',\n",
        "                   metrics=['accuracy'])"
      ],
      "metadata": {
        "id": "YUsLmJhH2bVA"
      },
      "execution_count": 30,
      "outputs": []
    },
    {
      "cell_type": "code",
      "source": [
        "from sklearn.utils import validation\n",
        "history_iris = Model_iris.fit(X_train, y_train,\n",
        "                              epochs=250,\n",
        "                              batch_size = 7,\n",
        "                              validation_data=(X_test, y_test))"
      ],
      "metadata": {
        "colab": {
          "base_uri": "https://localhost:8080/"
        },
        "id": "G02HL7xA23eX",
        "outputId": "9c80416c-8196-4f93-d2e5-87802cef7689"
      },
      "execution_count": 33,
      "outputs": [
        {
          "output_type": "stream",
          "name": "stdout",
          "text": [
            "Epoch 1/250\n",
            "15/15 [==============================] - 0s 6ms/step - loss: 0.0675 - accuracy: 0.9905 - val_loss: 0.0401 - val_accuracy: 0.9778\n",
            "Epoch 2/250\n",
            "15/15 [==============================] - 0s 4ms/step - loss: 0.0732 - accuracy: 0.9810 - val_loss: 0.0322 - val_accuracy: 0.9778\n",
            "Epoch 3/250\n",
            "15/15 [==============================] - 0s 4ms/step - loss: 0.0753 - accuracy: 0.9714 - val_loss: 0.0285 - val_accuracy: 1.0000\n",
            "Epoch 4/250\n",
            "15/15 [==============================] - 0s 3ms/step - loss: 0.0694 - accuracy: 0.9810 - val_loss: 0.0376 - val_accuracy: 0.9778\n",
            "Epoch 5/250\n",
            "15/15 [==============================] - 0s 3ms/step - loss: 0.0728 - accuracy: 0.9905 - val_loss: 0.0281 - val_accuracy: 1.0000\n",
            "Epoch 6/250\n",
            "15/15 [==============================] - 0s 4ms/step - loss: 0.0832 - accuracy: 0.9714 - val_loss: 0.0375 - val_accuracy: 0.9778\n",
            "Epoch 7/250\n",
            "15/15 [==============================] - 0s 3ms/step - loss: 0.0660 - accuracy: 0.9905 - val_loss: 0.0279 - val_accuracy: 1.0000\n",
            "Epoch 8/250\n",
            "15/15 [==============================] - 0s 4ms/step - loss: 0.0726 - accuracy: 0.9810 - val_loss: 0.0305 - val_accuracy: 0.9778\n",
            "Epoch 9/250\n",
            "15/15 [==============================] - 0s 3ms/step - loss: 0.0723 - accuracy: 0.9714 - val_loss: 0.0300 - val_accuracy: 0.9778\n",
            "Epoch 10/250\n",
            "15/15 [==============================] - 0s 3ms/step - loss: 0.0767 - accuracy: 0.9810 - val_loss: 0.0415 - val_accuracy: 0.9778\n",
            "Epoch 11/250\n",
            "15/15 [==============================] - 0s 3ms/step - loss: 0.0649 - accuracy: 0.9905 - val_loss: 0.0264 - val_accuracy: 1.0000\n",
            "Epoch 12/250\n",
            "15/15 [==============================] - 0s 4ms/step - loss: 0.0797 - accuracy: 0.9714 - val_loss: 0.0337 - val_accuracy: 0.9778\n",
            "Epoch 13/250\n",
            "15/15 [==============================] - 0s 4ms/step - loss: 0.0754 - accuracy: 0.9714 - val_loss: 0.0310 - val_accuracy: 0.9778\n",
            "Epoch 14/250\n",
            "15/15 [==============================] - 0s 4ms/step - loss: 0.0700 - accuracy: 0.9714 - val_loss: 0.0301 - val_accuracy: 0.9778\n",
            "Epoch 15/250\n",
            "15/15 [==============================] - 0s 4ms/step - loss: 0.0705 - accuracy: 0.9810 - val_loss: 0.0343 - val_accuracy: 0.9778\n",
            "Epoch 16/250\n",
            "15/15 [==============================] - 0s 3ms/step - loss: 0.0726 - accuracy: 0.9905 - val_loss: 0.0339 - val_accuracy: 0.9778\n",
            "Epoch 17/250\n",
            "15/15 [==============================] - 0s 4ms/step - loss: 0.0695 - accuracy: 0.9905 - val_loss: 0.0318 - val_accuracy: 0.9778\n",
            "Epoch 18/250\n",
            "15/15 [==============================] - 0s 4ms/step - loss: 0.0702 - accuracy: 0.9714 - val_loss: 0.0312 - val_accuracy: 0.9778\n",
            "Epoch 19/250\n",
            "15/15 [==============================] - 0s 4ms/step - loss: 0.0685 - accuracy: 0.9905 - val_loss: 0.0358 - val_accuracy: 0.9778\n",
            "Epoch 20/250\n",
            "15/15 [==============================] - 0s 4ms/step - loss: 0.0733 - accuracy: 0.9714 - val_loss: 0.0289 - val_accuracy: 0.9778\n",
            "Epoch 21/250\n",
            "15/15 [==============================] - 0s 4ms/step - loss: 0.0695 - accuracy: 0.9905 - val_loss: 0.0391 - val_accuracy: 0.9778\n",
            "Epoch 22/250\n",
            "15/15 [==============================] - 0s 4ms/step - loss: 0.0722 - accuracy: 0.9810 - val_loss: 0.0278 - val_accuracy: 0.9778\n",
            "Epoch 23/250\n",
            "15/15 [==============================] - 0s 4ms/step - loss: 0.0681 - accuracy: 0.9905 - val_loss: 0.0340 - val_accuracy: 0.9778\n",
            "Epoch 24/250\n",
            "15/15 [==============================] - 0s 4ms/step - loss: 0.0681 - accuracy: 0.9905 - val_loss: 0.0303 - val_accuracy: 0.9778\n",
            "Epoch 25/250\n",
            "15/15 [==============================] - 0s 4ms/step - loss: 0.0695 - accuracy: 0.9810 - val_loss: 0.0304 - val_accuracy: 0.9778\n",
            "Epoch 26/250\n",
            "15/15 [==============================] - 0s 4ms/step - loss: 0.0692 - accuracy: 0.9905 - val_loss: 0.0295 - val_accuracy: 0.9778\n",
            "Epoch 27/250\n",
            "15/15 [==============================] - 0s 4ms/step - loss: 0.0774 - accuracy: 0.9714 - val_loss: 0.0285 - val_accuracy: 0.9778\n",
            "Epoch 28/250\n",
            "15/15 [==============================] - 0s 4ms/step - loss: 0.0691 - accuracy: 0.9905 - val_loss: 0.0376 - val_accuracy: 0.9778\n",
            "Epoch 29/250\n",
            "15/15 [==============================] - 0s 3ms/step - loss: 0.0688 - accuracy: 0.9905 - val_loss: 0.0277 - val_accuracy: 0.9778\n",
            "Epoch 30/250\n",
            "15/15 [==============================] - 0s 3ms/step - loss: 0.0700 - accuracy: 0.9714 - val_loss: 0.0322 - val_accuracy: 0.9778\n",
            "Epoch 31/250\n",
            "15/15 [==============================] - 0s 5ms/step - loss: 0.0684 - accuracy: 0.9810 - val_loss: 0.0301 - val_accuracy: 0.9778\n",
            "Epoch 32/250\n",
            "15/15 [==============================] - 0s 4ms/step - loss: 0.0721 - accuracy: 0.9810 - val_loss: 0.0376 - val_accuracy: 0.9778\n",
            "Epoch 33/250\n",
            "15/15 [==============================] - 0s 5ms/step - loss: 0.0724 - accuracy: 0.9905 - val_loss: 0.0361 - val_accuracy: 0.9778\n",
            "Epoch 34/250\n",
            "15/15 [==============================] - 0s 4ms/step - loss: 0.0718 - accuracy: 0.9810 - val_loss: 0.0348 - val_accuracy: 0.9778\n",
            "Epoch 35/250\n",
            "15/15 [==============================] - 0s 4ms/step - loss: 0.0686 - accuracy: 0.9810 - val_loss: 0.0325 - val_accuracy: 0.9778\n",
            "Epoch 36/250\n",
            "15/15 [==============================] - 0s 3ms/step - loss: 0.0717 - accuracy: 0.9810 - val_loss: 0.0343 - val_accuracy: 0.9778\n",
            "Epoch 37/250\n",
            "15/15 [==============================] - 0s 4ms/step - loss: 0.0744 - accuracy: 0.9810 - val_loss: 0.0252 - val_accuracy: 1.0000\n",
            "Epoch 38/250\n",
            "15/15 [==============================] - 0s 4ms/step - loss: 0.0753 - accuracy: 0.9905 - val_loss: 0.0326 - val_accuracy: 0.9778\n",
            "Epoch 39/250\n",
            "15/15 [==============================] - 0s 4ms/step - loss: 0.0675 - accuracy: 0.9905 - val_loss: 0.0311 - val_accuracy: 0.9778\n",
            "Epoch 40/250\n",
            "15/15 [==============================] - 0s 5ms/step - loss: 0.0703 - accuracy: 0.9714 - val_loss: 0.0302 - val_accuracy: 0.9778\n",
            "Epoch 41/250\n",
            "15/15 [==============================] - 0s 4ms/step - loss: 0.0691 - accuracy: 0.9905 - val_loss: 0.0300 - val_accuracy: 0.9778\n",
            "Epoch 42/250\n",
            "15/15 [==============================] - 0s 5ms/step - loss: 0.0728 - accuracy: 0.9810 - val_loss: 0.0307 - val_accuracy: 0.9778\n",
            "Epoch 43/250\n",
            "15/15 [==============================] - 0s 4ms/step - loss: 0.0687 - accuracy: 0.9905 - val_loss: 0.0358 - val_accuracy: 0.9778\n",
            "Epoch 44/250\n",
            "15/15 [==============================] - 0s 5ms/step - loss: 0.0663 - accuracy: 0.9905 - val_loss: 0.0326 - val_accuracy: 0.9778\n",
            "Epoch 45/250\n",
            "15/15 [==============================] - 0s 5ms/step - loss: 0.0695 - accuracy: 0.9810 - val_loss: 0.0321 - val_accuracy: 0.9778\n",
            "Epoch 46/250\n",
            "15/15 [==============================] - 0s 3ms/step - loss: 0.0678 - accuracy: 0.9810 - val_loss: 0.0336 - val_accuracy: 0.9778\n",
            "Epoch 47/250\n",
            "15/15 [==============================] - 0s 3ms/step - loss: 0.0689 - accuracy: 0.9714 - val_loss: 0.0321 - val_accuracy: 0.9778\n",
            "Epoch 48/250\n",
            "15/15 [==============================] - 0s 4ms/step - loss: 0.0703 - accuracy: 0.9810 - val_loss: 0.0297 - val_accuracy: 0.9778\n",
            "Epoch 49/250\n",
            "15/15 [==============================] - 0s 3ms/step - loss: 0.0702 - accuracy: 0.9810 - val_loss: 0.0314 - val_accuracy: 0.9778\n",
            "Epoch 50/250\n",
            "15/15 [==============================] - 0s 4ms/step - loss: 0.0662 - accuracy: 0.9810 - val_loss: 0.0314 - val_accuracy: 0.9778\n",
            "Epoch 51/250\n",
            "15/15 [==============================] - 0s 3ms/step - loss: 0.0687 - accuracy: 0.9905 - val_loss: 0.0345 - val_accuracy: 0.9778\n",
            "Epoch 52/250\n",
            "15/15 [==============================] - 0s 3ms/step - loss: 0.0708 - accuracy: 0.9905 - val_loss: 0.0361 - val_accuracy: 0.9778\n",
            "Epoch 53/250\n",
            "15/15 [==============================] - 0s 3ms/step - loss: 0.0619 - accuracy: 0.9905 - val_loss: 0.0261 - val_accuracy: 0.9778\n",
            "Epoch 54/250\n",
            "15/15 [==============================] - 0s 4ms/step - loss: 0.0707 - accuracy: 0.9714 - val_loss: 0.0313 - val_accuracy: 0.9778\n",
            "Epoch 55/250\n",
            "15/15 [==============================] - 0s 4ms/step - loss: 0.0661 - accuracy: 0.9905 - val_loss: 0.0323 - val_accuracy: 0.9778\n",
            "Epoch 56/250\n",
            "15/15 [==============================] - 0s 4ms/step - loss: 0.0686 - accuracy: 0.9810 - val_loss: 0.0259 - val_accuracy: 1.0000\n",
            "Epoch 57/250\n",
            "15/15 [==============================] - 0s 3ms/step - loss: 0.0712 - accuracy: 0.9905 - val_loss: 0.0323 - val_accuracy: 0.9778\n",
            "Epoch 58/250\n",
            "15/15 [==============================] - 0s 3ms/step - loss: 0.0652 - accuracy: 0.9905 - val_loss: 0.0298 - val_accuracy: 0.9778\n",
            "Epoch 59/250\n",
            "15/15 [==============================] - 0s 4ms/step - loss: 0.0638 - accuracy: 0.9810 - val_loss: 0.0326 - val_accuracy: 0.9778\n",
            "Epoch 60/250\n",
            "15/15 [==============================] - 0s 4ms/step - loss: 0.0665 - accuracy: 0.9905 - val_loss: 0.0343 - val_accuracy: 0.9778\n",
            "Epoch 61/250\n",
            "15/15 [==============================] - 0s 3ms/step - loss: 0.0654 - accuracy: 0.9810 - val_loss: 0.0268 - val_accuracy: 0.9778\n",
            "Epoch 62/250\n",
            "15/15 [==============================] - 0s 3ms/step - loss: 0.0651 - accuracy: 0.9714 - val_loss: 0.0320 - val_accuracy: 0.9778\n",
            "Epoch 63/250\n",
            "15/15 [==============================] - 0s 4ms/step - loss: 0.0688 - accuracy: 0.9810 - val_loss: 0.0374 - val_accuracy: 0.9778\n",
            "Epoch 64/250\n",
            "15/15 [==============================] - 0s 3ms/step - loss: 0.0699 - accuracy: 0.9619 - val_loss: 0.0299 - val_accuracy: 0.9778\n",
            "Epoch 65/250\n",
            "15/15 [==============================] - 0s 4ms/step - loss: 0.0674 - accuracy: 0.9810 - val_loss: 0.0274 - val_accuracy: 0.9778\n",
            "Epoch 66/250\n",
            "15/15 [==============================] - 0s 4ms/step - loss: 0.0650 - accuracy: 0.9810 - val_loss: 0.0305 - val_accuracy: 0.9778\n",
            "Epoch 67/250\n",
            "15/15 [==============================] - 0s 3ms/step - loss: 0.0653 - accuracy: 0.9810 - val_loss: 0.0300 - val_accuracy: 0.9778\n",
            "Epoch 68/250\n",
            "15/15 [==============================] - 0s 3ms/step - loss: 0.0642 - accuracy: 0.9905 - val_loss: 0.0334 - val_accuracy: 0.9778\n",
            "Epoch 69/250\n",
            "15/15 [==============================] - 0s 3ms/step - loss: 0.0639 - accuracy: 0.9905 - val_loss: 0.0315 - val_accuracy: 0.9778\n",
            "Epoch 70/250\n",
            "15/15 [==============================] - 0s 3ms/step - loss: 0.0652 - accuracy: 0.9810 - val_loss: 0.0286 - val_accuracy: 0.9778\n",
            "Epoch 71/250\n",
            "15/15 [==============================] - 0s 3ms/step - loss: 0.0655 - accuracy: 0.9905 - val_loss: 0.0318 - val_accuracy: 0.9778\n",
            "Epoch 72/250\n",
            "15/15 [==============================] - 0s 3ms/step - loss: 0.0665 - accuracy: 0.9905 - val_loss: 0.0327 - val_accuracy: 0.9778\n",
            "Epoch 73/250\n",
            "15/15 [==============================] - 0s 3ms/step - loss: 0.0658 - accuracy: 0.9810 - val_loss: 0.0280 - val_accuracy: 0.9778\n",
            "Epoch 74/250\n",
            "15/15 [==============================] - 0s 3ms/step - loss: 0.0667 - accuracy: 0.9810 - val_loss: 0.0329 - val_accuracy: 0.9778\n",
            "Epoch 75/250\n",
            "15/15 [==============================] - 0s 3ms/step - loss: 0.0642 - accuracy: 0.9905 - val_loss: 0.0348 - val_accuracy: 0.9778\n",
            "Epoch 76/250\n",
            "15/15 [==============================] - 0s 3ms/step - loss: 0.0663 - accuracy: 0.9905 - val_loss: 0.0330 - val_accuracy: 0.9778\n",
            "Epoch 77/250\n",
            "15/15 [==============================] - 0s 3ms/step - loss: 0.0637 - accuracy: 0.9905 - val_loss: 0.0281 - val_accuracy: 0.9778\n",
            "Epoch 78/250\n",
            "15/15 [==============================] - 0s 3ms/step - loss: 0.0651 - accuracy: 0.9714 - val_loss: 0.0286 - val_accuracy: 0.9778\n",
            "Epoch 79/250\n",
            "15/15 [==============================] - 0s 4ms/step - loss: 0.0653 - accuracy: 0.9905 - val_loss: 0.0299 - val_accuracy: 0.9778\n",
            "Epoch 80/250\n",
            "15/15 [==============================] - 0s 3ms/step - loss: 0.0645 - accuracy: 0.9905 - val_loss: 0.0358 - val_accuracy: 0.9778\n",
            "Epoch 81/250\n",
            "15/15 [==============================] - 0s 3ms/step - loss: 0.0659 - accuracy: 0.9810 - val_loss: 0.0301 - val_accuracy: 0.9778\n",
            "Epoch 82/250\n",
            "15/15 [==============================] - 0s 3ms/step - loss: 0.0641 - accuracy: 0.9905 - val_loss: 0.0279 - val_accuracy: 0.9778\n",
            "Epoch 83/250\n",
            "15/15 [==============================] - 0s 3ms/step - loss: 0.0654 - accuracy: 0.9810 - val_loss: 0.0291 - val_accuracy: 0.9778\n",
            "Epoch 84/250\n",
            "15/15 [==============================] - 0s 4ms/step - loss: 0.0709 - accuracy: 0.9905 - val_loss: 0.0345 - val_accuracy: 0.9778\n",
            "Epoch 85/250\n",
            "15/15 [==============================] - 0s 3ms/step - loss: 0.0777 - accuracy: 0.9714 - val_loss: 0.0293 - val_accuracy: 0.9778\n",
            "Epoch 86/250\n",
            "15/15 [==============================] - 0s 4ms/step - loss: 0.0636 - accuracy: 0.9810 - val_loss: 0.0406 - val_accuracy: 0.9778\n",
            "Epoch 87/250\n",
            "15/15 [==============================] - 0s 3ms/step - loss: 0.0700 - accuracy: 0.9619 - val_loss: 0.0397 - val_accuracy: 0.9778\n",
            "Epoch 88/250\n",
            "15/15 [==============================] - 0s 3ms/step - loss: 0.0667 - accuracy: 0.9714 - val_loss: 0.0240 - val_accuracy: 1.0000\n",
            "Epoch 89/250\n",
            "15/15 [==============================] - 0s 3ms/step - loss: 0.0772 - accuracy: 0.9619 - val_loss: 0.0334 - val_accuracy: 0.9778\n",
            "Epoch 90/250\n",
            "15/15 [==============================] - 0s 3ms/step - loss: 0.0646 - accuracy: 0.9810 - val_loss: 0.0283 - val_accuracy: 0.9778\n",
            "Epoch 91/250\n",
            "15/15 [==============================] - 0s 3ms/step - loss: 0.0695 - accuracy: 0.9810 - val_loss: 0.0363 - val_accuracy: 0.9778\n",
            "Epoch 92/250\n",
            "15/15 [==============================] - 0s 4ms/step - loss: 0.0605 - accuracy: 0.9905 - val_loss: 0.0263 - val_accuracy: 0.9778\n",
            "Epoch 93/250\n",
            "15/15 [==============================] - 0s 4ms/step - loss: 0.0668 - accuracy: 0.9714 - val_loss: 0.0268 - val_accuracy: 0.9778\n",
            "Epoch 94/250\n",
            "15/15 [==============================] - 0s 4ms/step - loss: 0.0634 - accuracy: 0.9810 - val_loss: 0.0348 - val_accuracy: 0.9778\n",
            "Epoch 95/250\n",
            "15/15 [==============================] - 0s 3ms/step - loss: 0.0638 - accuracy: 0.9810 - val_loss: 0.0316 - val_accuracy: 0.9778\n",
            "Epoch 96/250\n",
            "15/15 [==============================] - 0s 4ms/step - loss: 0.0632 - accuracy: 0.9905 - val_loss: 0.0349 - val_accuracy: 0.9778\n",
            "Epoch 97/250\n",
            "15/15 [==============================] - 0s 3ms/step - loss: 0.0693 - accuracy: 0.9714 - val_loss: 0.0309 - val_accuracy: 0.9778\n",
            "Epoch 98/250\n",
            "15/15 [==============================] - 0s 3ms/step - loss: 0.0647 - accuracy: 0.9714 - val_loss: 0.0341 - val_accuracy: 0.9778\n",
            "Epoch 99/250\n",
            "15/15 [==============================] - 0s 3ms/step - loss: 0.0648 - accuracy: 0.9905 - val_loss: 0.0249 - val_accuracy: 0.9778\n",
            "Epoch 100/250\n",
            "15/15 [==============================] - 0s 3ms/step - loss: 0.0642 - accuracy: 0.9810 - val_loss: 0.0299 - val_accuracy: 0.9778\n",
            "Epoch 101/250\n",
            "15/15 [==============================] - 0s 3ms/step - loss: 0.0621 - accuracy: 0.9905 - val_loss: 0.0430 - val_accuracy: 0.9778\n",
            "Epoch 102/250\n",
            "15/15 [==============================] - 0s 3ms/step - loss: 0.0726 - accuracy: 0.9619 - val_loss: 0.0281 - val_accuracy: 0.9778\n",
            "Epoch 103/250\n",
            "15/15 [==============================] - 0s 3ms/step - loss: 0.0640 - accuracy: 0.9810 - val_loss: 0.0339 - val_accuracy: 0.9778\n",
            "Epoch 104/250\n",
            "15/15 [==============================] - 0s 4ms/step - loss: 0.0638 - accuracy: 0.9905 - val_loss: 0.0332 - val_accuracy: 0.9778\n",
            "Epoch 105/250\n",
            "15/15 [==============================] - 0s 3ms/step - loss: 0.0645 - accuracy: 0.9905 - val_loss: 0.0312 - val_accuracy: 0.9778\n",
            "Epoch 106/250\n",
            "15/15 [==============================] - 0s 3ms/step - loss: 0.0636 - accuracy: 0.9810 - val_loss: 0.0303 - val_accuracy: 0.9778\n",
            "Epoch 107/250\n",
            "15/15 [==============================] - 0s 3ms/step - loss: 0.0630 - accuracy: 0.9810 - val_loss: 0.0302 - val_accuracy: 0.9778\n",
            "Epoch 108/250\n",
            "15/15 [==============================] - 0s 4ms/step - loss: 0.0700 - accuracy: 0.9810 - val_loss: 0.0299 - val_accuracy: 0.9778\n",
            "Epoch 109/250\n",
            "15/15 [==============================] - 0s 4ms/step - loss: 0.0651 - accuracy: 0.9810 - val_loss: 0.0259 - val_accuracy: 0.9778\n",
            "Epoch 110/250\n",
            "15/15 [==============================] - 0s 4ms/step - loss: 0.0638 - accuracy: 0.9905 - val_loss: 0.0320 - val_accuracy: 0.9778\n",
            "Epoch 111/250\n",
            "15/15 [==============================] - 0s 3ms/step - loss: 0.0699 - accuracy: 0.9810 - val_loss: 0.0316 - val_accuracy: 0.9778\n",
            "Epoch 112/250\n",
            "15/15 [==============================] - 0s 4ms/step - loss: 0.0673 - accuracy: 0.9714 - val_loss: 0.0244 - val_accuracy: 0.9778\n",
            "Epoch 113/250\n",
            "15/15 [==============================] - 0s 4ms/step - loss: 0.0603 - accuracy: 0.9905 - val_loss: 0.0362 - val_accuracy: 0.9778\n",
            "Epoch 114/250\n",
            "15/15 [==============================] - 0s 3ms/step - loss: 0.0652 - accuracy: 0.9905 - val_loss: 0.0289 - val_accuracy: 0.9778\n",
            "Epoch 115/250\n",
            "15/15 [==============================] - 0s 3ms/step - loss: 0.0663 - accuracy: 0.9810 - val_loss: 0.0262 - val_accuracy: 0.9778\n",
            "Epoch 116/250\n",
            "15/15 [==============================] - 0s 4ms/step - loss: 0.0616 - accuracy: 0.9905 - val_loss: 0.0365 - val_accuracy: 0.9778\n",
            "Epoch 117/250\n",
            "15/15 [==============================] - 0s 3ms/step - loss: 0.0694 - accuracy: 0.9810 - val_loss: 0.0267 - val_accuracy: 0.9778\n",
            "Epoch 118/250\n",
            "15/15 [==============================] - 0s 4ms/step - loss: 0.0637 - accuracy: 0.9810 - val_loss: 0.0331 - val_accuracy: 0.9778\n",
            "Epoch 119/250\n",
            "15/15 [==============================] - 0s 3ms/step - loss: 0.0620 - accuracy: 0.9905 - val_loss: 0.0353 - val_accuracy: 0.9778\n",
            "Epoch 120/250\n",
            "15/15 [==============================] - 0s 4ms/step - loss: 0.0694 - accuracy: 0.9714 - val_loss: 0.0338 - val_accuracy: 0.9778\n",
            "Epoch 121/250\n",
            "15/15 [==============================] - 0s 3ms/step - loss: 0.0647 - accuracy: 0.9714 - val_loss: 0.0255 - val_accuracy: 0.9778\n",
            "Epoch 122/250\n",
            "15/15 [==============================] - 0s 4ms/step - loss: 0.0637 - accuracy: 0.9810 - val_loss: 0.0325 - val_accuracy: 0.9778\n",
            "Epoch 123/250\n",
            "15/15 [==============================] - 0s 4ms/step - loss: 0.0615 - accuracy: 0.9905 - val_loss: 0.0321 - val_accuracy: 0.9778\n",
            "Epoch 124/250\n",
            "15/15 [==============================] - 0s 4ms/step - loss: 0.0623 - accuracy: 0.9905 - val_loss: 0.0307 - val_accuracy: 0.9778\n",
            "Epoch 125/250\n",
            "15/15 [==============================] - 0s 4ms/step - loss: 0.0697 - accuracy: 0.9810 - val_loss: 0.0336 - val_accuracy: 0.9778\n",
            "Epoch 126/250\n",
            "15/15 [==============================] - 0s 3ms/step - loss: 0.0649 - accuracy: 0.9810 - val_loss: 0.0371 - val_accuracy: 0.9778\n",
            "Epoch 127/250\n",
            "15/15 [==============================] - 0s 3ms/step - loss: 0.0630 - accuracy: 0.9905 - val_loss: 0.0280 - val_accuracy: 0.9778\n",
            "Epoch 128/250\n",
            "15/15 [==============================] - 0s 4ms/step - loss: 0.0653 - accuracy: 0.9810 - val_loss: 0.0277 - val_accuracy: 0.9778\n",
            "Epoch 129/250\n",
            "15/15 [==============================] - 0s 3ms/step - loss: 0.0630 - accuracy: 0.9810 - val_loss: 0.0287 - val_accuracy: 0.9778\n",
            "Epoch 130/250\n",
            "15/15 [==============================] - 0s 4ms/step - loss: 0.0600 - accuracy: 0.9810 - val_loss: 0.0335 - val_accuracy: 0.9778\n",
            "Epoch 131/250\n",
            "15/15 [==============================] - 0s 4ms/step - loss: 0.0653 - accuracy: 0.9905 - val_loss: 0.0314 - val_accuracy: 0.9778\n",
            "Epoch 132/250\n",
            "15/15 [==============================] - 0s 4ms/step - loss: 0.0622 - accuracy: 0.9905 - val_loss: 0.0317 - val_accuracy: 0.9778\n",
            "Epoch 133/250\n",
            "15/15 [==============================] - 0s 3ms/step - loss: 0.0607 - accuracy: 0.9810 - val_loss: 0.0360 - val_accuracy: 0.9778\n",
            "Epoch 134/250\n",
            "15/15 [==============================] - 0s 3ms/step - loss: 0.0635 - accuracy: 0.9905 - val_loss: 0.0306 - val_accuracy: 0.9778\n",
            "Epoch 135/250\n",
            "15/15 [==============================] - 0s 4ms/step - loss: 0.0651 - accuracy: 0.9810 - val_loss: 0.0328 - val_accuracy: 0.9778\n",
            "Epoch 136/250\n",
            "15/15 [==============================] - 0s 3ms/step - loss: 0.0657 - accuracy: 0.9810 - val_loss: 0.0356 - val_accuracy: 0.9778\n",
            "Epoch 137/250\n",
            "15/15 [==============================] - 0s 4ms/step - loss: 0.0623 - accuracy: 0.9905 - val_loss: 0.0314 - val_accuracy: 0.9778\n",
            "Epoch 138/250\n",
            "15/15 [==============================] - 0s 4ms/step - loss: 0.0691 - accuracy: 0.9714 - val_loss: 0.0406 - val_accuracy: 0.9778\n",
            "Epoch 139/250\n",
            "15/15 [==============================] - 0s 4ms/step - loss: 0.0734 - accuracy: 0.9810 - val_loss: 0.0227 - val_accuracy: 1.0000\n",
            "Epoch 140/250\n",
            "15/15 [==============================] - 0s 3ms/step - loss: 0.0654 - accuracy: 0.9714 - val_loss: 0.0416 - val_accuracy: 0.9778\n",
            "Epoch 141/250\n",
            "15/15 [==============================] - 0s 4ms/step - loss: 0.0643 - accuracy: 0.9905 - val_loss: 0.0343 - val_accuracy: 0.9778\n",
            "Epoch 142/250\n",
            "15/15 [==============================] - 0s 3ms/step - loss: 0.0630 - accuracy: 0.9810 - val_loss: 0.0312 - val_accuracy: 0.9778\n",
            "Epoch 143/250\n",
            "15/15 [==============================] - 0s 4ms/step - loss: 0.0713 - accuracy: 0.9714 - val_loss: 0.0293 - val_accuracy: 0.9778\n",
            "Epoch 144/250\n",
            "15/15 [==============================] - 0s 3ms/step - loss: 0.0687 - accuracy: 0.9714 - val_loss: 0.0288 - val_accuracy: 0.9778\n",
            "Epoch 145/250\n",
            "15/15 [==============================] - 0s 4ms/step - loss: 0.0620 - accuracy: 0.9810 - val_loss: 0.0368 - val_accuracy: 0.9778\n",
            "Epoch 146/250\n",
            "15/15 [==============================] - 0s 4ms/step - loss: 0.0703 - accuracy: 0.9714 - val_loss: 0.0290 - val_accuracy: 0.9778\n",
            "Epoch 147/250\n",
            "15/15 [==============================] - 0s 3ms/step - loss: 0.0598 - accuracy: 0.9810 - val_loss: 0.0365 - val_accuracy: 0.9778\n",
            "Epoch 148/250\n",
            "15/15 [==============================] - 0s 3ms/step - loss: 0.0673 - accuracy: 0.9810 - val_loss: 0.0362 - val_accuracy: 0.9778\n",
            "Epoch 149/250\n",
            "15/15 [==============================] - 0s 4ms/step - loss: 0.0645 - accuracy: 0.9905 - val_loss: 0.0227 - val_accuracy: 1.0000\n",
            "Epoch 150/250\n",
            "15/15 [==============================] - 0s 3ms/step - loss: 0.0611 - accuracy: 0.9810 - val_loss: 0.0368 - val_accuracy: 0.9778\n",
            "Epoch 151/250\n",
            "15/15 [==============================] - 0s 4ms/step - loss: 0.0637 - accuracy: 0.9810 - val_loss: 0.0395 - val_accuracy: 0.9778\n",
            "Epoch 152/250\n",
            "15/15 [==============================] - 0s 4ms/step - loss: 0.0603 - accuracy: 0.9810 - val_loss: 0.0287 - val_accuracy: 0.9778\n",
            "Epoch 153/250\n",
            "15/15 [==============================] - 0s 4ms/step - loss: 0.0628 - accuracy: 0.9810 - val_loss: 0.0310 - val_accuracy: 0.9778\n",
            "Epoch 154/250\n",
            "15/15 [==============================] - 0s 3ms/step - loss: 0.0643 - accuracy: 0.9905 - val_loss: 0.0274 - val_accuracy: 0.9778\n",
            "Epoch 155/250\n",
            "15/15 [==============================] - 0s 3ms/step - loss: 0.0603 - accuracy: 0.9810 - val_loss: 0.0313 - val_accuracy: 0.9778\n",
            "Epoch 156/250\n",
            "15/15 [==============================] - 0s 4ms/step - loss: 0.0609 - accuracy: 0.9810 - val_loss: 0.0345 - val_accuracy: 0.9778\n",
            "Epoch 157/250\n",
            "15/15 [==============================] - 0s 4ms/step - loss: 0.0710 - accuracy: 0.9619 - val_loss: 0.0330 - val_accuracy: 0.9778\n",
            "Epoch 158/250\n",
            "15/15 [==============================] - 0s 3ms/step - loss: 0.0556 - accuracy: 0.9905 - val_loss: 0.0246 - val_accuracy: 0.9778\n",
            "Epoch 159/250\n",
            "15/15 [==============================] - 0s 3ms/step - loss: 0.0670 - accuracy: 0.9714 - val_loss: 0.0275 - val_accuracy: 0.9778\n",
            "Epoch 160/250\n",
            "15/15 [==============================] - 0s 4ms/step - loss: 0.0643 - accuracy: 0.9714 - val_loss: 0.0416 - val_accuracy: 0.9778\n",
            "Epoch 161/250\n",
            "15/15 [==============================] - 0s 4ms/step - loss: 0.0596 - accuracy: 0.9810 - val_loss: 0.0249 - val_accuracy: 0.9778\n",
            "Epoch 162/250\n",
            "15/15 [==============================] - 0s 4ms/step - loss: 0.0724 - accuracy: 0.9810 - val_loss: 0.0317 - val_accuracy: 0.9778\n",
            "Epoch 163/250\n",
            "15/15 [==============================] - 0s 4ms/step - loss: 0.0632 - accuracy: 0.9810 - val_loss: 0.0313 - val_accuracy: 0.9778\n",
            "Epoch 164/250\n",
            "15/15 [==============================] - 0s 4ms/step - loss: 0.0661 - accuracy: 0.9810 - val_loss: 0.0333 - val_accuracy: 0.9778\n",
            "Epoch 165/250\n",
            "15/15 [==============================] - 0s 4ms/step - loss: 0.0717 - accuracy: 0.9714 - val_loss: 0.0233 - val_accuracy: 0.9778\n",
            "Epoch 166/250\n",
            "15/15 [==============================] - 0s 4ms/step - loss: 0.0663 - accuracy: 0.9905 - val_loss: 0.0411 - val_accuracy: 0.9778\n",
            "Epoch 167/250\n",
            "15/15 [==============================] - 0s 4ms/step - loss: 0.0658 - accuracy: 0.9905 - val_loss: 0.0253 - val_accuracy: 0.9778\n",
            "Epoch 168/250\n",
            "15/15 [==============================] - 0s 5ms/step - loss: 0.0581 - accuracy: 0.9905 - val_loss: 0.0347 - val_accuracy: 0.9778\n",
            "Epoch 169/250\n",
            "15/15 [==============================] - 0s 3ms/step - loss: 0.0603 - accuracy: 0.9905 - val_loss: 0.0353 - val_accuracy: 0.9778\n",
            "Epoch 170/250\n",
            "15/15 [==============================] - 0s 3ms/step - loss: 0.0629 - accuracy: 0.9810 - val_loss: 0.0338 - val_accuracy: 0.9778\n",
            "Epoch 171/250\n",
            "15/15 [==============================] - 0s 4ms/step - loss: 0.0602 - accuracy: 0.9810 - val_loss: 0.0318 - val_accuracy: 0.9778\n",
            "Epoch 172/250\n",
            "15/15 [==============================] - 0s 3ms/step - loss: 0.0638 - accuracy: 0.9810 - val_loss: 0.0361 - val_accuracy: 0.9778\n",
            "Epoch 173/250\n",
            "15/15 [==============================] - 0s 3ms/step - loss: 0.0618 - accuracy: 0.9905 - val_loss: 0.0316 - val_accuracy: 0.9778\n",
            "Epoch 174/250\n",
            "15/15 [==============================] - 0s 3ms/step - loss: 0.0623 - accuracy: 0.9810 - val_loss: 0.0273 - val_accuracy: 0.9778\n",
            "Epoch 175/250\n",
            "15/15 [==============================] - 0s 3ms/step - loss: 0.0641 - accuracy: 0.9810 - val_loss: 0.0312 - val_accuracy: 0.9778\n",
            "Epoch 176/250\n",
            "15/15 [==============================] - 0s 3ms/step - loss: 0.0665 - accuracy: 0.9714 - val_loss: 0.0413 - val_accuracy: 0.9778\n",
            "Epoch 177/250\n",
            "15/15 [==============================] - 0s 3ms/step - loss: 0.0588 - accuracy: 0.9810 - val_loss: 0.0248 - val_accuracy: 0.9778\n",
            "Epoch 178/250\n",
            "15/15 [==============================] - 0s 4ms/step - loss: 0.0638 - accuracy: 0.9714 - val_loss: 0.0257 - val_accuracy: 0.9778\n",
            "Epoch 179/250\n",
            "15/15 [==============================] - 0s 4ms/step - loss: 0.0601 - accuracy: 0.9810 - val_loss: 0.0366 - val_accuracy: 0.9778\n",
            "Epoch 180/250\n",
            "15/15 [==============================] - 0s 3ms/step - loss: 0.0617 - accuracy: 0.9810 - val_loss: 0.0294 - val_accuracy: 0.9778\n",
            "Epoch 181/250\n",
            "15/15 [==============================] - 0s 4ms/step - loss: 0.0648 - accuracy: 0.9810 - val_loss: 0.0305 - val_accuracy: 0.9778\n",
            "Epoch 182/250\n",
            "15/15 [==============================] - 0s 4ms/step - loss: 0.0775 - accuracy: 0.9619 - val_loss: 0.0305 - val_accuracy: 0.9778\n",
            "Epoch 183/250\n",
            "15/15 [==============================] - 0s 4ms/step - loss: 0.0739 - accuracy: 0.9714 - val_loss: 0.0246 - val_accuracy: 0.9778\n",
            "Epoch 184/250\n",
            "15/15 [==============================] - 0s 4ms/step - loss: 0.0613 - accuracy: 0.9714 - val_loss: 0.0436 - val_accuracy: 0.9778\n",
            "Epoch 185/250\n",
            "15/15 [==============================] - 0s 5ms/step - loss: 0.0566 - accuracy: 0.9810 - val_loss: 0.0273 - val_accuracy: 0.9778\n",
            "Epoch 186/250\n",
            "15/15 [==============================] - 0s 3ms/step - loss: 0.0650 - accuracy: 0.9810 - val_loss: 0.0290 - val_accuracy: 0.9778\n",
            "Epoch 187/250\n",
            "15/15 [==============================] - 0s 3ms/step - loss: 0.0628 - accuracy: 0.9905 - val_loss: 0.0358 - val_accuracy: 0.9778\n",
            "Epoch 188/250\n",
            "15/15 [==============================] - 0s 4ms/step - loss: 0.0615 - accuracy: 0.9810 - val_loss: 0.0290 - val_accuracy: 0.9778\n",
            "Epoch 189/250\n",
            "15/15 [==============================] - 0s 4ms/step - loss: 0.0578 - accuracy: 0.9905 - val_loss: 0.0351 - val_accuracy: 0.9778\n",
            "Epoch 190/250\n",
            "15/15 [==============================] - 0s 4ms/step - loss: 0.0595 - accuracy: 0.9810 - val_loss: 0.0309 - val_accuracy: 0.9778\n",
            "Epoch 191/250\n",
            "15/15 [==============================] - 0s 4ms/step - loss: 0.0615 - accuracy: 0.9810 - val_loss: 0.0303 - val_accuracy: 0.9778\n",
            "Epoch 192/250\n",
            "15/15 [==============================] - 0s 3ms/step - loss: 0.0641 - accuracy: 0.9905 - val_loss: 0.0398 - val_accuracy: 0.9778\n",
            "Epoch 193/250\n",
            "15/15 [==============================] - 0s 4ms/step - loss: 0.0640 - accuracy: 0.9810 - val_loss: 0.0294 - val_accuracy: 0.9778\n",
            "Epoch 194/250\n",
            "15/15 [==============================] - 0s 4ms/step - loss: 0.0609 - accuracy: 0.9810 - val_loss: 0.0380 - val_accuracy: 0.9778\n",
            "Epoch 195/250\n",
            "15/15 [==============================] - 0s 4ms/step - loss: 0.0631 - accuracy: 0.9810 - val_loss: 0.0327 - val_accuracy: 0.9778\n",
            "Epoch 196/250\n",
            "15/15 [==============================] - 0s 4ms/step - loss: 0.0630 - accuracy: 0.9810 - val_loss: 0.0300 - val_accuracy: 0.9778\n",
            "Epoch 197/250\n",
            "15/15 [==============================] - 0s 3ms/step - loss: 0.0608 - accuracy: 0.9810 - val_loss: 0.0325 - val_accuracy: 0.9778\n",
            "Epoch 198/250\n",
            "15/15 [==============================] - 0s 4ms/step - loss: 0.0585 - accuracy: 0.9905 - val_loss: 0.0358 - val_accuracy: 0.9778\n",
            "Epoch 199/250\n",
            "15/15 [==============================] - 0s 3ms/step - loss: 0.0613 - accuracy: 0.9810 - val_loss: 0.0336 - val_accuracy: 0.9778\n",
            "Epoch 200/250\n",
            "15/15 [==============================] - 0s 4ms/step - loss: 0.0596 - accuracy: 0.9905 - val_loss: 0.0332 - val_accuracy: 0.9778\n",
            "Epoch 201/250\n",
            "15/15 [==============================] - 0s 4ms/step - loss: 0.0598 - accuracy: 0.9810 - val_loss: 0.0295 - val_accuracy: 0.9778\n",
            "Epoch 202/250\n",
            "15/15 [==============================] - 0s 3ms/step - loss: 0.0611 - accuracy: 0.9810 - val_loss: 0.0340 - val_accuracy: 0.9778\n",
            "Epoch 203/250\n",
            "15/15 [==============================] - 0s 3ms/step - loss: 0.0593 - accuracy: 0.9905 - val_loss: 0.0320 - val_accuracy: 0.9778\n",
            "Epoch 204/250\n",
            "15/15 [==============================] - 0s 3ms/step - loss: 0.0603 - accuracy: 0.9810 - val_loss: 0.0288 - val_accuracy: 0.9778\n",
            "Epoch 205/250\n",
            "15/15 [==============================] - 0s 4ms/step - loss: 0.0575 - accuracy: 0.9905 - val_loss: 0.0361 - val_accuracy: 0.9778\n",
            "Epoch 206/250\n",
            "15/15 [==============================] - 0s 3ms/step - loss: 0.0604 - accuracy: 0.9810 - val_loss: 0.0315 - val_accuracy: 0.9778\n",
            "Epoch 207/250\n",
            "15/15 [==============================] - 0s 3ms/step - loss: 0.0639 - accuracy: 0.9810 - val_loss: 0.0328 - val_accuracy: 0.9778\n",
            "Epoch 208/250\n",
            "15/15 [==============================] - 0s 3ms/step - loss: 0.0609 - accuracy: 0.9810 - val_loss: 0.0335 - val_accuracy: 0.9778\n",
            "Epoch 209/250\n",
            "15/15 [==============================] - 0s 3ms/step - loss: 0.0602 - accuracy: 0.9810 - val_loss: 0.0293 - val_accuracy: 0.9778\n",
            "Epoch 210/250\n",
            "15/15 [==============================] - 0s 4ms/step - loss: 0.0610 - accuracy: 0.9810 - val_loss: 0.0377 - val_accuracy: 0.9778\n",
            "Epoch 211/250\n",
            "15/15 [==============================] - 0s 3ms/step - loss: 0.0595 - accuracy: 0.9810 - val_loss: 0.0318 - val_accuracy: 0.9778\n",
            "Epoch 212/250\n",
            "15/15 [==============================] - 0s 4ms/step - loss: 0.0615 - accuracy: 0.9810 - val_loss: 0.0360 - val_accuracy: 0.9778\n",
            "Epoch 213/250\n",
            "15/15 [==============================] - 0s 4ms/step - loss: 0.0622 - accuracy: 0.9810 - val_loss: 0.0287 - val_accuracy: 0.9778\n",
            "Epoch 214/250\n",
            "15/15 [==============================] - 0s 3ms/step - loss: 0.0622 - accuracy: 0.9810 - val_loss: 0.0367 - val_accuracy: 0.9778\n",
            "Epoch 215/250\n",
            "15/15 [==============================] - 0s 3ms/step - loss: 0.0612 - accuracy: 0.9810 - val_loss: 0.0342 - val_accuracy: 0.9778\n",
            "Epoch 216/250\n",
            "15/15 [==============================] - 0s 3ms/step - loss: 0.0586 - accuracy: 0.9905 - val_loss: 0.0336 - val_accuracy: 0.9778\n",
            "Epoch 217/250\n",
            "15/15 [==============================] - 0s 4ms/step - loss: 0.0639 - accuracy: 0.9810 - val_loss: 0.0296 - val_accuracy: 0.9778\n",
            "Epoch 218/250\n",
            "15/15 [==============================] - 0s 3ms/step - loss: 0.0594 - accuracy: 0.9810 - val_loss: 0.0298 - val_accuracy: 0.9778\n",
            "Epoch 219/250\n",
            "15/15 [==============================] - 0s 3ms/step - loss: 0.0596 - accuracy: 0.9810 - val_loss: 0.0403 - val_accuracy: 0.9778\n",
            "Epoch 220/250\n",
            "15/15 [==============================] - 0s 3ms/step - loss: 0.0571 - accuracy: 0.9905 - val_loss: 0.0319 - val_accuracy: 0.9778\n",
            "Epoch 221/250\n",
            "15/15 [==============================] - 0s 3ms/step - loss: 0.0595 - accuracy: 0.9810 - val_loss: 0.0312 - val_accuracy: 0.9778\n",
            "Epoch 222/250\n",
            "15/15 [==============================] - 0s 3ms/step - loss: 0.0662 - accuracy: 0.9714 - val_loss: 0.0280 - val_accuracy: 0.9778\n",
            "Epoch 223/250\n",
            "15/15 [==============================] - 0s 4ms/step - loss: 0.0554 - accuracy: 0.9905 - val_loss: 0.0424 - val_accuracy: 0.9778\n",
            "Epoch 224/250\n",
            "15/15 [==============================] - 0s 5ms/step - loss: 0.0641 - accuracy: 0.9714 - val_loss: 0.0309 - val_accuracy: 0.9778\n",
            "Epoch 225/250\n",
            "15/15 [==============================] - 0s 5ms/step - loss: 0.0640 - accuracy: 0.9810 - val_loss: 0.0273 - val_accuracy: 0.9778\n",
            "Epoch 226/250\n",
            "15/15 [==============================] - 0s 4ms/step - loss: 0.0565 - accuracy: 0.9810 - val_loss: 0.0406 - val_accuracy: 0.9778\n",
            "Epoch 227/250\n",
            "15/15 [==============================] - 0s 4ms/step - loss: 0.0655 - accuracy: 0.9714 - val_loss: 0.0486 - val_accuracy: 0.9778\n",
            "Epoch 228/250\n",
            "15/15 [==============================] - 0s 3ms/step - loss: 0.0628 - accuracy: 0.9810 - val_loss: 0.0306 - val_accuracy: 0.9778\n",
            "Epoch 229/250\n",
            "15/15 [==============================] - 0s 4ms/step - loss: 0.0588 - accuracy: 0.9810 - val_loss: 0.0336 - val_accuracy: 0.9778\n",
            "Epoch 230/250\n",
            "15/15 [==============================] - 0s 4ms/step - loss: 0.0665 - accuracy: 0.9714 - val_loss: 0.0376 - val_accuracy: 0.9778\n",
            "Epoch 231/250\n",
            "15/15 [==============================] - 0s 4ms/step - loss: 0.0683 - accuracy: 0.9810 - val_loss: 0.0248 - val_accuracy: 0.9778\n",
            "Epoch 232/250\n",
            "15/15 [==============================] - 0s 4ms/step - loss: 0.0574 - accuracy: 0.9810 - val_loss: 0.0376 - val_accuracy: 0.9778\n",
            "Epoch 233/250\n",
            "15/15 [==============================] - 0s 4ms/step - loss: 0.0639 - accuracy: 0.9714 - val_loss: 0.0345 - val_accuracy: 0.9778\n",
            "Epoch 234/250\n",
            "15/15 [==============================] - 0s 4ms/step - loss: 0.0595 - accuracy: 0.9810 - val_loss: 0.0268 - val_accuracy: 0.9778\n",
            "Epoch 235/250\n",
            "15/15 [==============================] - 0s 5ms/step - loss: 0.0614 - accuracy: 0.9714 - val_loss: 0.0300 - val_accuracy: 0.9778\n",
            "Epoch 236/250\n",
            "15/15 [==============================] - 0s 4ms/step - loss: 0.0619 - accuracy: 0.9714 - val_loss: 0.0474 - val_accuracy: 0.9778\n",
            "Epoch 237/250\n",
            "15/15 [==============================] - 0s 4ms/step - loss: 0.0581 - accuracy: 0.9810 - val_loss: 0.0317 - val_accuracy: 0.9778\n",
            "Epoch 238/250\n",
            "15/15 [==============================] - 0s 3ms/step - loss: 0.0619 - accuracy: 0.9810 - val_loss: 0.0258 - val_accuracy: 0.9778\n",
            "Epoch 239/250\n",
            "15/15 [==============================] - 0s 4ms/step - loss: 0.0636 - accuracy: 0.9714 - val_loss: 0.0425 - val_accuracy: 0.9778\n",
            "Epoch 240/250\n",
            "15/15 [==============================] - 0s 4ms/step - loss: 0.0532 - accuracy: 0.9810 - val_loss: 0.0279 - val_accuracy: 0.9778\n",
            "Epoch 241/250\n",
            "15/15 [==============================] - 0s 4ms/step - loss: 0.0682 - accuracy: 0.9810 - val_loss: 0.0344 - val_accuracy: 0.9778\n",
            "Epoch 242/250\n",
            "15/15 [==============================] - 0s 4ms/step - loss: 0.0627 - accuracy: 0.9810 - val_loss: 0.0348 - val_accuracy: 0.9778\n",
            "Epoch 243/250\n",
            "15/15 [==============================] - 0s 3ms/step - loss: 0.0609 - accuracy: 0.9810 - val_loss: 0.0331 - val_accuracy: 0.9778\n",
            "Epoch 244/250\n",
            "15/15 [==============================] - 0s 4ms/step - loss: 0.0624 - accuracy: 0.9714 - val_loss: 0.0379 - val_accuracy: 0.9778\n",
            "Epoch 245/250\n",
            "15/15 [==============================] - 0s 4ms/step - loss: 0.0583 - accuracy: 0.9905 - val_loss: 0.0316 - val_accuracy: 0.9778\n",
            "Epoch 246/250\n",
            "15/15 [==============================] - 0s 4ms/step - loss: 0.0634 - accuracy: 0.9810 - val_loss: 0.0409 - val_accuracy: 0.9778\n",
            "Epoch 247/250\n",
            "15/15 [==============================] - 0s 4ms/step - loss: 0.0595 - accuracy: 0.9714 - val_loss: 0.0327 - val_accuracy: 0.9778\n",
            "Epoch 248/250\n",
            "15/15 [==============================] - 0s 5ms/step - loss: 0.0688 - accuracy: 0.9810 - val_loss: 0.0373 - val_accuracy: 0.9778\n",
            "Epoch 249/250\n",
            "15/15 [==============================] - 0s 5ms/step - loss: 0.0706 - accuracy: 0.9714 - val_loss: 0.0293 - val_accuracy: 0.9778\n",
            "Epoch 250/250\n",
            "15/15 [==============================] - 0s 3ms/step - loss: 0.0578 - accuracy: 0.9810 - val_loss: 0.0367 - val_accuracy: 0.9778\n"
          ]
        }
      ]
    },
    {
      "cell_type": "code",
      "source": [
        "import matplotlib.pyplot as plt\n",
        "plt.figure(figsize=(6,9))\n",
        "plt.ylim(0,1.1)\n",
        "plt.plot(history_iris.history['loss'])\n",
        "plt.plot(history_iris.history['val_loss'])\n",
        "plt.plot(history_iris.history['accuracy'])\n",
        "plt.plot(history_iris.history['val_accuracy'])\n",
        "plt.legend(['loss','val_loss','accuracy','val_accuracy'])\n",
        "plt.grid()\n",
        "plt.show()"
      ],
      "metadata": {
        "colab": {
          "base_uri": "https://localhost:8080/",
          "height": 753
        },
        "id": "8jpjsiYS3mXP",
        "outputId": "9ff49459-b95e-4d8c-b21f-959f75632210"
      },
      "execution_count": 36,
      "outputs": [
        {
          "output_type": "display_data",
          "data": {
            "text/plain": [
              "<Figure size 600x900 with 1 Axes>"
            ],
            "image/png": "[encoded data removed]"
          },
          "metadata": {}
        }
      ]
    },
    {
      "cell_type": "code",
      "source": [
        "loss, accuracy = Model_iris.evaluate(X_test, y_test, verbose=0)\n",
        "print('loss = {:.5f}'.format(loss))\n",
        "print('accuracy = {:.5f}'.format(accuracy))"
      ],
      "metadata": {
        "colab": {
          "base_uri": "https://localhost:8080/"
        },
        "id": "zHyWqLAa5vfe",
        "outputId": "de56fe4e-7807-47c0-c74b-facdea490a3f"
      },
      "execution_count": 38,
      "outputs": [
        {
          "output_type": "stream",
          "name": "stdout",
          "text": [
            "loss = 0.03667\n",
            "accuracy = 0.97778\n"
          ]
        }
      ]
    },
    {
      "cell_type": "code",
      "source": [
        "from tensorflow.python.ops.gen_nn_ops import max_pool3d_eager_fallback\n",
        "import numpy as np\n",
        "\n",
        "np.set_printoptions(suppress=True, precision=5)\n",
        "\n",
        "Model_iris.predict(X_test, verbose=0)"
      ],
      "metadata": {
        "colab": {
          "base_uri": "https://localhost:8080/"
        },
        "id": "LO0m-WrV6PjY",
        "outputId": "42e2ad5f-25e2-4357-ed82-a07c14e7dc5a"
      },
      "execution_count": 39,
      "outputs": [
        {
          "output_type": "execute_result",
          "data": {
            "text/plain": [
              "array([[0.99987, 0.00013, 0.     ],\n",
              "       [0.99954, 0.00046, 0.     ],\n",
              "       [0.00654, 0.99346, 0.     ],\n",
              "       [0.     , 0.00009, 0.99991],\n",
              "       [0.99995, 0.00005, 0.     ],\n",
              "       [0.0002 , 0.9998 , 0.00001],\n",
              "       [0.     , 0.00543, 0.99457],\n",
              "       [0.99997, 0.00003, 0.     ],\n",
              "       [0.     , 0.00105, 0.99895],\n",
              "       [0.99988, 0.00012, 0.     ],\n",
              "       [0.     , 0.9358 , 0.0642 ],\n",
              "       [0.     , 0.0025 , 0.9975 ],\n",
              "       [0.     , 0.99886, 0.00114],\n",
              "       [0.99999, 0.00001, 0.     ],\n",
              "       [0.99996, 0.00004, 0.     ],\n",
              "       [0.     , 0.99851, 0.00149],\n",
              "       [0.     , 0.99276, 0.00724],\n",
              "       [0.99987, 0.00013, 0.     ],\n",
              "       [0.     , 0.99988, 0.00012],\n",
              "       [0.99997, 0.00003, 0.     ],\n",
              "       [0.99989, 0.00011, 0.     ],\n",
              "       [0.99988, 0.00012, 0.     ],\n",
              "       [0.     , 0.00073, 0.99927],\n",
              "       [0.99992, 0.00008, 0.     ],\n",
              "       [0.     , 0.0503 , 0.9497 ],\n",
              "       [0.     , 0.01289, 0.98711],\n",
              "       [0.99995, 0.00005, 0.     ],\n",
              "       [0.     , 0.9989 , 0.0011 ],\n",
              "       [0.     , 0.99876, 0.00124],\n",
              "       [0.     , 0.04269, 0.95731],\n",
              "       [0.99996, 0.00004, 0.     ],\n",
              "       [0.     , 0.99939, 0.00061],\n",
              "       [0.99997, 0.00003, 0.     ],\n",
              "       [0.     , 0.75819, 0.24181],\n",
              "       [0.     , 0.99795, 0.00205],\n",
              "       [0.00007, 0.99992, 0.00001],\n",
              "       [0.     , 0.00011, 0.99989],\n",
              "       [0.00003, 0.99992, 0.00005],\n",
              "       [0.99991, 0.00009, 0.     ],\n",
              "       [0.     , 0.99911, 0.00089],\n",
              "       [0.     , 0.00013, 0.99987],\n",
              "       [0.9996 , 0.0004 , 0.     ],\n",
              "       [0.     , 0.00233, 0.99767],\n",
              "       [0.     , 0.00074, 0.99926],\n",
              "       [0.     , 0.01775, 0.98225]], dtype=float32)"
            ]
          },
          "metadata": {},
          "execution_count": 39
        }
      ]
    },
    {
      "cell_type": "code",
      "source": [
        "y_hat = np.argmax(Model_iris.predict(X_test, verbose=0), axis=1)\n",
        "y_hat"
      ],
      "metadata": {
        "colab": {
          "base_uri": "https://localhost:8080/"
        },
        "id": "GIPhIwxy6tWr",
        "outputId": "f2d6147d-9837-43ac-f77b-0fdde75000b8"
      },
      "execution_count": 40,
      "outputs": [
        {
          "output_type": "execute_result",
          "data": {
            "text/plain": [
              "array([0, 0, 1, 2, 0, 1, 2, 0, 2, 0, 1, 2, 1, 0, 0, 1, 1, 0, 1, 0, 0, 0,\n",
              "       2, 0, 2, 2, 0, 1, 1, 2, 0, 1, 0, 1, 1, 1, 2, 1, 0, 1, 2, 0, 2, 2,\n",
              "       2])"
            ]
          },
          "metadata": {},
          "execution_count": 40
        }
      ]
    },
    {
      "cell_type": "code",
      "source": [
        "y = np.argmax(y_test, axis=1)\n",
        "y"
      ],
      "metadata": {
        "colab": {
          "base_uri": "https://localhost:8080/"
        },
        "id": "b3Xmvz4s7EK8",
        "outputId": "3a2ef44c-92b3-42cf-c9c7-59c5b4d06b74"
      },
      "execution_count": 41,
      "outputs": [
        {
          "output_type": "execute_result",
          "data": {
            "text/plain": [
              "array([0, 0, 1, 2, 0, 1, 2, 0, 2, 0, 1, 2, 1, 0, 0, 1, 1, 0, 1, 0, 0, 0,\n",
              "       2, 0, 2, 2, 0, 1, 1, 2, 0, 1, 0, 2, 1, 1, 2, 1, 0, 1, 2, 0, 2, 2,\n",
              "       2])"
            ]
          },
          "metadata": {},
          "execution_count": 41
        }
      ]
    },
    {
      "cell_type": "code",
      "source": [
        "from sklearn.metrics import confusion_matrix, classification_report\n",
        "\n",
        "confusion_matrix(y, y_hat)"
      ],
      "metadata": {
        "colab": {
          "base_uri": "https://localhost:8080/"
        },
        "id": "9F-9p10d7PHZ",
        "outputId": "c09e528c-26d3-40bb-cfe3-c8246bbabca7"
      },
      "execution_count": 42,
      "outputs": [
        {
          "output_type": "execute_result",
          "data": {
            "text/plain": [
              "array([[17,  0,  0],\n",
              "       [ 0, 14,  0],\n",
              "       [ 0,  1, 13]])"
            ]
          },
          "metadata": {},
          "execution_count": 42
        }
      ]
    },
    {
      "cell_type": "code",
      "source": [
        "print(classification_report(y, y_hat,\n",
        "                            target_names=['setosa',\n",
        "                                          'versicolor',\n",
        "                                          'virginica']))"
      ],
      "metadata": {
        "colab": {
          "base_uri": "https://localhost:8080/"
        },
        "id": "zOWzG0k47mLk",
        "outputId": "ca80aa8f-d217-47ea-daea-32e567aa1579"
      },
      "execution_count": 44,
      "outputs": [
        {
          "output_type": "stream",
          "name": "stdout",
          "text": [
            "              precision    recall  f1-score   support\n",
            "\n",
            "      setosa       1.00      1.00      1.00        17\n",
            "  versicolor       0.93      1.00      0.97        14\n",
            "   virginica       1.00      0.93      0.96        14\n",
            "\n",
            "    accuracy                           0.98        45\n",
            "   macro avg       0.98      0.98      0.98        45\n",
            "weighted avg       0.98      0.98      0.98        45\n",
            "\n"
          ]
        }
      ]
    },
    {
      "cell_type": "code",
      "source": [
        "!ls -l\n"
      ],
      "metadata": {
        "colab": {
          "base_uri": "https://localhost:8080/"
        },
        "id": "Bk7wfIHq8BSX",
        "outputId": "9ee6b97f-db4c-4a9e-eb0a-a24b7305f74e"
      },
      "execution_count": 50,
      "outputs": [
        {
          "output_type": "stream",
          "name": "stdout",
          "text": [
            "total 68\n",
            "-rw-r--r-- 1 root root 34240 Oct 10 04:56 Model_iris.h5\n",
            "-rw-r--r-- 1 root root 27143 Oct 10 04:30 model.png\n",
            "drwxr-xr-x 1 root root  4096 Oct  6 13:25 sample_data\n"
          ]
        }
      ]
    },
    {
      "cell_type": "code",
      "source": [
        "Model_iris.save('/content/Model_iris.h5')\n",
        "!ls -l"
      ],
      "metadata": {
        "colab": {
          "base_uri": "https://localhost:8080/"
        },
        "id": "AYsv54ud8HNz",
        "outputId": "87f974bb-5f18-4f4d-d032-16f7d2957ba2"
      },
      "execution_count": 49,
      "outputs": [
        {
          "output_type": "stream",
          "name": "stdout",
          "text": [
            "total 68\n",
            "-rw-r--r-- 1 root root 34240 Oct 10 04:56 Model_iris.h5\n",
            "-rw-r--r-- 1 root root 27143 Oct 10 04:30 model.png\n",
            "drwxr-xr-x 1 root root  4096 Oct  6 13:25 sample_data\n"
          ]
        }
      ]
    },
    {
      "cell_type": "code",
      "source": [
        "from google.colab import files\n",
        "\n",
        "files.download('/content/Model_iris.h5')"
      ],
      "metadata": {
        "colab": {
          "base_uri": "https://localhost:8080/",
          "height": 17
        },
        "id": "rgb49KHT8gCI",
        "outputId": "6562cc5b-0910-4c7e-9d59-5be41ee6d98b"
      },
      "execution_count": 51,
      "outputs": [
        {
          "output_type": "display_data",
          "data": {
            "text/plain": [
              "<IPython.core.display.Javascript object>"
            ],
            "application/javascript": [
              "\n",
              "    async function download(id, filename, size) {\n",
              "      if (!google.colab.kernel.accessAllowed) {\n",
              "        return;\n",
              "      }\n",
              "      const div = document.createElement('div');\n",
              "      const label = document.createElement('label');\n",
              "      label.textContent = `Downloading \"${filename}\": `;\n",
              "      div.appendChild(label);\n",
              "      const progress = document.createElement('progress');\n",
              "      progress.max = size;\n",
              "      div.appendChild(progress);\n",
              "      document.body.appendChild(div);\n",
              "\n",
              "      const buffers = [];\n",
              "      let downloaded = 0;\n",
              "\n",
              "      const channel = await google.colab.kernel.comms.open(id);\n",
              "      // Send a message to notify the kernel that we're ready.\n",
              "      channel.send({})\n",
              "\n",
              "      for await (const message of channel.messages) {\n",
              "        // Send a message to notify the kernel that we're ready.\n",
              "        channel.send({})\n",
              "        if (message.buffers) {\n",
              "          for (const buffer of message.buffers) {\n",
              "            buffers.push(buffer);\n",
              "            downloaded += buffer.byteLength;\n",
              "            progress.value = downloaded;\n",
              "          }\n",
              "        }\n",
              "      }\n",
              "      const blob = new Blob(buffers, {type: 'application/binary'});\n",
              "      const a = document.createElement('a');\n",
              "      a.href = window.URL.createObjectURL(blob);\n",
              "      a.download = filename;\n",
              "      div.appendChild(a);\n",
              "      a.click();\n",
              "      div.remove();\n",
              "    }\n",
              "  "
            ]
          },
          "metadata": {}
        },
        {
          "output_type": "display_data",
          "data": {
            "text/plain": [
              "<IPython.core.display.Javascript object>"
            ],
            "application/javascript": [
              "download(\"download_dce56e4d-1d87-4704-8229-1fc6ec70acbe\", \"Model_iris.h5\", 34240)"
            ]
          },
          "metadata": {}
        }
      ]
    },
    {
      "cell_type": "code",
      "source": [
        "from tensorflow.keras.models import load_model\n",
        "\n",
        "Model_local = load_model('/content/Model_iris.h5')"
      ],
      "metadata": {
        "id": "_chD4M_68vNf"
      },
      "execution_count": 53,
      "outputs": []
    },
    {
      "cell_type": "code",
      "source": [
        "np.argmax(Model_iris.predict(X_test, verbose=0), axis=1)"
      ],
      "metadata": {
        "colab": {
          "base_uri": "https://localhost:8080/"
        },
        "id": "BjOzZfuB9Ii0",
        "outputId": "edb39e41-c657-4de3-a7ba-d4b1c4ee4fc0"
      },
      "execution_count": 56,
      "outputs": [
        {
          "output_type": "execute_result",
          "data": {
            "text/plain": [
              "array([0, 0, 1, 2, 0, 1, 2, 0, 2, 0, 1, 2, 1, 0, 0, 1, 1, 0, 1, 0, 0, 0,\n",
              "       2, 0, 2, 2, 0, 1, 1, 2, 0, 1, 0, 1, 1, 1, 2, 1, 0, 1, 2, 0, 2, 2,\n",
              "       2])"
            ]
          },
          "metadata": {},
          "execution_count": 56
        }
      ]
    },
    {
      "cell_type": "code",
      "source": [
        "from google.colab import drive\n",
        "\n",
        "drive.mount('/content/driver')"
      ],
      "metadata": {
        "colab": {
          "base_uri": "https://localhost:8080/"
        },
        "id": "QknkYOM4XByu",
        "outputId": "c9d668fa-3f14-4b9e-e301-1c58b8446f81"
      },
      "execution_count": 58,
      "outputs": [
        {
          "output_type": "stream",
          "name": "stdout",
          "text": [
            "Mounted at /content/driver\n"
          ]
        }
      ]
    },
    {
      "cell_type": "code",
      "source": [
        "!mkdir -p '/content/driver/MyDrive/Colab Notebooks/models'"
      ],
      "metadata": {
        "id": "2-a1PVUiX28g"
      },
      "execution_count": 59,
      "outputs": []
    },
    {
      "cell_type": "code",
      "source": [
        "!ls -l '/content/driver/MyDrive/Colab Notebooks/models'"
      ],
      "metadata": {
        "colab": {
          "base_uri": "https://localhost:8080/"
        },
        "id": "zIq4G-N_YGvD",
        "outputId": "b6b3a35f-9302-4616-db09-23948b58084f"
      },
      "execution_count": 60,
      "outputs": [
        {
          "output_type": "stream",
          "name": "stdout",
          "text": [
            "total 0\n"
          ]
        }
      ]
    },
    {
      "cell_type": "code",
      "source": [
        "Model_iris.save('/content/driver/MyDrive/Colab Notebooks/models/001_Model_iris.h5')"
      ],
      "metadata": {
        "id": "AURZEV3pYYQj"
      },
      "execution_count": 61,
      "outputs": []
    },
    {
      "cell_type": "code",
      "source": [
        "!ls -l '/content/driver/MyDrive/Colab Notebooks/models'"
      ],
      "metadata": {
        "colab": {
          "base_uri": "https://localhost:8080/"
        },
        "id": "QydqaK_PYlgy",
        "outputId": "56868e6a-0521-40df-d1f6-a6c8d495e962"
      },
      "execution_count": 62,
      "outputs": [
        {
          "output_type": "stream",
          "name": "stdout",
          "text": [
            "total 34\n",
            "-rw------- 1 root root 34240 Oct 10 06:59 001_Model_iris.h5\n"
          ]
        }
      ]
    },
    {
      "cell_type": "code",
      "source": [
        "Model_google = load_model('/content/driver/MyDrive/Colab Notebooks/models/001_Model_iris.h5')"
      ],
      "metadata": {
        "id": "qWd2HMZSYq5u"
      },
      "execution_count": 63,
      "outputs": []
    },
    {
      "cell_type": "code",
      "source": [
        "np.argmax(Model_google.predict(X_test, verbose=0), axis=1)"
      ],
      "metadata": {
        "colab": {
          "base_uri": "https://localhost:8080/"
        },
        "id": "mG7ddLMrY2eL",
        "outputId": "723def55-77ec-403a-f078-0242605782cd"
      },
      "execution_count": 64,
      "outputs": [
        {
          "output_type": "execute_result",
          "data": {
            "text/plain": [
              "array([0, 0, 1, 2, 0, 1, 2, 0, 2, 0, 1, 2, 1, 0, 0, 1, 1, 0, 1, 0, 0, 0,\n",
              "       2, 0, 2, 2, 0, 1, 1, 2, 0, 1, 0, 1, 1, 1, 2, 1, 0, 1, 2, 0, 2, 2,\n",
              "       2])"
            ]
          },
          "metadata": {},
          "execution_count": 64
        }
      ]
    }
  ]
}