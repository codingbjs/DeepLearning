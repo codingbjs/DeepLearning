{
  "cells": [
    {
      "cell_type": "markdown",
      "metadata": {
        "id": "view-in-github",
        "colab_type": "text"
      },
      "source": [
        "<a href=\"https://colab.research.google.com/github/codingbjs/DeepLearning/blob/main/Convolutional_Neural_Network_CNN/CNN_Dogs_and_Cats_Google_Mount_GPU.ipynb\" target=\"_parent\"><img src=\"https://colab.research.google.com/assets/colab-badge.svg\" alt=\"Open In Colab\"/></a>"
      ]
    },
    {
      "cell_type": "code",
      "execution_count": 1,
      "metadata": {
        "id": "f75MI4HGgW4G"
      },
      "outputs": [],
      "source": [
        "import warnings\n",
        "warnings.filterwarnings('ignore')"
      ]
    },
    {
      "cell_type": "code",
      "execution_count": 2,
      "metadata": {
        "colab": {
          "base_uri": "https://localhost:8080/",
          "height": 35
        },
        "id": "rxNo32gtglnV",
        "outputId": "a44150d4-ee69-4f63-fdc6-c70142781e27"
      },
      "outputs": [
        {
          "output_type": "execute_result",
          "data": {
            "text/plain": [
              "'2.13.0'"
            ],
            "application/vnd.google.colaboratory.intrinsic+json": {
              "type": "string"
            }
          },
          "metadata": {},
          "execution_count": 2
        }
      ],
      "source": [
        "import tensorflow as tf\n",
        "\n",
        "tf.__version__"
      ]
    },
    {
      "cell_type": "code",
      "execution_count": 3,
      "metadata": {
        "colab": {
          "base_uri": "https://localhost:8080/"
        },
        "id": "XC6LDhNulcLQ",
        "outputId": "997fbf69-bb02-4fa1-a582-6918bf800cb2"
      },
      "outputs": [
        {
          "output_type": "stream",
          "name": "stdout",
          "text": [
            "Mounted at /content/drive\n"
          ]
        }
      ],
      "source": [
        "from google.colab import drive\n",
        "\n",
        "drive.mount('/content/drive')"
      ]
    },
    {
      "cell_type": "code",
      "execution_count": 4,
      "metadata": {
        "id": "e_jo_nyGl-1w"
      },
      "outputs": [],
      "source": [
        "!mkdir -p '/content/drive/MyDrive/Colab Notebooks/datasets'"
      ]
    },
    {
      "cell_type": "code",
      "execution_count": 5,
      "metadata": {
        "colab": {
          "base_uri": "https://localhost:8080/"
        },
        "id": "HFup1NhFmPaM",
        "outputId": "039c313f-581d-4ec3-94d5-9d34f22fe1d1"
      },
      "outputs": [
        {
          "output_type": "stream",
          "name": "stdout",
          "text": [
            "-rw------- 1 root root 90618980 Oct 13 00:46 '/content/drive/MyDrive/Colab Notebooks/datasets/dogs_and_cats_small.zip'\n"
          ]
        }
      ],
      "source": [
        "!ls -l '/content/drive/MyDrive/Colab Notebooks/datasets/dogs_and_cats_small.zip'"
      ]
    },
    {
      "cell_type": "code",
      "execution_count": 6,
      "metadata": {
        "id": "0I0qfWQJmyBj"
      },
      "outputs": [],
      "source": [
        "!unzip -q /content/drive/MyDrive/Colab\\ Notebooks/datasets/dogs_and_cats_small.zip"
      ]
    },
    {
      "cell_type": "code",
      "execution_count": 7,
      "metadata": {
        "colab": {
          "base_uri": "https://localhost:8080/"
        },
        "id": "14EJ-Rmhm5hX",
        "outputId": "0ce3dcb8-b07d-4321-cf77-912e8b607c85"
      },
      "outputs": [
        {
          "output_type": "stream",
          "name": "stdout",
          "text": [
            "total 20\n",
            "drwx------ 5 root root 4096 Oct 13 03:18 drive\n",
            "drwxr-xr-x 1 root root 4096 Oct 11 13:23 sample_data\n",
            "drwxr-xr-x 4 root root 4096 Oct 13 03:18 test\n",
            "drwxr-xr-x 4 root root 4096 Oct 13 03:18 train\n",
            "drwxr-xr-x 4 root root 4096 Oct 13 03:18 validation\n"
          ]
        }
      ],
      "source": [
        "!ls -l"
      ]
    },
    {
      "cell_type": "code",
      "source": [
        "train_dir = '/content/train'\n",
        "valid_dir = '/content/validation'\n",
        "test_dir = '/content/test'"
      ],
      "metadata": {
        "id": "UMcX6p2Cqgem"
      },
      "execution_count": 8,
      "outputs": []
    },
    {
      "cell_type": "code",
      "source": [
        "from tensorflow.keras.preprocessing.image import ImageDataGenerator\n",
        "\n",
        "train_datagen = ImageDataGenerator(rescale = 1./255)\n",
        "valid_datagen = ImageDataGenerator(rescale = 1./255)\n",
        "\n",
        "train_generator = train_datagen.flow_from_directory(\n",
        "                  train_dir,\n",
        "                  target_size = (150, 150),\n",
        "                  batch_size = 20,\n",
        "                  class_mode = 'binary')\n",
        "\n",
        "valid_generator = valid_datagen.flow_from_directory(\n",
        "                  valid_dir,\n",
        "                  target_size = (150, 150),\n",
        "                  batch_size = 20,\n",
        "                  class_mode = 'binary')"
      ],
      "metadata": {
        "colab": {
          "base_uri": "https://localhost:8080/"
        },
        "id": "G3Rdc5Avs3SM",
        "outputId": "8aa35b4c-b274-4605-b5f2-1fcdff231389"
      },
      "execution_count": 9,
      "outputs": [
        {
          "output_type": "stream",
          "name": "stdout",
          "text": [
            "Found 2000 images belonging to 2 classes.\n",
            "Found 1000 images belonging to 2 classes.\n"
          ]
        }
      ]
    },
    {
      "cell_type": "code",
      "source": [
        "for data_batch, labels_batch in train_generator:\n",
        "    print('배치 데이터 크기:', data_batch.shape)\n",
        "    print('배치 레이블 크기:', labels_batch.shape)\n",
        "    break"
      ],
      "metadata": {
        "colab": {
          "base_uri": "https://localhost:8080/"
        },
        "id": "4ZlocqsnuMtP",
        "outputId": "9fe57fd2-7970-4925-c3d4-263a26c1f873"
      },
      "execution_count": 10,
      "outputs": [
        {
          "output_type": "stream",
          "name": "stdout",
          "text": [
            "배치 데이터 크기: (20, 150, 150, 3)\n",
            "배치 레이블 크기: (20,)\n"
          ]
        }
      ]
    },
    {
      "cell_type": "code",
      "source": [
        "labels_batch"
      ],
      "metadata": {
        "colab": {
          "base_uri": "https://localhost:8080/"
        },
        "id": "iHauY_B4u3PW",
        "outputId": "b7ea2033-87c3-4704-a893-50cebff584bf"
      },
      "execution_count": 11,
      "outputs": [
        {
          "output_type": "execute_result",
          "data": {
            "text/plain": [
              "array([0., 1., 0., 1., 1., 1., 0., 0., 1., 0., 0., 1., 1., 1., 0., 1., 1.,\n",
              "       1., 0., 1.], dtype=float32)"
            ]
          },
          "metadata": {},
          "execution_count": 11
        }
      ]
    },
    {
      "cell_type": "code",
      "source": [
        "from tensorflow.keras import layers\n",
        "from tensorflow.keras import models\n",
        "\n",
        "model = models.Sequential()\n",
        "model.add(layers.Conv2D(32, (3, 3), activation = 'relu', input_shape = (150, 150, 3)))\n",
        "model.add(layers.MaxPooling2D((2, 2)))\n",
        "model.add(layers.Conv2D(64, (3, 3), activation = 'relu'))\n",
        "model.add(layers.MaxPooling2D((2, 2)))\n",
        "model.add(layers.Conv2D(128, (3, 3), activation = 'relu'))\n",
        "model.add(layers.MaxPooling2D((2, 2)))\n",
        "model.add(layers.Conv2D(128, (3, 3), activation = 'relu'))\n",
        "model.add(layers.MaxPooling2D((2, 2)))\n",
        "\n",
        "model.add(layers.Flatten())\n",
        "model.add(layers.Dense(512, activation = 'relu'))\n",
        "model.add(layers.Dense(1, activation = 'sigmoid'))"
      ],
      "metadata": {
        "id": "B0Q6mDOn6gYm"
      },
      "execution_count": 12,
      "outputs": []
    },
    {
      "cell_type": "code",
      "source": [
        "model.summary()"
      ],
      "metadata": {
        "colab": {
          "base_uri": "https://localhost:8080/"
        },
        "id": "5xbIoSnK6i0C",
        "outputId": "0799d2b1-4755-4a86-f692-c823a628c1de"
      },
      "execution_count": 13,
      "outputs": [
        {
          "output_type": "stream",
          "name": "stdout",
          "text": [
            "Model: \"sequential\"\n",
            "_________________________________________________________________\n",
            " Layer (type)                Output Shape              Param #   \n",
            "=================================================================\n",
            " conv2d (Conv2D)             (None, 148, 148, 32)      896       \n",
            "                                                                 \n",
            " max_pooling2d (MaxPooling2  (None, 74, 74, 32)        0         \n",
            " D)                                                              \n",
            "                                                                 \n",
            " conv2d_1 (Conv2D)           (None, 72, 72, 64)        18496     \n",
            "                                                                 \n",
            " max_pooling2d_1 (MaxPoolin  (None, 36, 36, 64)        0         \n",
            " g2D)                                                            \n",
            "                                                                 \n",
            " conv2d_2 (Conv2D)           (None, 34, 34, 128)       73856     \n",
            "                                                                 \n",
            " max_pooling2d_2 (MaxPoolin  (None, 17, 17, 128)       0         \n",
            " g2D)                                                            \n",
            "                                                                 \n",
            " conv2d_3 (Conv2D)           (None, 15, 15, 128)       147584    \n",
            "                                                                 \n",
            " max_pooling2d_3 (MaxPoolin  (None, 7, 7, 128)         0         \n",
            " g2D)                                                            \n",
            "                                                                 \n",
            " flatten (Flatten)           (None, 6272)              0         \n",
            "                                                                 \n",
            " dense (Dense)               (None, 512)               3211776   \n",
            "                                                                 \n",
            " dense_1 (Dense)             (None, 1)                 513       \n",
            "                                                                 \n",
            "=================================================================\n",
            "Total params: 3453121 (13.17 MB)\n",
            "Trainable params: 3453121 (13.17 MB)\n",
            "Non-trainable params: 0 (0.00 Byte)\n",
            "_________________________________________________________________\n"
          ]
        }
      ]
    },
    {
      "cell_type": "code",
      "source": [
        "model.compile(loss = 'binary_crossentropy',\n",
        "              optimizer = 'adam',\n",
        "              metrics = ['accuracy'])"
      ],
      "metadata": {
        "id": "6caekjPv6k9B"
      },
      "execution_count": 14,
      "outputs": []
    },
    {
      "cell_type": "code",
      "source": [
        "%%time\n",
        "\n",
        "Hist_dandc = model.fit(train_generator,\n",
        "                       steps_per_epoch = 100,\n",
        "                       epochs = 60,\n",
        "                       validation_data = valid_generator,\n",
        "                       validation_steps = 50)"
      ],
      "metadata": {
        "colab": {
          "base_uri": "https://localhost:8080/"
        },
        "id": "-DN-_Mb_6nzI",
        "outputId": "c12e4911-f022-4d04-fbf8-5e7b9c9c34ff"
      },
      "execution_count": 15,
      "outputs": [
        {
          "output_type": "stream",
          "name": "stdout",
          "text": [
            "Epoch 1/60\n",
            "100/100 [==============================] - 19s 69ms/step - loss: 0.7009 - accuracy: 0.5130 - val_loss: 0.6930 - val_accuracy: 0.5000\n",
            "Epoch 2/60\n",
            "100/100 [==============================] - 5s 50ms/step - loss: 0.6935 - accuracy: 0.5065 - val_loss: 0.6910 - val_accuracy: 0.5150\n",
            "Epoch 3/60\n",
            "100/100 [==============================] - 7s 68ms/step - loss: 0.6930 - accuracy: 0.5215 - val_loss: 0.6808 - val_accuracy: 0.5680\n",
            "Epoch 4/60\n",
            "100/100 [==============================] - 5s 51ms/step - loss: 0.6807 - accuracy: 0.5520 - val_loss: 0.6612 - val_accuracy: 0.6230\n",
            "Epoch 5/60\n",
            "100/100 [==============================] - 7s 68ms/step - loss: 0.6860 - accuracy: 0.5390 - val_loss: 0.6803 - val_accuracy: 0.5570\n",
            "Epoch 6/60\n",
            "100/100 [==============================] - 6s 61ms/step - loss: 0.6748 - accuracy: 0.5595 - val_loss: 0.6487 - val_accuracy: 0.6170\n",
            "Epoch 7/60\n",
            "100/100 [==============================] - 6s 61ms/step - loss: 0.6478 - accuracy: 0.6275 - val_loss: 0.6417 - val_accuracy: 0.6410\n",
            "Epoch 8/60\n",
            "100/100 [==============================] - 6s 55ms/step - loss: 0.6249 - accuracy: 0.6560 - val_loss: 0.6607 - val_accuracy: 0.5980\n",
            "Epoch 9/60\n",
            "100/100 [==============================] - 5s 51ms/step - loss: 0.5678 - accuracy: 0.7050 - val_loss: 0.6307 - val_accuracy: 0.6660\n",
            "Epoch 10/60\n",
            "100/100 [==============================] - 5s 51ms/step - loss: 0.5258 - accuracy: 0.7350 - val_loss: 0.6601 - val_accuracy: 0.6450\n",
            "Epoch 11/60\n",
            "100/100 [==============================] - 7s 67ms/step - loss: 0.4541 - accuracy: 0.7810 - val_loss: 0.6988 - val_accuracy: 0.6340\n",
            "Epoch 12/60\n",
            "100/100 [==============================] - 5s 51ms/step - loss: 0.3601 - accuracy: 0.8390 - val_loss: 0.8040 - val_accuracy: 0.6620\n",
            "Epoch 13/60\n",
            "100/100 [==============================] - 7s 66ms/step - loss: 0.2613 - accuracy: 0.8850 - val_loss: 0.7429 - val_accuracy: 0.6670\n",
            "Epoch 14/60\n",
            "100/100 [==============================] - 5s 51ms/step - loss: 0.1592 - accuracy: 0.9355 - val_loss: 1.0371 - val_accuracy: 0.6790\n",
            "Epoch 15/60\n",
            "100/100 [==============================] - 7s 66ms/step - loss: 0.0752 - accuracy: 0.9725 - val_loss: 1.4285 - val_accuracy: 0.6850\n",
            "Epoch 16/60\n",
            "100/100 [==============================] - 10s 98ms/step - loss: 0.0906 - accuracy: 0.9710 - val_loss: 1.4989 - val_accuracy: 0.6640\n",
            "Epoch 17/60\n",
            "100/100 [==============================] - 7s 65ms/step - loss: 0.0797 - accuracy: 0.9710 - val_loss: 1.9334 - val_accuracy: 0.6640\n",
            "Epoch 18/60\n",
            "100/100 [==============================] - 5s 53ms/step - loss: 0.0687 - accuracy: 0.9780 - val_loss: 1.6319 - val_accuracy: 0.6740\n",
            "Epoch 19/60\n",
            "100/100 [==============================] - 5s 52ms/step - loss: 0.0153 - accuracy: 0.9970 - val_loss: 1.8851 - val_accuracy: 0.6960\n",
            "Epoch 20/60\n",
            "100/100 [==============================] - 5s 50ms/step - loss: 0.0161 - accuracy: 0.9935 - val_loss: 2.1117 - val_accuracy: 0.6850\n",
            "Epoch 21/60\n",
            "100/100 [==============================] - 6s 65ms/step - loss: 0.0067 - accuracy: 0.9985 - val_loss: 2.2332 - val_accuracy: 0.6840\n",
            "Epoch 22/60\n",
            "100/100 [==============================] - 5s 50ms/step - loss: 7.3232e-04 - accuracy: 1.0000 - val_loss: 2.3452 - val_accuracy: 0.6960\n",
            "Epoch 23/60\n",
            "100/100 [==============================] - 6s 61ms/step - loss: 2.5372e-04 - accuracy: 1.0000 - val_loss: 2.6274 - val_accuracy: 0.7010\n",
            "Epoch 24/60\n",
            "100/100 [==============================] - 6s 61ms/step - loss: 1.2874e-04 - accuracy: 1.0000 - val_loss: 2.6298 - val_accuracy: 0.6950\n",
            "Epoch 25/60\n",
            "100/100 [==============================] - 7s 66ms/step - loss: 8.6423e-05 - accuracy: 1.0000 - val_loss: 2.9153 - val_accuracy: 0.6940\n",
            "Epoch 26/60\n",
            "100/100 [==============================] - 5s 50ms/step - loss: 6.0709e-05 - accuracy: 1.0000 - val_loss: 3.0189 - val_accuracy: 0.6930\n",
            "Epoch 27/60\n",
            "100/100 [==============================] - 6s 63ms/step - loss: 4.8409e-05 - accuracy: 1.0000 - val_loss: 2.9697 - val_accuracy: 0.7000\n",
            "Epoch 28/60\n",
            "100/100 [==============================] - 5s 53ms/step - loss: 3.8795e-05 - accuracy: 1.0000 - val_loss: 3.0536 - val_accuracy: 0.6950\n",
            "Epoch 29/60\n",
            "100/100 [==============================] - 7s 68ms/step - loss: 3.3178e-05 - accuracy: 1.0000 - val_loss: 3.0896 - val_accuracy: 0.6960\n",
            "Epoch 30/60\n",
            "100/100 [==============================] - 5s 50ms/step - loss: 2.8449e-05 - accuracy: 1.0000 - val_loss: 3.1257 - val_accuracy: 0.6960\n",
            "Epoch 31/60\n",
            "100/100 [==============================] - 7s 66ms/step - loss: 2.5359e-05 - accuracy: 1.0000 - val_loss: 3.1754 - val_accuracy: 0.6920\n",
            "Epoch 32/60\n",
            "100/100 [==============================] - 5s 49ms/step - loss: 2.2662e-05 - accuracy: 1.0000 - val_loss: 3.1999 - val_accuracy: 0.6930\n",
            "Epoch 33/60\n",
            "100/100 [==============================] - 5s 52ms/step - loss: 2.0109e-05 - accuracy: 1.0000 - val_loss: 3.2167 - val_accuracy: 0.6930\n",
            "Epoch 34/60\n",
            "100/100 [==============================] - 7s 65ms/step - loss: 1.7778e-05 - accuracy: 1.0000 - val_loss: 3.2621 - val_accuracy: 0.6950\n",
            "Epoch 35/60\n",
            "100/100 [==============================] - 6s 61ms/step - loss: 1.6098e-05 - accuracy: 1.0000 - val_loss: 3.2656 - val_accuracy: 0.6940\n",
            "Epoch 36/60\n",
            "100/100 [==============================] - 7s 65ms/step - loss: 1.4804e-05 - accuracy: 1.0000 - val_loss: 3.2852 - val_accuracy: 0.6960\n",
            "Epoch 37/60\n",
            "100/100 [==============================] - 5s 51ms/step - loss: 1.3214e-05 - accuracy: 1.0000 - val_loss: 3.3444 - val_accuracy: 0.6910\n",
            "Epoch 38/60\n",
            "100/100 [==============================] - 6s 61ms/step - loss: 1.2229e-05 - accuracy: 1.0000 - val_loss: 3.3628 - val_accuracy: 0.6920\n",
            "Epoch 39/60\n",
            "100/100 [==============================] - 5s 54ms/step - loss: 1.1009e-05 - accuracy: 1.0000 - val_loss: 3.4024 - val_accuracy: 0.6930\n",
            "Epoch 40/60\n",
            "100/100 [==============================] - 8s 76ms/step - loss: 1.0254e-05 - accuracy: 1.0000 - val_loss: 3.4091 - val_accuracy: 0.6940\n",
            "Epoch 41/60\n",
            "100/100 [==============================] - 5s 50ms/step - loss: 9.3860e-06 - accuracy: 1.0000 - val_loss: 3.4234 - val_accuracy: 0.6940\n",
            "Epoch 42/60\n",
            "100/100 [==============================] - 7s 67ms/step - loss: 8.4731e-06 - accuracy: 1.0000 - val_loss: 3.4272 - val_accuracy: 0.6940\n",
            "Epoch 43/60\n",
            "100/100 [==============================] - 5s 51ms/step - loss: 7.8479e-06 - accuracy: 1.0000 - val_loss: 3.4653 - val_accuracy: 0.6970\n",
            "Epoch 44/60\n",
            "100/100 [==============================] - 7s 65ms/step - loss: 7.2667e-06 - accuracy: 1.0000 - val_loss: 3.4798 - val_accuracy: 0.6960\n",
            "Epoch 45/60\n",
            "100/100 [==============================] - 5s 50ms/step - loss: 6.6245e-06 - accuracy: 1.0000 - val_loss: 3.5126 - val_accuracy: 0.6950\n",
            "Epoch 46/60\n",
            "100/100 [==============================] - 6s 61ms/step - loss: 6.0936e-06 - accuracy: 1.0000 - val_loss: 3.5229 - val_accuracy: 0.6970\n",
            "Epoch 47/60\n",
            "100/100 [==============================] - 5s 51ms/step - loss: 5.7735e-06 - accuracy: 1.0000 - val_loss: 3.5373 - val_accuracy: 0.6950\n",
            "Epoch 48/60\n",
            "100/100 [==============================] - 7s 65ms/step - loss: 5.2723e-06 - accuracy: 1.0000 - val_loss: 3.5541 - val_accuracy: 0.6940\n",
            "Epoch 49/60\n",
            "100/100 [==============================] - 5s 50ms/step - loss: 4.9264e-06 - accuracy: 1.0000 - val_loss: 3.5753 - val_accuracy: 0.6960\n",
            "Epoch 50/60\n",
            "100/100 [==============================] - 6s 61ms/step - loss: 4.4843e-06 - accuracy: 1.0000 - val_loss: 3.5838 - val_accuracy: 0.6960\n",
            "Epoch 51/60\n",
            "100/100 [==============================] - 5s 51ms/step - loss: 4.1192e-06 - accuracy: 1.0000 - val_loss: 3.6093 - val_accuracy: 0.6930\n",
            "Epoch 52/60\n",
            "100/100 [==============================] - 7s 66ms/step - loss: 3.8663e-06 - accuracy: 1.0000 - val_loss: 3.6242 - val_accuracy: 0.6950\n",
            "Epoch 53/60\n",
            "100/100 [==============================] - 5s 51ms/step - loss: 3.5940e-06 - accuracy: 1.0000 - val_loss: 3.6336 - val_accuracy: 0.6960\n",
            "Epoch 54/60\n",
            "100/100 [==============================] - 6s 55ms/step - loss: 3.3062e-06 - accuracy: 1.0000 - val_loss: 3.6440 - val_accuracy: 0.6950\n",
            "Epoch 55/60\n",
            "100/100 [==============================] - 6s 61ms/step - loss: 3.0585e-06 - accuracy: 1.0000 - val_loss: 3.6666 - val_accuracy: 0.6930\n",
            "Epoch 56/60\n",
            "100/100 [==============================] - 5s 50ms/step - loss: 2.8257e-06 - accuracy: 1.0000 - val_loss: 3.6948 - val_accuracy: 0.6970\n",
            "Epoch 57/60\n",
            "100/100 [==============================] - 7s 67ms/step - loss: 2.6419e-06 - accuracy: 1.0000 - val_loss: 3.7014 - val_accuracy: 0.6950\n",
            "Epoch 58/60\n",
            "100/100 [==============================] - 5s 50ms/step - loss: 2.4415e-06 - accuracy: 1.0000 - val_loss: 3.7155 - val_accuracy: 0.6950\n",
            "Epoch 59/60\n",
            "100/100 [==============================] - 6s 61ms/step - loss: 2.2353e-06 - accuracy: 1.0000 - val_loss: 3.7314 - val_accuracy: 0.6960\n",
            "Epoch 60/60\n",
            "100/100 [==============================] - 5s 53ms/step - loss: 2.0946e-06 - accuracy: 1.0000 - val_loss: 3.7548 - val_accuracy: 0.6940\n",
            "CPU times: user 6min 47s, sys: 14.9 s, total: 7min 2s\n",
            "Wall time: 7min 1s\n"
          ]
        }
      ]
    },
    {
      "cell_type": "code",
      "source": [
        "import matplotlib.pyplot as plt\n",
        "\n",
        "epochs = range(1, len(Hist_dandc.history['loss']) + 1)\n",
        "\n",
        "plt.figure(figsize = (15, 5))\n",
        "\n",
        "plt.subplot(1, 2, 1)\n",
        "plt.plot(epochs, Hist_dandc.history['loss'], 'b-')\n",
        "plt.plot(epochs, Hist_dandc.history['val_loss'], 'r--')\n",
        "plt.title('Training & Validation Loss')\n",
        "plt.xlabel('Epochs')\n",
        "plt.ylabel('Loss')\n",
        "plt.legend(['Training Loss', 'Validation Loss'])\n",
        "plt.grid()\n",
        "\n",
        "plt.subplot(1, 2, 2)\n",
        "plt.plot(epochs, Hist_dandc.history['accuracy'], 'b-')\n",
        "plt.plot(epochs, Hist_dandc.history['val_accuracy'], 'r--')\n",
        "plt.title('Training & Validation Accuracy')\n",
        "plt.xlabel('Epochs')\n",
        "plt.ylabel('Accuracy')\n",
        "plt.legend(['Training Accuracy', 'Validation Accuracy'])\n",
        "plt.grid()\n",
        "\n",
        "plt.show()"
      ],
      "metadata": {
        "colab": {
          "base_uri": "https://localhost:8080/",
          "height": 458
        },
        "id": "yHwhNWEl6wgk",
        "outputId": "1690cd67-29ca-4906-fdb9-9f2a20505e7c"
      },
      "execution_count": 16,
      "outputs": [
        {
          "output_type": "display_data",
          "data": {
            "text/plain": [
              "<Figure size 1500x500 with 2 Axes>"
            ],
            "image/png": "[encoded data removed]"
          },
          "metadata": {}
        }
      ]
    },
    {
      "cell_type": "code",
      "source": [
        "test_datagen = ImageDataGenerator(rescale = 1./255)\n",
        "\n",
        "test_generator = test_datagen.flow_from_directory(\n",
        "                 test_dir,\n",
        "                 target_size = (150, 150),\n",
        "                 batch_size = 20,\n",
        "                 class_mode = 'binary')"
      ],
      "metadata": {
        "colab": {
          "base_uri": "https://localhost:8080/"
        },
        "id": "NZuBxh0O60IO",
        "outputId": "c1f2ee5a-b041-43ae-90b3-69d966a16219"
      },
      "execution_count": 17,
      "outputs": [
        {
          "output_type": "stream",
          "name": "stdout",
          "text": [
            "Found 1000 images belonging to 2 classes.\n"
          ]
        }
      ]
    },
    {
      "cell_type": "code",
      "source": [
        "loss, accuracy = model.evaluate(test_generator,\n",
        "                                steps = 50,\n",
        "                                verbose = 0)\n",
        "\n",
        "print('Loss = {:.5f}'.format(loss))\n",
        "print('Accuracy = {:.5f}'.format(accuracy))"
      ],
      "metadata": {
        "colab": {
          "base_uri": "https://localhost:8080/"
        },
        "id": "041QATxJ615Z",
        "outputId": "bd6b06ee-85c7-47a5-e18b-598240fc3907"
      },
      "execution_count": 18,
      "outputs": [
        {
          "output_type": "stream",
          "name": "stdout",
          "text": [
            "Loss = 4.15658\n",
            "Accuracy = 0.66300\n"
          ]
        }
      ]
    },
    {
      "cell_type": "code",
      "source": [
        "from google.colab import drive\n",
        "\n",
        "drive.mount('/content/drive')"
      ],
      "metadata": {
        "colab": {
          "base_uri": "https://localhost:8080/"
        },
        "id": "2Q6s1XCc64QX",
        "outputId": "4efe9b18-3c9a-452e-8703-15b7b33535e1"
      },
      "execution_count": 19,
      "outputs": [
        {
          "output_type": "stream",
          "name": "stdout",
          "text": [
            "Drive already mounted at /content/drive; to attempt to forcibly remount, call drive.mount(\"/content/drive\", force_remount=True).\n"
          ]
        }
      ]
    },
    {
      "cell_type": "code",
      "source": [
        "!mkdir -p '/content/drive/My Drive/Colab Notebooks/models'"
      ],
      "metadata": {
        "id": "wDbcgdxF66Ee"
      },
      "execution_count": 20,
      "outputs": []
    },
    {
      "cell_type": "code",
      "source": [
        "model.save('/content/drive/My Drive/Colab Notebooks/models/002_dogs_and_cats_small.h5')"
      ],
      "metadata": {
        "id": "sH7BVm0J67nU"
      },
      "execution_count": 21,
      "outputs": []
    },
    {
      "cell_type": "code",
      "source": [
        "!ls -l /content/drive/My\\ Drive/Colab\\ Notebooks/models"
      ],
      "metadata": {
        "colab": {
          "base_uri": "https://localhost:8080/"
        },
        "id": "aoxBAVm569LM",
        "outputId": "0cb20e24-1c33-4b2b-fd47-5785d034d793"
      },
      "execution_count": 22,
      "outputs": [
        {
          "output_type": "stream",
          "name": "stdout",
          "text": [
            "total 40558\n",
            "-rw------- 1 root root    34240 Oct 10 06:59 001_Model_iris.h5\n",
            "-rw------- 1 root root 41496728 Oct 13 03:28 002_dogs_and_cats_small.h5\n"
          ]
        }
      ]
    },
    {
      "cell_type": "code",
      "source": [
        "from tensorflow.keras.models import load_model\n",
        "\n",
        "model_small = load_model('/content/drive/My Drive/Colab Notebooks/models/002_dogs_and_cats_small.h5')"
      ],
      "metadata": {
        "id": "ettYX7jP7AfK"
      },
      "execution_count": 23,
      "outputs": []
    },
    {
      "cell_type": "code",
      "source": [
        "loss, accuracy = model_small.evaluate(test_generator,\n",
        "                                      steps = 50,\n",
        "                                      verbose = 0)\n",
        "\n",
        "print('Loss = {:.5f}'.format(loss))\n",
        "print('Accuracy = {:.5f}'.format(accuracy))"
      ],
      "metadata": {
        "colab": {
          "base_uri": "https://localhost:8080/"
        },
        "id": "9A-pLxcz7CfX",
        "outputId": "ada6e1a4-8f2f-464e-e077-f922288379fc"
      },
      "execution_count": 24,
      "outputs": [
        {
          "output_type": "stream",
          "name": "stdout",
          "text": [
            "Loss = 4.15658\n",
            "Accuracy = 0.66300\n"
          ]
        }
      ]
    }
  ],
  "metadata": {
    "accelerator": "GPU",
    "colab": {
      "provenance": [],
      "authorship_tag": "ABX9TyN8fl/QP2wL+pjf529dT4n5",
      "include_colab_link": true
    },
    "kernelspec": {
      "display_name": "Python 3",
      "name": "python3"
    },
    "language_info": {
      "name": "python"
    }
  },
  "nbformat": 4,
  "nbformat_minor": 0
}