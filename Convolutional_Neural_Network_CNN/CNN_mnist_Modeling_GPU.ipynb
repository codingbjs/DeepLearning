{
  "nbformat": 4,
  "nbformat_minor": 0,
  "metadata": {
    "colab": {
      "provenance": [],
      "gpuType": "T4",
      "authorship_tag": "ABX9TyMs/Ha8NHcGgU0n5JX2uROd",
      "include_colab_link": true
    },
    "kernelspec": {
      "name": "python3",
      "display_name": "Python 3"
    },
    "language_info": {
      "name": "python"
    },
    "accelerator": "GPU"
  },
  "cells": [
    {
      "cell_type": "markdown",
      "metadata": {
        "id": "view-in-github",
        "colab_type": "text"
      },
      "source": [
        "<a href=\"https://colab.research.google.com/github/codingbjs/DeepLearning/blob/main/Convolutional_Neural_Network_CNN/CNN_mnist_Modeling_GPU.ipynb\" target=\"_parent\"><img src=\"https://colab.research.google.com/assets/colab-badge.svg\" alt=\"Open In Colab\"/></a>"
      ]
    },
    {
      "cell_type": "code",
      "execution_count": null,
      "metadata": {
        "id": "EWbmvj3PxsU1"
      },
      "outputs": [],
      "source": [
        "import warnings\n",
        "warnings.filterwarnings('ignore')"
      ]
    },
    {
      "cell_type": "code",
      "source": [
        "import tensorflow\n",
        "\n",
        "tensorflow.__version__"
      ],
      "metadata": {
        "colab": {
          "base_uri": "https://localhost:8080/",
          "height": 35
        },
        "id": "M1vmWbhMyL89",
        "outputId": "c7942650-d4b9-4bf1-d875-660135d5d764"
      },
      "execution_count": null,
      "outputs": [
        {
          "output_type": "execute_result",
          "data": {
            "text/plain": [
              "'2.13.0'"
            ],
            "application/vnd.google.colaboratory.intrinsic+json": {
              "type": "string"
            }
          },
          "metadata": {},
          "execution_count": 2
        }
      ]
    },
    {
      "cell_type": "code",
      "source": [
        "from tensorflow.keras.datasets import mnist\n",
        "(X_train, y_train), (X_test, y_test) = mnist.load_data()"
      ],
      "metadata": {
        "id": "u42yYif9ycyy"
      },
      "execution_count": null,
      "outputs": []
    },
    {
      "cell_type": "code",
      "source": [
        "X_train.shape, y_train.shape, X_test.shape, y_test.shape"
      ],
      "metadata": {
        "colab": {
          "base_uri": "https://localhost:8080/"
        },
        "id": "WKUI9sKNykbd",
        "outputId": "1a40a001-c7d5-4fd0-a1a1-24fcea195038"
      },
      "execution_count": null,
      "outputs": [
        {
          "output_type": "execute_result",
          "data": {
            "text/plain": [
              "((60000, 28, 28), (60000,), (10000, 28, 28), (10000,))"
            ]
          },
          "metadata": {},
          "execution_count": 41
        }
      ]
    },
    {
      "cell_type": "code",
      "source": [
        "X_train = X_train.astype(float) / 255\n",
        "X_test = X_test.astype(float) / 255\n",
        "\n",
        "X_train.shape, y_train.shape, X_test.shape, y_test.shape"
      ],
      "metadata": {
        "colab": {
          "base_uri": "https://localhost:8080/"
        },
        "id": "1zXlNKB4yw21",
        "outputId": "d67ddcc4-7251-43cc-84dc-73867b41e39f"
      },
      "execution_count": null,
      "outputs": [
        {
          "output_type": "execute_result",
          "data": {
            "text/plain": [
              "((60000, 28, 28), (60000,), (10000, 28, 28), (10000,))"
            ]
          },
          "metadata": {},
          "execution_count": 42
        }
      ]
    },
    {
      "cell_type": "code",
      "source": [
        "X_train = X_train.reshape((60000, 28, 28, 1))\n",
        "X_test = X_test.reshape((10000, 28, 28, 1))"
      ],
      "metadata": {
        "id": "cuAmHhN7y_tn"
      },
      "execution_count": null,
      "outputs": []
    },
    {
      "cell_type": "code",
      "source": [
        "from tensorflow.keras.utils import to_categorical\n",
        "\n",
        "y_train = to_categorical(y_train)\n",
        "y_test = to_categorical(y_test)"
      ],
      "metadata": {
        "id": "B52WtqVuzH7F"
      },
      "execution_count": null,
      "outputs": []
    },
    {
      "cell_type": "code",
      "source": [
        "from sklearn.model_selection import train_test_split\n",
        "\n",
        "\n",
        "X_train, X_valid, y_train, y_valid = train_test_split(X_train, y_train,\n",
        "                                                      test_size = 0.2,\n",
        "                                                      random_state = 2045)\n",
        "X_train.shape, y_train.shape, X_valid.shape, y_valid.shape"
      ],
      "metadata": {
        "colab": {
          "base_uri": "https://localhost:8080/"
        },
        "id": "3t4aZwF0zMo7",
        "outputId": "268bbc1a-c6a2-41bd-8e83-3975d39c5d84"
      },
      "execution_count": null,
      "outputs": [
        {
          "output_type": "execute_result",
          "data": {
            "text/plain": [
              "((48000, 28, 28, 1), (48000, 10), (12000, 28, 28, 1), (12000, 10))"
            ]
          },
          "metadata": {},
          "execution_count": 45
        }
      ]
    },
    {
      "cell_type": "code",
      "source": [
        "from tensorflow.keras import models, layers\n",
        "\n",
        "model = models.Sequential()\n",
        "model.add(layers.Input(shape = (28, 28, 1)))\n",
        "model.add(layers.Conv2D(filters=8, kernel_size=(3,3),\n",
        "                        strides =(1,1), padding='valid',\n",
        "                        activation = 'relu'))\n",
        "\n",
        "model.add(layers.MaxPool2D(pool_size=(2,2)))\n",
        "\n",
        "model.add(layers.Conv2D(filters=16, kernel_size=(3,3),\n",
        "                        strides =(1,1), padding='valid',\n",
        "                        activation = 'relu'))\n",
        "\n",
        "model.add(layers.MaxPool2D(pool_size=(2,2)))\n",
        "\n",
        "model.add(layers.Conv2D(filters=32, kernel_size=(3,3),\n",
        "                        strides =(1,1), padding='valid',\n",
        "                        activation = 'relu'))"
      ],
      "metadata": {
        "id": "lXvjSQeLzS1t"
      },
      "execution_count": null,
      "outputs": []
    },
    {
      "cell_type": "code",
      "source": [
        "model.summary()"
      ],
      "metadata": {
        "colab": {
          "base_uri": "https://localhost:8080/"
        },
        "id": "zzLd2GH_0ygd",
        "outputId": "5e118531-fbe3-4af0-90e1-40a3264d80cd"
      },
      "execution_count": null,
      "outputs": [
        {
          "output_type": "stream",
          "name": "stdout",
          "text": [
            "Model: \"sequential_4\"\n",
            "_________________________________________________________________\n",
            " Layer (type)                Output Shape              Param #   \n",
            "=================================================================\n",
            " conv2d_9 (Conv2D)           (None, 26, 26, 8)         80        \n",
            "                                                                 \n",
            " max_pooling2d_6 (MaxPoolin  (None, 13, 13, 8)         0         \n",
            " g2D)                                                            \n",
            "                                                                 \n",
            " conv2d_10 (Conv2D)          (None, 11, 11, 16)        1168      \n",
            "                                                                 \n",
            " max_pooling2d_7 (MaxPoolin  (None, 5, 5, 16)          0         \n",
            " g2D)                                                            \n",
            "                                                                 \n",
            " conv2d_11 (Conv2D)          (None, 3, 3, 32)          4640      \n",
            "                                                                 \n",
            "=================================================================\n",
            "Total params: 5888 (23.00 KB)\n",
            "Trainable params: 5888 (23.00 KB)\n",
            "Non-trainable params: 0 (0.00 Byte)\n",
            "_________________________________________________________________\n"
          ]
        }
      ]
    },
    {
      "cell_type": "code",
      "source": [
        "model.add(layers.Flatten())\n",
        "model.add(layers.Dropout(0.5))\n",
        "model.add(layers.Dense(units=64, activation = 'relu'))\n",
        "model.add(layers.Dense(units=10, activation = 'softmax'))"
      ],
      "metadata": {
        "id": "OFWcd_zK1DWd"
      },
      "execution_count": null,
      "outputs": []
    },
    {
      "cell_type": "code",
      "source": [
        "model.summary()"
      ],
      "metadata": {
        "colab": {
          "base_uri": "https://localhost:8080/"
        },
        "id": "vlWh1Pmz1fbE",
        "outputId": "561085c6-fc71-46a0-e517-7810f6115229"
      },
      "execution_count": null,
      "outputs": [
        {
          "output_type": "stream",
          "name": "stdout",
          "text": [
            "Model: \"sequential_4\"\n",
            "_________________________________________________________________\n",
            " Layer (type)                Output Shape              Param #   \n",
            "=================================================================\n",
            " conv2d_9 (Conv2D)           (None, 26, 26, 8)         80        \n",
            "                                                                 \n",
            " max_pooling2d_6 (MaxPoolin  (None, 13, 13, 8)         0         \n",
            " g2D)                                                            \n",
            "                                                                 \n",
            " conv2d_10 (Conv2D)          (None, 11, 11, 16)        1168      \n",
            "                                                                 \n",
            " max_pooling2d_7 (MaxPoolin  (None, 5, 5, 16)          0         \n",
            " g2D)                                                            \n",
            "                                                                 \n",
            " conv2d_11 (Conv2D)          (None, 3, 3, 32)          4640      \n",
            "                                                                 \n",
            " flatten_3 (Flatten)         (None, 288)               0         \n",
            "                                                                 \n",
            " dropout_3 (Dropout)         (None, 288)               0         \n",
            "                                                                 \n",
            " dense_6 (Dense)             (None, 64)                18496     \n",
            "                                                                 \n",
            " dense_7 (Dense)             (None, 10)                650       \n",
            "                                                                 \n",
            "=================================================================\n",
            "Total params: 25034 (97.79 KB)\n",
            "Trainable params: 25034 (97.79 KB)\n",
            "Non-trainable params: 0 (0.00 Byte)\n",
            "_________________________________________________________________\n"
          ]
        }
      ]
    },
    {
      "cell_type": "code",
      "source": [
        "model.compile(loss = 'categorical_crossentropy',\n",
        "              optimizer = 'rmsprop',\n",
        "              metrics = ['accuracy'])"
      ],
      "metadata": {
        "id": "k1B-Mjum1mA-"
      },
      "execution_count": null,
      "outputs": []
    },
    {
      "cell_type": "code",
      "source": [
        "%%time\n",
        "Hist_mnist = model.fit(X_train, y_train,\n",
        "                       epochs = 100,\n",
        "                       batch_size = 128,\n",
        "                       validation_data = (X_valid, y_valid))"
      ],
      "metadata": {
        "colab": {
          "base_uri": "https://localhost:8080/"
        },
        "id": "s9PrpiwA1uWp",
        "outputId": "2f50efd2-f404-4054-a0f6-d7d22d7358ad"
      },
      "execution_count": null,
      "outputs": [
        {
          "output_type": "stream",
          "name": "stdout",
          "text": [
            "Epoch 1/100\n",
            "375/375 [==============================] - 13s 7ms/step - loss: 0.5507 - accuracy: 0.8248 - val_loss: 0.1754 - val_accuracy: 0.9482\n",
            "Epoch 2/100\n",
            "375/375 [==============================] - 2s 6ms/step - loss: 0.1959 - accuracy: 0.9389 - val_loss: 0.1105 - val_accuracy: 0.9668\n",
            "Epoch 3/100\n",
            "375/375 [==============================] - 2s 5ms/step - loss: 0.1393 - accuracy: 0.9567 - val_loss: 0.0835 - val_accuracy: 0.9749\n",
            "Epoch 4/100\n",
            "375/375 [==============================] - 2s 5ms/step - loss: 0.1162 - accuracy: 0.9632 - val_loss: 0.0760 - val_accuracy: 0.9777\n",
            "Epoch 5/100\n",
            "375/375 [==============================] - 2s 5ms/step - loss: 0.1022 - accuracy: 0.9678 - val_loss: 0.0655 - val_accuracy: 0.9814\n",
            "Epoch 6/100\n",
            "375/375 [==============================] - 2s 5ms/step - loss: 0.0930 - accuracy: 0.9712 - val_loss: 0.0786 - val_accuracy: 0.9781\n",
            "Epoch 7/100\n",
            "375/375 [==============================] - 2s 5ms/step - loss: 0.0854 - accuracy: 0.9729 - val_loss: 0.0573 - val_accuracy: 0.9827\n",
            "Epoch 8/100\n",
            "375/375 [==============================] - 2s 7ms/step - loss: 0.0773 - accuracy: 0.9753 - val_loss: 0.0572 - val_accuracy: 0.9848\n",
            "Epoch 9/100\n",
            "375/375 [==============================] - 2s 5ms/step - loss: 0.0741 - accuracy: 0.9761 - val_loss: 0.0573 - val_accuracy: 0.9852\n",
            "Epoch 10/100\n",
            "375/375 [==============================] - 2s 5ms/step - loss: 0.0701 - accuracy: 0.9780 - val_loss: 0.0553 - val_accuracy: 0.9848\n",
            "Epoch 11/100\n",
            "375/375 [==============================] - 2s 5ms/step - loss: 0.0658 - accuracy: 0.9791 - val_loss: 0.0551 - val_accuracy: 0.9854\n",
            "Epoch 12/100\n",
            "375/375 [==============================] - 2s 5ms/step - loss: 0.0651 - accuracy: 0.9791 - val_loss: 0.0543 - val_accuracy: 0.9859\n",
            "Epoch 13/100\n",
            "375/375 [==============================] - 2s 5ms/step - loss: 0.0606 - accuracy: 0.9811 - val_loss: 0.0481 - val_accuracy: 0.9863\n",
            "Epoch 14/100\n",
            "375/375 [==============================] - 2s 6ms/step - loss: 0.0591 - accuracy: 0.9807 - val_loss: 0.0470 - val_accuracy: 0.9869\n",
            "Epoch 15/100\n",
            "375/375 [==============================] - 2s 5ms/step - loss: 0.0573 - accuracy: 0.9818 - val_loss: 0.0501 - val_accuracy: 0.9872\n",
            "Epoch 16/100\n",
            "375/375 [==============================] - 2s 5ms/step - loss: 0.0545 - accuracy: 0.9829 - val_loss: 0.0577 - val_accuracy: 0.9871\n",
            "Epoch 17/100\n",
            "375/375 [==============================] - 2s 5ms/step - loss: 0.0551 - accuracy: 0.9825 - val_loss: 0.0455 - val_accuracy: 0.9877\n",
            "Epoch 18/100\n",
            "375/375 [==============================] - 2s 5ms/step - loss: 0.0512 - accuracy: 0.9836 - val_loss: 0.0469 - val_accuracy: 0.9878\n",
            "Epoch 19/100\n",
            "375/375 [==============================] - 2s 5ms/step - loss: 0.0510 - accuracy: 0.9837 - val_loss: 0.0416 - val_accuracy: 0.9878\n",
            "Epoch 20/100\n",
            "375/375 [==============================] - 2s 5ms/step - loss: 0.0489 - accuracy: 0.9844 - val_loss: 0.0499 - val_accuracy: 0.9872\n",
            "Epoch 21/100\n",
            "375/375 [==============================] - 2s 6ms/step - loss: 0.0479 - accuracy: 0.9847 - val_loss: 0.0458 - val_accuracy: 0.9882\n",
            "Epoch 22/100\n",
            "375/375 [==============================] - 2s 4ms/step - loss: 0.0479 - accuracy: 0.9843 - val_loss: 0.0437 - val_accuracy: 0.9887\n",
            "Epoch 23/100\n",
            "375/375 [==============================] - 2s 5ms/step - loss: 0.0460 - accuracy: 0.9854 - val_loss: 0.0407 - val_accuracy: 0.9885\n",
            "Epoch 24/100\n",
            "375/375 [==============================] - 2s 5ms/step - loss: 0.0468 - accuracy: 0.9847 - val_loss: 0.0437 - val_accuracy: 0.9881\n",
            "Epoch 25/100\n",
            "375/375 [==============================] - 2s 5ms/step - loss: 0.0443 - accuracy: 0.9857 - val_loss: 0.0470 - val_accuracy: 0.9880\n",
            "Epoch 26/100\n",
            "375/375 [==============================] - 2s 5ms/step - loss: 0.0433 - accuracy: 0.9858 - val_loss: 0.0410 - val_accuracy: 0.9892\n",
            "Epoch 27/100\n",
            "375/375 [==============================] - 2s 6ms/step - loss: 0.0435 - accuracy: 0.9859 - val_loss: 0.0433 - val_accuracy: 0.9887\n",
            "Epoch 28/100\n",
            "375/375 [==============================] - 2s 6ms/step - loss: 0.0422 - accuracy: 0.9867 - val_loss: 0.0398 - val_accuracy: 0.9891\n",
            "Epoch 29/100\n",
            "375/375 [==============================] - 2s 5ms/step - loss: 0.0405 - accuracy: 0.9869 - val_loss: 0.0396 - val_accuracy: 0.9894\n",
            "Epoch 30/100\n",
            "375/375 [==============================] - 2s 5ms/step - loss: 0.0414 - accuracy: 0.9865 - val_loss: 0.0425 - val_accuracy: 0.9898\n",
            "Epoch 31/100\n",
            "375/375 [==============================] - 2s 5ms/step - loss: 0.0402 - accuracy: 0.9869 - val_loss: 0.0371 - val_accuracy: 0.9898\n",
            "Epoch 32/100\n",
            "375/375 [==============================] - 2s 5ms/step - loss: 0.0385 - accuracy: 0.9874 - val_loss: 0.0414 - val_accuracy: 0.9893\n",
            "Epoch 33/100\n",
            "375/375 [==============================] - 2s 5ms/step - loss: 0.0387 - accuracy: 0.9875 - val_loss: 0.0405 - val_accuracy: 0.9889\n",
            "Epoch 34/100\n",
            "375/375 [==============================] - 3s 7ms/step - loss: 0.0376 - accuracy: 0.9879 - val_loss: 0.0385 - val_accuracy: 0.9892\n",
            "Epoch 35/100\n",
            "375/375 [==============================] - 2s 5ms/step - loss: 0.0370 - accuracy: 0.9876 - val_loss: 0.0454 - val_accuracy: 0.9888\n",
            "Epoch 36/100\n",
            "375/375 [==============================] - 2s 5ms/step - loss: 0.0381 - accuracy: 0.9880 - val_loss: 0.0476 - val_accuracy: 0.9892\n",
            "Epoch 37/100\n",
            "375/375 [==============================] - 2s 5ms/step - loss: 0.0366 - accuracy: 0.9880 - val_loss: 0.0395 - val_accuracy: 0.9899\n",
            "Epoch 38/100\n",
            "375/375 [==============================] - 2s 5ms/step - loss: 0.0358 - accuracy: 0.9890 - val_loss: 0.0402 - val_accuracy: 0.9895\n",
            "Epoch 39/100\n",
            "375/375 [==============================] - 2s 5ms/step - loss: 0.0368 - accuracy: 0.9878 - val_loss: 0.0363 - val_accuracy: 0.9902\n",
            "Epoch 40/100\n",
            "375/375 [==============================] - 2s 6ms/step - loss: 0.0340 - accuracy: 0.9887 - val_loss: 0.0432 - val_accuracy: 0.9892\n",
            "Epoch 41/100\n",
            "375/375 [==============================] - 2s 5ms/step - loss: 0.0378 - accuracy: 0.9877 - val_loss: 0.0405 - val_accuracy: 0.9902\n",
            "Epoch 42/100\n",
            "375/375 [==============================] - 2s 5ms/step - loss: 0.0346 - accuracy: 0.9885 - val_loss: 0.0378 - val_accuracy: 0.9899\n",
            "Epoch 43/100\n",
            "375/375 [==============================] - 2s 5ms/step - loss: 0.0342 - accuracy: 0.9889 - val_loss: 0.0372 - val_accuracy: 0.9902\n",
            "Epoch 44/100\n",
            "375/375 [==============================] - 2s 5ms/step - loss: 0.0353 - accuracy: 0.9887 - val_loss: 0.0380 - val_accuracy: 0.9897\n",
            "Epoch 45/100\n",
            "375/375 [==============================] - 2s 5ms/step - loss: 0.0316 - accuracy: 0.9892 - val_loss: 0.0426 - val_accuracy: 0.9892\n",
            "Epoch 46/100\n",
            "375/375 [==============================] - 2s 6ms/step - loss: 0.0332 - accuracy: 0.9892 - val_loss: 0.0367 - val_accuracy: 0.9901\n",
            "Epoch 47/100\n",
            "375/375 [==============================] - 2s 6ms/step - loss: 0.0331 - accuracy: 0.9891 - val_loss: 0.0427 - val_accuracy: 0.9893\n",
            "Epoch 48/100\n",
            "375/375 [==============================] - 2s 5ms/step - loss: 0.0313 - accuracy: 0.9900 - val_loss: 0.0396 - val_accuracy: 0.9899\n",
            "Epoch 49/100\n",
            "375/375 [==============================] - 2s 5ms/step - loss: 0.0321 - accuracy: 0.9892 - val_loss: 0.0420 - val_accuracy: 0.9883\n",
            "Epoch 50/100\n",
            "375/375 [==============================] - 2s 5ms/step - loss: 0.0308 - accuracy: 0.9897 - val_loss: 0.0395 - val_accuracy: 0.9899\n",
            "Epoch 51/100\n",
            "375/375 [==============================] - 2s 5ms/step - loss: 0.0295 - accuracy: 0.9906 - val_loss: 0.0430 - val_accuracy: 0.9898\n",
            "Epoch 52/100\n",
            "375/375 [==============================] - 2s 5ms/step - loss: 0.0313 - accuracy: 0.9902 - val_loss: 0.0374 - val_accuracy: 0.9893\n",
            "Epoch 53/100\n",
            "375/375 [==============================] - 2s 6ms/step - loss: 0.0306 - accuracy: 0.9902 - val_loss: 0.0362 - val_accuracy: 0.9903\n",
            "Epoch 54/100\n",
            "375/375 [==============================] - 2s 5ms/step - loss: 0.0320 - accuracy: 0.9898 - val_loss: 0.0377 - val_accuracy: 0.9893\n",
            "Epoch 55/100\n",
            "375/375 [==============================] - 2s 5ms/step - loss: 0.0282 - accuracy: 0.9904 - val_loss: 0.0380 - val_accuracy: 0.9902\n",
            "Epoch 56/100\n",
            "375/375 [==============================] - 2s 5ms/step - loss: 0.0311 - accuracy: 0.9900 - val_loss: 0.0405 - val_accuracy: 0.9896\n",
            "Epoch 57/100\n",
            "375/375 [==============================] - 2s 5ms/step - loss: 0.0291 - accuracy: 0.9905 - val_loss: 0.0353 - val_accuracy: 0.9904\n",
            "Epoch 58/100\n",
            "375/375 [==============================] - 2s 5ms/step - loss: 0.0303 - accuracy: 0.9901 - val_loss: 0.0451 - val_accuracy: 0.9894\n",
            "Epoch 59/100\n",
            "375/375 [==============================] - 2s 6ms/step - loss: 0.0293 - accuracy: 0.9901 - val_loss: 0.0350 - val_accuracy: 0.9906\n",
            "Epoch 60/100\n",
            "375/375 [==============================] - 2s 5ms/step - loss: 0.0270 - accuracy: 0.9913 - val_loss: 0.0397 - val_accuracy: 0.9897\n",
            "Epoch 61/100\n",
            "375/375 [==============================] - 2s 5ms/step - loss: 0.0276 - accuracy: 0.9909 - val_loss: 0.0449 - val_accuracy: 0.9906\n",
            "Epoch 62/100\n",
            "375/375 [==============================] - 2s 5ms/step - loss: 0.0294 - accuracy: 0.9901 - val_loss: 0.0423 - val_accuracy: 0.9899\n",
            "Epoch 63/100\n",
            "375/375 [==============================] - 2s 5ms/step - loss: 0.0281 - accuracy: 0.9908 - val_loss: 0.0395 - val_accuracy: 0.9900\n",
            "Epoch 64/100\n",
            "375/375 [==============================] - 2s 5ms/step - loss: 0.0276 - accuracy: 0.9911 - val_loss: 0.0427 - val_accuracy: 0.9908\n",
            "Epoch 65/100\n",
            "375/375 [==============================] - 2s 5ms/step - loss: 0.0277 - accuracy: 0.9906 - val_loss: 0.0432 - val_accuracy: 0.9900\n",
            "Epoch 66/100\n",
            "375/375 [==============================] - 3s 7ms/step - loss: 0.0272 - accuracy: 0.9914 - val_loss: 0.0416 - val_accuracy: 0.9894\n",
            "Epoch 67/100\n",
            "375/375 [==============================] - 2s 5ms/step - loss: 0.0274 - accuracy: 0.9909 - val_loss: 0.0407 - val_accuracy: 0.9904\n",
            "Epoch 68/100\n",
            "375/375 [==============================] - 2s 5ms/step - loss: 0.0272 - accuracy: 0.9911 - val_loss: 0.0367 - val_accuracy: 0.9912\n",
            "Epoch 69/100\n",
            "375/375 [==============================] - 2s 5ms/step - loss: 0.0272 - accuracy: 0.9911 - val_loss: 0.0390 - val_accuracy: 0.9896\n",
            "Epoch 70/100\n",
            "375/375 [==============================] - 2s 5ms/step - loss: 0.0255 - accuracy: 0.9914 - val_loss: 0.0436 - val_accuracy: 0.9898\n",
            "Epoch 71/100\n",
            "375/375 [==============================] - 2s 7ms/step - loss: 0.0263 - accuracy: 0.9911 - val_loss: 0.0381 - val_accuracy: 0.9903\n",
            "Epoch 72/100\n",
            "375/375 [==============================] - 3s 7ms/step - loss: 0.0275 - accuracy: 0.9912 - val_loss: 0.0430 - val_accuracy: 0.9904\n",
            "Epoch 73/100\n",
            "375/375 [==============================] - 2s 5ms/step - loss: 0.0241 - accuracy: 0.9917 - val_loss: 0.0443 - val_accuracy: 0.9899\n",
            "Epoch 74/100\n",
            "375/375 [==============================] - 2s 5ms/step - loss: 0.0273 - accuracy: 0.9909 - val_loss: 0.0414 - val_accuracy: 0.9900\n",
            "Epoch 75/100\n",
            "375/375 [==============================] - 2s 5ms/step - loss: 0.0251 - accuracy: 0.9913 - val_loss: 0.0487 - val_accuracy: 0.9887\n",
            "Epoch 76/100\n",
            "375/375 [==============================] - 2s 5ms/step - loss: 0.0267 - accuracy: 0.9912 - val_loss: 0.0405 - val_accuracy: 0.9907\n",
            "Epoch 77/100\n",
            "375/375 [==============================] - 2s 5ms/step - loss: 0.0251 - accuracy: 0.9919 - val_loss: 0.0419 - val_accuracy: 0.9898\n",
            "Epoch 78/100\n",
            "375/375 [==============================] - 2s 6ms/step - loss: 0.0247 - accuracy: 0.9914 - val_loss: 0.0378 - val_accuracy: 0.9908\n",
            "Epoch 79/100\n",
            "375/375 [==============================] - 2s 5ms/step - loss: 0.0268 - accuracy: 0.9912 - val_loss: 0.0417 - val_accuracy: 0.9900\n",
            "Epoch 80/100\n",
            "375/375 [==============================] - 2s 5ms/step - loss: 0.0262 - accuracy: 0.9913 - val_loss: 0.0421 - val_accuracy: 0.9906\n",
            "Epoch 81/100\n",
            "375/375 [==============================] - 2s 5ms/step - loss: 0.0250 - accuracy: 0.9918 - val_loss: 0.0372 - val_accuracy: 0.9906\n",
            "Epoch 82/100\n",
            "375/375 [==============================] - 2s 5ms/step - loss: 0.0237 - accuracy: 0.9921 - val_loss: 0.0387 - val_accuracy: 0.9910\n",
            "Epoch 83/100\n",
            "375/375 [==============================] - 2s 5ms/step - loss: 0.0248 - accuracy: 0.9915 - val_loss: 0.0415 - val_accuracy: 0.9904\n",
            "Epoch 84/100\n",
            "375/375 [==============================] - 2s 7ms/step - loss: 0.0252 - accuracy: 0.9920 - val_loss: 0.0428 - val_accuracy: 0.9902\n",
            "Epoch 85/100\n",
            "375/375 [==============================] - 2s 6ms/step - loss: 0.0235 - accuracy: 0.9918 - val_loss: 0.0425 - val_accuracy: 0.9903\n",
            "Epoch 86/100\n",
            "375/375 [==============================] - 2s 5ms/step - loss: 0.0244 - accuracy: 0.9918 - val_loss: 0.0390 - val_accuracy: 0.9908\n",
            "Epoch 87/100\n",
            "375/375 [==============================] - 2s 6ms/step - loss: 0.0244 - accuracy: 0.9920 - val_loss: 0.0474 - val_accuracy: 0.9905\n",
            "Epoch 88/100\n",
            "375/375 [==============================] - 2s 5ms/step - loss: 0.0237 - accuracy: 0.9918 - val_loss: 0.0451 - val_accuracy: 0.9897\n",
            "Epoch 89/100\n",
            "375/375 [==============================] - 2s 5ms/step - loss: 0.0235 - accuracy: 0.9919 - val_loss: 0.0455 - val_accuracy: 0.9904\n",
            "Epoch 90/100\n",
            "375/375 [==============================] - 2s 6ms/step - loss: 0.0248 - accuracy: 0.9920 - val_loss: 0.0482 - val_accuracy: 0.9896\n",
            "Epoch 91/100\n",
            "375/375 [==============================] - 2s 5ms/step - loss: 0.0229 - accuracy: 0.9926 - val_loss: 0.0393 - val_accuracy: 0.9912\n",
            "Epoch 92/100\n",
            "375/375 [==============================] - 2s 5ms/step - loss: 0.0234 - accuracy: 0.9923 - val_loss: 0.0424 - val_accuracy: 0.9900\n",
            "Epoch 93/100\n",
            "375/375 [==============================] - 2s 5ms/step - loss: 0.0244 - accuracy: 0.9923 - val_loss: 0.0399 - val_accuracy: 0.9907\n",
            "Epoch 94/100\n",
            "375/375 [==============================] - 2s 5ms/step - loss: 0.0240 - accuracy: 0.9919 - val_loss: 0.0431 - val_accuracy: 0.9908\n",
            "Epoch 95/100\n",
            "375/375 [==============================] - 2s 5ms/step - loss: 0.0225 - accuracy: 0.9925 - val_loss: 0.0411 - val_accuracy: 0.9911\n",
            "Epoch 96/100\n",
            "375/375 [==============================] - 2s 6ms/step - loss: 0.0233 - accuracy: 0.9921 - val_loss: 0.0427 - val_accuracy: 0.9908\n",
            "Epoch 97/100\n",
            "375/375 [==============================] - 2s 6ms/step - loss: 0.0224 - accuracy: 0.9924 - val_loss: 0.0380 - val_accuracy: 0.9912\n",
            "Epoch 98/100\n",
            "375/375 [==============================] - 2s 5ms/step - loss: 0.0227 - accuracy: 0.9923 - val_loss: 0.0409 - val_accuracy: 0.9895\n",
            "Epoch 99/100\n",
            "375/375 [==============================] - 2s 5ms/step - loss: 0.0229 - accuracy: 0.9921 - val_loss: 0.0427 - val_accuracy: 0.9907\n",
            "Epoch 100/100\n",
            "375/375 [==============================] - 2s 5ms/step - loss: 0.0222 - accuracy: 0.9928 - val_loss: 0.0432 - val_accuracy: 0.9908\n",
            "CPU times: user 3min 12s, sys: 15.6 s, total: 3min 27s\n",
            "Wall time: 4min 23s\n"
          ]
        }
      ]
    },
    {
      "cell_type": "code",
      "source": [
        "import matplotlib.pyplot as plt\n",
        "epochs = range(1, len(Hist_mnist.history['loss']) + 1)\n",
        "plt.figure(figsize = (15, 5))\n",
        "plt.subplot(1, 2, 1)\n",
        "plt.plot(epochs, Hist_mnist.history['loss'], 'b-')\n",
        "plt.plot(epochs, Hist_mnist.history['val_loss'], 'r--')\n",
        "plt.title('Training & Validation Loss')\n",
        "plt.xlabel('Epochs')\n",
        "plt.ylabel('Loss')\n",
        "plt.legend(['Training Loss', 'Validation Loss'])\n",
        "plt.grid()\n",
        "plt.subplot(1, 2, 2)\n",
        "plt.plot(epochs, Hist_mnist.history['accuracy'], 'b-')\n",
        "plt.plot(epochs, Hist_mnist.history['val_accuracy'], 'r--')\n",
        "plt.title('Training & Validation Accuracy')\n",
        "plt.xlabel('Epochs')\n",
        "plt.ylabel('Accuracy')\n",
        "plt.legend(['Training Accuracy', 'Validation Accuracy'])\n",
        "plt.grid()\n",
        "plt.show()"
      ],
      "metadata": {
        "colab": {
          "base_uri": "https://localhost:8080/",
          "height": 458
        },
        "id": "uAm0Z7rX4bMu",
        "outputId": "dc87a9fe-9297-4252-e0d5-05706c60fca8"
      },
      "execution_count": null,
      "outputs": [
        {
          "output_type": "display_data",
          "data": {
            "text/plain": [
              "<Figure size 1500x500 with 2 Axes>"
            ],
            "image/png": "[encoded data removed]"
          },
          "metadata": {}
        }
      ]
    },
    {
      "cell_type": "code",
      "source": [
        "loss, accuracy = model.evaluate(X_test, y_test, verbose = 0)\n",
        "print('Loss = {:.5f}'.format(loss))\n",
        "print('Accuracy = {:.5f}'.format(accuracy))"
      ],
      "metadata": {
        "colab": {
          "base_uri": "https://localhost:8080/"
        },
        "id": "1uX6Vb314iLB",
        "outputId": "059815d1-74d8-49f2-c6d9-acc80a500c67"
      },
      "execution_count": null,
      "outputs": [
        {
          "output_type": "stream",
          "name": "stdout",
          "text": [
            "Loss = 0.02694\n",
            "Accuracy = 0.99220\n"
          ]
        }
      ]
    }
  ]
}