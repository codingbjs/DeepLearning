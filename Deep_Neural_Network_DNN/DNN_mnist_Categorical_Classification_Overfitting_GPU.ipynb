{
  "nbformat": 4,
  "nbformat_minor": 0,
  "metadata": {
    "colab": {
      "provenance": [],
      "gpuType": "T4",
      "authorship_tag": "ABX9TyMoM7azRrzyk6j+PKICW2pC",
      "include_colab_link": true
    },
    "kernelspec": {
      "name": "python3",
      "display_name": "Python 3"
    },
    "language_info": {
      "name": "python"
    },
    "accelerator": "GPU"
  },
  "cells": [
    {
      "cell_type": "markdown",
      "metadata": {
        "id": "view-in-github",
        "colab_type": "text"
      },
      "source": [
        "<a href=\"https://colab.research.google.com/github/codingbjs/DeepLearning/blob/main/Deep_Neural_Network_DNN/DNN_mnist_Categorical_Classification_Overfitting_GPU.ipynb\" target=\"_parent\"><img src=\"https://colab.research.google.com/assets/colab-badge.svg\" alt=\"Open In Colab\"/></a>"
      ]
    },
    {
      "cell_type": "code",
      "execution_count": null,
      "metadata": {
        "id": "RBKRCIPP9Iu5"
      },
      "outputs": [],
      "source": [
        "import warnings\n",
        "warnings.filterwarnings('ignore')"
      ]
    },
    {
      "cell_type": "code",
      "source": [
        "import tensorflow as tf\n",
        "tf.__version__"
      ],
      "metadata": {
        "colab": {
          "base_uri": "https://localhost:8080/",
          "height": 35
        },
        "id": "kVJy_ZxZ9b9L",
        "outputId": "de6b24fb-671e-48a6-ac4a-68bf73b2b3b6"
      },
      "execution_count": null,
      "outputs": [
        {
          "output_type": "execute_result",
          "data": {
            "text/plain": [
              "'2.13.0'"
            ],
            "application/vnd.google.colaboratory.intrinsic+json": {
              "type": "string"
            }
          },
          "metadata": {},
          "execution_count": 2
        }
      ]
    },
    {
      "cell_type": "code",
      "source": [
        "tf.test.gpu_device_name()"
      ],
      "metadata": {
        "colab": {
          "base_uri": "https://localhost:8080/",
          "height": 35
        },
        "id": "7uWrDqPA9hJe",
        "outputId": "d83d3abf-4704-47a1-b9d3-3a8400f317db"
      },
      "execution_count": null,
      "outputs": [
        {
          "output_type": "execute_result",
          "data": {
            "text/plain": [
              "'/device:GPU:0'"
            ],
            "application/vnd.google.colaboratory.intrinsic+json": {
              "type": "string"
            }
          },
          "metadata": {},
          "execution_count": 3
        }
      ]
    },
    {
      "cell_type": "code",
      "source": [
        "!nvidia-smi"
      ],
      "metadata": {
        "colab": {
          "base_uri": "https://localhost:8080/"
        },
        "id": "bnt9wksC9rmt",
        "outputId": "a01e656e-b75b-495f-b629-753bd85ca530"
      },
      "execution_count": null,
      "outputs": [
        {
          "output_type": "stream",
          "name": "stdout",
          "text": [
            "Wed Oct 11 04:20:31 2023       \n",
            "+-----------------------------------------------------------------------------+\n",
            "| NVIDIA-SMI 525.105.17   Driver Version: 525.105.17   CUDA Version: 12.0     |\n",
            "|-------------------------------+----------------------+----------------------+\n",
            "| GPU  Name        Persistence-M| Bus-Id        Disp.A | Volatile Uncorr. ECC |\n",
            "| Fan  Temp  Perf  Pwr:Usage/Cap|         Memory-Usage | GPU-Util  Compute M. |\n",
            "|                               |                      |               MIG M. |\n",
            "|===============================+======================+======================|\n",
            "|   0  Tesla T4            Off  | 00000000:00:04.0 Off |                    0 |\n",
            "| N/A   68C    P0    30W /  70W |    359MiB / 15360MiB |      0%      Default |\n",
            "|                               |                      |                  N/A |\n",
            "+-------------------------------+----------------------+----------------------+\n",
            "                                                                               \n",
            "+-----------------------------------------------------------------------------+\n",
            "| Processes:                                                                  |\n",
            "|  GPU   GI   CI        PID   Type   Process name                  GPU Memory |\n",
            "|        ID   ID                                                   Usage      |\n",
            "|=============================================================================|\n",
            "+-----------------------------------------------------------------------------+\n"
          ]
        }
      ]
    },
    {
      "cell_type": "code",
      "source": [
        "from tensorflow.keras.datasets import mnist\n",
        "(X_train, y_train), (X_test, y_test) = mnist.load_data()"
      ],
      "metadata": {
        "colab": {
          "base_uri": "https://localhost:8080/"
        },
        "id": "B4DHeGGb920A",
        "outputId": "b83ea1c2-c1ec-43eb-a5be-ce4557fe102b"
      },
      "execution_count": null,
      "outputs": [
        {
          "output_type": "stream",
          "name": "stdout",
          "text": [
            "Downloading data from https://storage.googleapis.com/tensorflow/tf-keras-datasets/mnist.npz\n",
            "11490434/11490434 [==============================] - 0s 0us/step\n"
          ]
        }
      ]
    },
    {
      "cell_type": "code",
      "source": [
        "print(len(X_train))\n",
        "print(X_train.shape)\n",
        "print()\n",
        "print(len(y_train))\n",
        "print(y_train[0:5])\n"
      ],
      "metadata": {
        "colab": {
          "base_uri": "https://localhost:8080/"
        },
        "id": "SKWYvCyy99G5",
        "outputId": "218ac85f-4844-4403-b2d9-6c87ce108498"
      },
      "execution_count": null,
      "outputs": [
        {
          "output_type": "stream",
          "name": "stdout",
          "text": [
            "60000\n",
            "(60000, 28, 28)\n",
            "\n",
            "60000\n",
            "[5 0 4 1 9]\n"
          ]
        }
      ]
    },
    {
      "cell_type": "code",
      "source": [
        "X_train[0]"
      ],
      "metadata": {
        "colab": {
          "base_uri": "https://localhost:8080/"
        },
        "id": "TaiO64-5-5Bp",
        "outputId": "60e7b0cf-6f96-422a-cc20-cea493967c13"
      },
      "execution_count": null,
      "outputs": [
        {
          "output_type": "execute_result",
          "data": {
            "text/plain": [
              "array([[  0,   0,   0,   0,   0,   0,   0,   0,   0,   0,   0,   0,   0,   0,   0,   0,   0,   0,   0,   0,   0,   0,   0,   0,   0,   0,   0,   0],\n",
              "       [  0,   0,   0,   0,   0,   0,   0,   0,   0,   0,   0,   0,   0,   0,   0,   0,   0,   0,   0,   0,   0,   0,   0,   0,   0,   0,   0,   0],\n",
              "       [  0,   0,   0,   0,   0,   0,   0,   0,   0,   0,   0,   0,   0,   0,   0,   0,   0,   0,   0,   0,   0,   0,   0,   0,   0,   0,   0,   0],\n",
              "       [  0,   0,   0,   0,   0,   0,   0,   0,   0,   0,   0,   0,   0,   0,   0,   0,   0,   0,   0,   0,   0,   0,   0,   0,   0,   0,   0,   0],\n",
              "       [  0,   0,   0,   0,   0,   0,   0,   0,   0,   0,   0,   0,   0,   0,   0,   0,   0,   0,   0,   0,   0,   0,   0,   0,   0,   0,   0,   0],\n",
              "       [  0,   0,   0,   0,   0,   0,   0,   0,   0,   0,   0,   0,   3,  18,  18,  18, 126, 136, 175,  26, 166, 255, 247, 127,   0,   0,   0,   0],\n",
              "       [  0,   0,   0,   0,   0,   0,   0,   0,  30,  36,  94, 154, 170, 253, 253, 253, 253, 253, 225, 172, 253, 242, 195,  64,   0,   0,   0,   0],\n",
              "       [  0,   0,   0,   0,   0,   0,   0,  49, 238, 253, 253, 253, 253, 253, 253, 253, 253, 251,  93,  82,  82,  56,  39,   0,   0,   0,   0,   0],\n",
              "       [  0,   0,   0,   0,   0,   0,   0,  18, 219, 253, 253, 253, 253, 253, 198, 182, 247, 241,   0,   0,   0,   0,   0,   0,   0,   0,   0,   0],\n",
              "       [  0,   0,   0,   0,   0,   0,   0,   0,  80, 156, 107, 253, 253, 205,  11,   0,  43, 154,   0,   0,   0,   0,   0,   0,   0,   0,   0,   0],\n",
              "       [  0,   0,   0,   0,   0,   0,   0,   0,   0,  14,   1, 154, 253,  90,   0,   0,   0,   0,   0,   0,   0,   0,   0,   0,   0,   0,   0,   0],\n",
              "       [  0,   0,   0,   0,   0,   0,   0,   0,   0,   0,   0, 139, 253, 190,   2,   0,   0,   0,   0,   0,   0,   0,   0,   0,   0,   0,   0,   0],\n",
              "       [  0,   0,   0,   0,   0,   0,   0,   0,   0,   0,   0,  11, 190, 253,  70,   0,   0,   0,   0,   0,   0,   0,   0,   0,   0,   0,   0,   0],\n",
              "       [  0,   0,   0,   0,   0,   0,   0,   0,   0,   0,   0,   0,  35, 241, 225, 160, 108,   1,   0,   0,   0,   0,   0,   0,   0,   0,   0,   0],\n",
              "       [  0,   0,   0,   0,   0,   0,   0,   0,   0,   0,   0,   0,   0,  81, 240, 253, 253, 119,  25,   0,   0,   0,   0,   0,   0,   0,   0,   0],\n",
              "       [  0,   0,   0,   0,   0,   0,   0,   0,   0,   0,   0,   0,   0,   0,  45, 186, 253, 253, 150,  27,   0,   0,   0,   0,   0,   0,   0,   0],\n",
              "       [  0,   0,   0,   0,   0,   0,   0,   0,   0,   0,   0,   0,   0,   0,   0,  16,  93, 252, 253, 187,   0,   0,   0,   0,   0,   0,   0,   0],\n",
              "       [  0,   0,   0,   0,   0,   0,   0,   0,   0,   0,   0,   0,   0,   0,   0,   0,   0, 249, 253, 249,  64,   0,   0,   0,   0,   0,   0,   0],\n",
              "       [  0,   0,   0,   0,   0,   0,   0,   0,   0,   0,   0,   0,   0,   0,  46, 130, 183, 253, 253, 207,   2,   0,   0,   0,   0,   0,   0,   0],\n",
              "       [  0,   0,   0,   0,   0,   0,   0,   0,   0,   0,   0,   0,  39, 148, 229, 253, 253, 253, 250, 182,   0,   0,   0,   0,   0,   0,   0,   0],\n",
              "       [  0,   0,   0,   0,   0,   0,   0,   0,   0,   0,  24, 114, 221, 253, 253, 253, 253, 201,  78,   0,   0,   0,   0,   0,   0,   0,   0,   0],\n",
              "       [  0,   0,   0,   0,   0,   0,   0,   0,  23,  66, 213, 253, 253, 253, 253, 198,  81,   2,   0,   0,   0,   0,   0,   0,   0,   0,   0,   0],\n",
              "       [  0,   0,   0,   0,   0,   0,  18, 171, 219, 253, 253, 253, 253, 195,  80,   9,   0,   0,   0,   0,   0,   0,   0,   0,   0,   0,   0,   0],\n",
              "       [  0,   0,   0,   0,  55, 172, 226, 253, 253, 253, 253, 244, 133,  11,   0,   0,   0,   0,   0,   0,   0,   0,   0,   0,   0,   0,   0,   0],\n",
              "       [  0,   0,   0,   0, 136, 253, 253, 253, 212, 135, 132,  16,   0,   0,   0,   0,   0,   0,   0,   0,   0,   0,   0,   0,   0,   0,   0,   0],\n",
              "       [  0,   0,   0,   0,   0,   0,   0,   0,   0,   0,   0,   0,   0,   0,   0,   0,   0,   0,   0,   0,   0,   0,   0,   0,   0,   0,   0,   0],\n",
              "       [  0,   0,   0,   0,   0,   0,   0,   0,   0,   0,   0,   0,   0,   0,   0,   0,   0,   0,   0,   0,   0,   0,   0,   0,   0,   0,   0,   0],\n",
              "       [  0,   0,   0,   0,   0,   0,   0,   0,   0,   0,   0,   0,   0,   0,   0,   0,   0,   0,   0,   0,   0,   0,   0,   0,   0,   0,   0,   0]],\n",
              "      dtype=uint8)"
            ]
          },
          "metadata": {},
          "execution_count": 12
        }
      ]
    },
    {
      "cell_type": "code",
      "source": [
        "print(len(X_test))\n",
        "print(X_test.shape)\n",
        "print()\n",
        "print(len(y_test))\n",
        "print(y_test[0:5])\n"
      ],
      "metadata": {
        "colab": {
          "base_uri": "https://localhost:8080/"
        },
        "id": "6z1lqYKn-Klx",
        "outputId": "9e6e48c0-b825-4b7c-f5df-9edf7c49c67b"
      },
      "execution_count": null,
      "outputs": [
        {
          "output_type": "stream",
          "name": "stdout",
          "text": [
            "10000\n",
            "(10000, 28, 28)\n",
            "\n",
            "10000\n",
            "[7 2 1 0 4]\n"
          ]
        }
      ]
    },
    {
      "cell_type": "code",
      "source": [
        "import matplotlib.pyplot as plt\n",
        "plt.figure(figsize = (20, 4))\n",
        "for idx in range(5):\n",
        "    label = y_train[idx]\n",
        "    plt.subplot(1, 5, idx + 1)\n",
        "    plt.xticks([])\n",
        "    plt.yticks([])\n",
        "    plt.imshow(X_train[idx], cmap = 'gray')\n",
        "    plt.title('Index - %d, Label - %d' % (idx, label), fontsize = 20)\n",
        "plt.show()"
      ],
      "metadata": {
        "colab": {
          "base_uri": "https://localhost:8080/",
          "height": 251
        },
        "id": "JfyXnXWc-PDD",
        "outputId": "b0722b3d-732c-4c61-e136-79e20d882194"
      },
      "execution_count": null,
      "outputs": [
        {
          "output_type": "display_data",
          "data": {
            "text/plain": [
              "<Figure size 2000x400 with 5 Axes>"
            ],
            "image/png": "[encoded data removed]"
          },
          "metadata": {}
        }
      ]
    },
    {
      "cell_type": "code",
      "source": [
        "import numpy as np\n",
        "np.set_printoptions(linewidth = 150, precision = 2)\n",
        "print(X_train[4])\n"
      ],
      "metadata": {
        "colab": {
          "base_uri": "https://localhost:8080/"
        },
        "id": "5CNKHj5h-pSD",
        "outputId": "ee04f61d-e434-472f-de90-dda0da940fc7"
      },
      "execution_count": null,
      "outputs": [
        {
          "output_type": "stream",
          "name": "stdout",
          "text": [
            "[[  0   0   0   0   0   0   0   0   0   0   0   0   0   0   0   0   0   0   0   0   0   0   0   0   0   0   0   0]\n",
            " [  0   0   0   0   0   0   0   0   0   0   0   0   0   0   0   0   0   0   0   0   0   0   0   0   0   0   0   0]\n",
            " [  0   0   0   0   0   0   0   0   0   0   0   0   0   0   0   0   0   0   0   0   0   0   0   0   0   0   0   0]\n",
            " [  0   0   0   0   0   0   0   0   0   0   0   0   0   0   0   0   0   0   0   0   0   0   0   0   0   0   0   0]\n",
            " [  0   0   0   0   0   0   0   0   0   0   0   0   0   0   0   0   0   0   0   0   0   0   0   0   0   0   0   0]\n",
            " [  0   0   0   0   0   0   0   0   0   0   0   0   0   0   0   0   0   0   0   0   0   0   0   0   0   0   0   0]\n",
            " [  0   0   0   0   0   0   0   0   0   0   0   0   0   0   0   0   0   0   0   0   0   0   0   0   0   0   0   0]\n",
            " [  0   0   0   0   0   0   0   0   0   0   0   0  55 148 210 253 253 113  87 148  55   0   0   0   0   0   0   0]\n",
            " [  0   0   0   0   0   0   0   0   0   0   0  87 232 252 253 189 210 252 252 253 168   0   0   0   0   0   0   0]\n",
            " [  0   0   0   0   0   0   0   0   0   4  57 242 252 190  65   5  12 182 252 253 116   0   0   0   0   0   0   0]\n",
            " [  0   0   0   0   0   0   0   0   0  96 252 252 183  14   0   0  92 252 252 225  21   0   0   0   0   0   0   0]\n",
            " [  0   0   0   0   0   0   0   0 132 253 252 146  14   0   0   0 215 252 252  79   0   0   0   0   0   0   0   0]\n",
            " [  0   0   0   0   0   0   0 126 253 247 176   9   0   0   8  78 245 253 129   0   0   0   0   0   0   0   0   0]\n",
            " [  0   0   0   0   0   0  16 232 252 176   0   0   0  36 201 252 252 169  11   0   0   0   0   0   0   0   0   0]\n",
            " [  0   0   0   0   0   0  22 252 252  30  22 119 197 241 253 252 251  77   0   0   0   0   0   0   0   0   0   0]\n",
            " [  0   0   0   0   0   0  16 231 252 253 252 252 252 226 227 252 231   0   0   0   0   0   0   0   0   0   0   0]\n",
            " [  0   0   0   0   0   0   0  55 235 253 217 138  42  24 192 252 143   0   0   0   0   0   0   0   0   0   0   0]\n",
            " [  0   0   0   0   0   0   0   0   0   0   0   0   0  62 255 253 109   0   0   0   0   0   0   0   0   0   0   0]\n",
            " [  0   0   0   0   0   0   0   0   0   0   0   0   0  71 253 252  21   0   0   0   0   0   0   0   0   0   0   0]\n",
            " [  0   0   0   0   0   0   0   0   0   0   0   0   0   0 253 252  21   0   0   0   0   0   0   0   0   0   0   0]\n",
            " [  0   0   0   0   0   0   0   0   0   0   0   0   0  71 253 252  21   0   0   0   0   0   0   0   0   0   0   0]\n",
            " [  0   0   0   0   0   0   0   0   0   0   0   0   0 106 253 252  21   0   0   0   0   0   0   0   0   0   0   0]\n",
            " [  0   0   0   0   0   0   0   0   0   0   0   0   0  45 255 253  21   0   0   0   0   0   0   0   0   0   0   0]\n",
            " [  0   0   0   0   0   0   0   0   0   0   0   0   0   0 218 252  56   0   0   0   0   0   0   0   0   0   0   0]\n",
            " [  0   0   0   0   0   0   0   0   0   0   0   0   0   0  96 252 189  42   0   0   0   0   0   0   0   0   0   0]\n",
            " [  0   0   0   0   0   0   0   0   0   0   0   0   0   0  14 184 252 170  11   0   0   0   0   0   0   0   0   0]\n",
            " [  0   0   0   0   0   0   0   0   0   0   0   0   0   0   0  14 147 252  42   0   0   0   0   0   0   0   0   0]\n",
            " [  0   0   0   0   0   0   0   0   0   0   0   0   0   0   0   0   0   0   0   0   0   0   0   0   0   0   0   0]]\n"
          ]
        }
      ]
    },
    {
      "cell_type": "code",
      "source": [
        "X_train = X_train.astype(float) / 255\n",
        "X_test = X_test.astype(float) / 255\n",
        "print(X_train[4])\n"
      ],
      "metadata": {
        "colab": {
          "base_uri": "https://localhost:8080/"
        },
        "id": "fL316ZAP_NNy",
        "outputId": "9dc8691c-2379-47ad-df25-34a5ef593fc1"
      },
      "execution_count": null,
      "outputs": [
        {
          "output_type": "stream",
          "name": "stdout",
          "text": [
            "[[0.   0.   0.   0.   0.   0.   0.   0.   0.   0.   0.   0.   0.   0.   0.   0.   0.   0.   0.   0.   0.   0.   0.   0.   0.   0.   0.   0.  ]\n",
            " [0.   0.   0.   0.   0.   0.   0.   0.   0.   0.   0.   0.   0.   0.   0.   0.   0.   0.   0.   0.   0.   0.   0.   0.   0.   0.   0.   0.  ]\n",
            " [0.   0.   0.   0.   0.   0.   0.   0.   0.   0.   0.   0.   0.   0.   0.   0.   0.   0.   0.   0.   0.   0.   0.   0.   0.   0.   0.   0.  ]\n",
            " [0.   0.   0.   0.   0.   0.   0.   0.   0.   0.   0.   0.   0.   0.   0.   0.   0.   0.   0.   0.   0.   0.   0.   0.   0.   0.   0.   0.  ]\n",
            " [0.   0.   0.   0.   0.   0.   0.   0.   0.   0.   0.   0.   0.   0.   0.   0.   0.   0.   0.   0.   0.   0.   0.   0.   0.   0.   0.   0.  ]\n",
            " [0.   0.   0.   0.   0.   0.   0.   0.   0.   0.   0.   0.   0.   0.   0.   0.   0.   0.   0.   0.   0.   0.   0.   0.   0.   0.   0.   0.  ]\n",
            " [0.   0.   0.   0.   0.   0.   0.   0.   0.   0.   0.   0.   0.   0.   0.   0.   0.   0.   0.   0.   0.   0.   0.   0.   0.   0.   0.   0.  ]\n",
            " [0.   0.   0.   0.   0.   0.   0.   0.   0.   0.   0.   0.   0.22 0.58 0.82 0.99 0.99 0.44 0.34 0.58 0.22 0.   0.   0.   0.   0.   0.   0.  ]\n",
            " [0.   0.   0.   0.   0.   0.   0.   0.   0.   0.   0.   0.34 0.91 0.99 0.99 0.74 0.82 0.99 0.99 0.99 0.66 0.   0.   0.   0.   0.   0.   0.  ]\n",
            " [0.   0.   0.   0.   0.   0.   0.   0.   0.   0.02 0.22 0.95 0.99 0.75 0.25 0.02 0.05 0.71 0.99 0.99 0.45 0.   0.   0.   0.   0.   0.   0.  ]\n",
            " [0.   0.   0.   0.   0.   0.   0.   0.   0.   0.38 0.99 0.99 0.72 0.05 0.   0.   0.36 0.99 0.99 0.88 0.08 0.   0.   0.   0.   0.   0.   0.  ]\n",
            " [0.   0.   0.   0.   0.   0.   0.   0.   0.52 0.99 0.99 0.57 0.05 0.   0.   0.   0.84 0.99 0.99 0.31 0.   0.   0.   0.   0.   0.   0.   0.  ]\n",
            " [0.   0.   0.   0.   0.   0.   0.   0.49 0.99 0.97 0.69 0.04 0.   0.   0.03 0.31 0.96 0.99 0.51 0.   0.   0.   0.   0.   0.   0.   0.   0.  ]\n",
            " [0.   0.   0.   0.   0.   0.   0.06 0.91 0.99 0.69 0.   0.   0.   0.14 0.79 0.99 0.99 0.66 0.04 0.   0.   0.   0.   0.   0.   0.   0.   0.  ]\n",
            " [0.   0.   0.   0.   0.   0.   0.09 0.99 0.99 0.12 0.09 0.47 0.77 0.95 0.99 0.99 0.98 0.3  0.   0.   0.   0.   0.   0.   0.   0.   0.   0.  ]\n",
            " [0.   0.   0.   0.   0.   0.   0.06 0.91 0.99 0.99 0.99 0.99 0.99 0.89 0.89 0.99 0.91 0.   0.   0.   0.   0.   0.   0.   0.   0.   0.   0.  ]\n",
            " [0.   0.   0.   0.   0.   0.   0.   0.22 0.92 0.99 0.85 0.54 0.16 0.09 0.75 0.99 0.56 0.   0.   0.   0.   0.   0.   0.   0.   0.   0.   0.  ]\n",
            " [0.   0.   0.   0.   0.   0.   0.   0.   0.   0.   0.   0.   0.   0.24 1.   0.99 0.43 0.   0.   0.   0.   0.   0.   0.   0.   0.   0.   0.  ]\n",
            " [0.   0.   0.   0.   0.   0.   0.   0.   0.   0.   0.   0.   0.   0.28 0.99 0.99 0.08 0.   0.   0.   0.   0.   0.   0.   0.   0.   0.   0.  ]\n",
            " [0.   0.   0.   0.   0.   0.   0.   0.   0.   0.   0.   0.   0.   0.   0.99 0.99 0.08 0.   0.   0.   0.   0.   0.   0.   0.   0.   0.   0.  ]\n",
            " [0.   0.   0.   0.   0.   0.   0.   0.   0.   0.   0.   0.   0.   0.28 0.99 0.99 0.08 0.   0.   0.   0.   0.   0.   0.   0.   0.   0.   0.  ]\n",
            " [0.   0.   0.   0.   0.   0.   0.   0.   0.   0.   0.   0.   0.   0.42 0.99 0.99 0.08 0.   0.   0.   0.   0.   0.   0.   0.   0.   0.   0.  ]\n",
            " [0.   0.   0.   0.   0.   0.   0.   0.   0.   0.   0.   0.   0.   0.18 1.   0.99 0.08 0.   0.   0.   0.   0.   0.   0.   0.   0.   0.   0.  ]\n",
            " [0.   0.   0.   0.   0.   0.   0.   0.   0.   0.   0.   0.   0.   0.   0.85 0.99 0.22 0.   0.   0.   0.   0.   0.   0.   0.   0.   0.   0.  ]\n",
            " [0.   0.   0.   0.   0.   0.   0.   0.   0.   0.   0.   0.   0.   0.   0.38 0.99 0.74 0.16 0.   0.   0.   0.   0.   0.   0.   0.   0.   0.  ]\n",
            " [0.   0.   0.   0.   0.   0.   0.   0.   0.   0.   0.   0.   0.   0.   0.05 0.72 0.99 0.67 0.04 0.   0.   0.   0.   0.   0.   0.   0.   0.  ]\n",
            " [0.   0.   0.   0.   0.   0.   0.   0.   0.   0.   0.   0.   0.   0.   0.   0.05 0.58 0.99 0.16 0.   0.   0.   0.   0.   0.   0.   0.   0.  ]\n",
            " [0.   0.   0.   0.   0.   0.   0.   0.   0.   0.   0.   0.   0.   0.   0.   0.   0.   0.   0.   0.   0.   0.   0.   0.   0.   0.   0.   0.  ]]\n"
          ]
        }
      ]
    },
    {
      "cell_type": "code",
      "source": [
        "X_train = X_train.reshape((60000, 28 * 28))\n",
        "X_test = X_test.reshape((10000, 28 * 28))\n",
        "X_train.shape, X_test.shape\n"
      ],
      "metadata": {
        "colab": {
          "base_uri": "https://localhost:8080/"
        },
        "id": "Ctt_T0Ho_cu6",
        "outputId": "cfed813d-c8ca-4ee6-9fa7-97be83bee360"
      },
      "execution_count": null,
      "outputs": [
        {
          "output_type": "execute_result",
          "data": {
            "text/plain": [
              "((60000, 784), (10000, 784))"
            ]
          },
          "metadata": {},
          "execution_count": 16
        }
      ]
    },
    {
      "cell_type": "code",
      "source": [
        "print(28*28)"
      ],
      "metadata": {
        "colab": {
          "base_uri": "https://localhost:8080/"
        },
        "id": "Fmx0-Rtg_mxD",
        "outputId": "544d4c96-545f-4fa5-f279-fbe62d8fb94f"
      },
      "execution_count": null,
      "outputs": [
        {
          "output_type": "stream",
          "name": "stdout",
          "text": [
            "784\n"
          ]
        }
      ]
    },
    {
      "cell_type": "code",
      "source": [
        "from tensorflow.keras.utils import to_categorical\n",
        "y_train = to_categorical(y_train)\n",
        "y_test = to_categorical(y_test)"
      ],
      "metadata": {
        "id": "0FdtXqxm_sJU"
      },
      "execution_count": null,
      "outputs": []
    },
    {
      "cell_type": "code",
      "source": [
        "print(y_train[:5])"
      ],
      "metadata": {
        "colab": {
          "base_uri": "https://localhost:8080/"
        },
        "id": "wT90tG6d_vRQ",
        "outputId": "3ebd1371-557d-40b6-a33f-61a88e1ae3f8"
      },
      "execution_count": null,
      "outputs": [
        {
          "output_type": "stream",
          "name": "stdout",
          "text": [
            "[[0. 0. 0. 0. 0. 1. 0. 0. 0. 0.]\n",
            " [1. 0. 0. 0. 0. 0. 0. 0. 0. 0.]\n",
            " [0. 0. 0. 0. 1. 0. 0. 0. 0. 0.]\n",
            " [0. 1. 0. 0. 0. 0. 0. 0. 0. 0.]\n",
            " [0. 0. 0. 0. 0. 0. 0. 0. 0. 1.]]\n"
          ]
        }
      ]
    },
    {
      "cell_type": "code",
      "source": [
        "from sklearn.model_selection import train_test_split\n",
        "X_train, X_valid, y_train, y_valid = train_test_split(X_train, y_train,\n",
        "                                                      test_size = 0.2,\n",
        "                                                      random_state = 2045)\n",
        "X_train.shape, y_train.shape, X_valid.shape, y_valid.shape\n"
      ],
      "metadata": {
        "colab": {
          "base_uri": "https://localhost:8080/"
        },
        "id": "Mv-ikWVjAK5z",
        "outputId": "2b167ed9-2451-4821-e7ec-4ff569c0f395"
      },
      "execution_count": null,
      "outputs": [
        {
          "output_type": "execute_result",
          "data": {
            "text/plain": [
              "((38400, 784), (38400, 10), (9600, 784), (9600, 10))"
            ]
          },
          "metadata": {},
          "execution_count": 22
        }
      ]
    },
    {
      "cell_type": "code",
      "source": [
        "from tensorflow.keras import models\n",
        "from tensorflow.keras import layers\n",
        "\n",
        "mnist = models.Sequential()\n",
        "mnist.add(layers.Dense(512, activation = 'relu', input_shape = (28 * 28,)))\n",
        "mnist.add(layers.Dense(256, activation = 'relu'))\n",
        "mnist.add(layers.Dense(10, activation = 'softmax'))\n"
      ],
      "metadata": {
        "id": "_L30Q-OGAWc-"
      },
      "execution_count": null,
      "outputs": []
    },
    {
      "cell_type": "code",
      "source": [
        "mnist.summary()\n"
      ],
      "metadata": {
        "colab": {
          "base_uri": "https://localhost:8080/"
        },
        "id": "gvJqtp3ZAism",
        "outputId": "179be195-2479-48cc-c71f-3c39e97cab37"
      },
      "execution_count": null,
      "outputs": [
        {
          "output_type": "stream",
          "name": "stdout",
          "text": [
            "Model: \"sequential\"\n",
            "_________________________________________________________________\n",
            " Layer (type)                Output Shape              Param #   \n",
            "=================================================================\n",
            " dense (Dense)               (None, 512)               401920    \n",
            "                                                                 \n",
            " dense_1 (Dense)             (None, 256)               131328    \n",
            "                                                                 \n",
            " dense_2 (Dense)             (None, 10)                2570      \n",
            "                                                                 \n",
            "=================================================================\n",
            "Total params: 535818 (2.04 MB)\n",
            "Trainable params: 535818 (2.04 MB)\n",
            "Non-trainable params: 0 (0.00 Byte)\n",
            "_________________________________________________________________\n"
          ]
        }
      ]
    },
    {
      "cell_type": "code",
      "source": [
        "mnist.compile(loss = 'categorical_crossentropy',\n",
        "              optimizer = 'rmsprop',\n",
        "              metrics = ['accuracy'])\n"
      ],
      "metadata": {
        "id": "Iz5Dhk_aAr1q"
      },
      "execution_count": null,
      "outputs": []
    },
    {
      "cell_type": "code",
      "source": [
        "%%time\n",
        "Hist_mnist = mnist.fit(X_train, y_train,\n",
        "                       epochs = 100,\n",
        "                       batch_size = 128,\n",
        "                       validation_data = (X_valid, y_valid))\n"
      ],
      "metadata": {
        "colab": {
          "base_uri": "https://localhost:8080/"
        },
        "id": "Z24xJeE1AvFF",
        "outputId": "54d8135b-e6cd-4ed4-e666-84fe2b01a8f8"
      },
      "execution_count": null,
      "outputs": [
        {
          "output_type": "stream",
          "name": "stdout",
          "text": [
            "Epoch 1/100\n",
            "300/300 [==============================] - 6s 4ms/step - loss: 0.2920 - accuracy: 0.9110 - val_loss: 0.1511 - val_accuracy: 0.9547\n",
            "Epoch 2/100\n",
            "300/300 [==============================] - 1s 3ms/step - loss: 0.1053 - accuracy: 0.9677 - val_loss: 0.1089 - val_accuracy: 0.9666\n",
            "Epoch 3/100\n",
            "300/300 [==============================] - 1s 4ms/step - loss: 0.0633 - accuracy: 0.9800 - val_loss: 0.0998 - val_accuracy: 0.9698\n",
            "Epoch 4/100\n",
            "300/300 [==============================] - 1s 4ms/step - loss: 0.0442 - accuracy: 0.9861 - val_loss: 0.0928 - val_accuracy: 0.9749\n",
            "Epoch 5/100\n",
            "300/300 [==============================] - 1s 4ms/step - loss: 0.0318 - accuracy: 0.9895 - val_loss: 0.0864 - val_accuracy: 0.9758\n",
            "Epoch 6/100\n",
            "300/300 [==============================] - 1s 4ms/step - loss: 0.0209 - accuracy: 0.9934 - val_loss: 0.1045 - val_accuracy: 0.9725\n",
            "Epoch 7/100\n",
            "300/300 [==============================] - 1s 4ms/step - loss: 0.0168 - accuracy: 0.9944 - val_loss: 0.1080 - val_accuracy: 0.9745\n",
            "Epoch 8/100\n",
            "300/300 [==============================] - 2s 5ms/step - loss: 0.0119 - accuracy: 0.9962 - val_loss: 0.1069 - val_accuracy: 0.9770\n",
            "Epoch 9/100\n",
            "300/300 [==============================] - 1s 4ms/step - loss: 0.0091 - accuracy: 0.9969 - val_loss: 0.0951 - val_accuracy: 0.9794\n",
            "Epoch 10/100\n",
            "300/300 [==============================] - 1s 4ms/step - loss: 0.0073 - accuracy: 0.9977 - val_loss: 0.1157 - val_accuracy: 0.9747\n",
            "Epoch 11/100\n",
            "300/300 [==============================] - 1s 4ms/step - loss: 0.0050 - accuracy: 0.9984 - val_loss: 0.1075 - val_accuracy: 0.9793\n",
            "Epoch 12/100\n",
            "300/300 [==============================] - 1s 4ms/step - loss: 0.0041 - accuracy: 0.9986 - val_loss: 0.1103 - val_accuracy: 0.9770\n",
            "Epoch 13/100\n",
            "300/300 [==============================] - 1s 4ms/step - loss: 0.0028 - accuracy: 0.9992 - val_loss: 0.1019 - val_accuracy: 0.9800\n",
            "Epoch 14/100\n",
            "300/300 [==============================] - 1s 4ms/step - loss: 0.0021 - accuracy: 0.9994 - val_loss: 0.1060 - val_accuracy: 0.9798\n",
            "Epoch 15/100\n",
            "300/300 [==============================] - 1s 4ms/step - loss: 9.8237e-04 - accuracy: 0.9998 - val_loss: 0.1058 - val_accuracy: 0.9799\n",
            "Epoch 16/100\n",
            "300/300 [==============================] - 1s 4ms/step - loss: 1.2194e-04 - accuracy: 1.0000 - val_loss: 0.1048 - val_accuracy: 0.9818\n",
            "Epoch 17/100\n",
            "300/300 [==============================] - 1s 4ms/step - loss: 3.6511e-05 - accuracy: 1.0000 - val_loss: 0.1055 - val_accuracy: 0.9820\n",
            "Epoch 18/100\n",
            "300/300 [==============================] - 1s 5ms/step - loss: 2.7679e-05 - accuracy: 1.0000 - val_loss: 0.1064 - val_accuracy: 0.9823\n",
            "Epoch 19/100\n",
            "300/300 [==============================] - 2s 5ms/step - loss: 2.3579e-05 - accuracy: 1.0000 - val_loss: 0.1075 - val_accuracy: 0.9822\n",
            "Epoch 20/100\n",
            "300/300 [==============================] - 1s 4ms/step - loss: 2.0633e-05 - accuracy: 1.0000 - val_loss: 0.1087 - val_accuracy: 0.9818\n",
            "Epoch 21/100\n",
            "300/300 [==============================] - 1s 3ms/step - loss: 1.8520e-05 - accuracy: 1.0000 - val_loss: 0.1089 - val_accuracy: 0.9825\n",
            "Epoch 22/100\n",
            "300/300 [==============================] - 1s 4ms/step - loss: 1.6961e-05 - accuracy: 1.0000 - val_loss: 0.1097 - val_accuracy: 0.9821\n",
            "Epoch 23/100\n",
            "300/300 [==============================] - 1s 4ms/step - loss: 1.5593e-05 - accuracy: 1.0000 - val_loss: 0.1103 - val_accuracy: 0.9823\n",
            "Epoch 24/100\n",
            "300/300 [==============================] - 1s 4ms/step - loss: 1.4472e-05 - accuracy: 1.0000 - val_loss: 0.1105 - val_accuracy: 0.9823\n",
            "Epoch 25/100\n",
            "300/300 [==============================] - 1s 4ms/step - loss: 1.3551e-05 - accuracy: 1.0000 - val_loss: 0.1112 - val_accuracy: 0.9823\n",
            "Epoch 26/100\n",
            "300/300 [==============================] - 1s 4ms/step - loss: 1.2773e-05 - accuracy: 1.0000 - val_loss: 0.1118 - val_accuracy: 0.9825\n",
            "Epoch 27/100\n",
            "300/300 [==============================] - 1s 4ms/step - loss: 1.2066e-05 - accuracy: 1.0000 - val_loss: 0.1124 - val_accuracy: 0.9823\n",
            "Epoch 28/100\n",
            "300/300 [==============================] - 1s 3ms/step - loss: 1.1431e-05 - accuracy: 1.0000 - val_loss: 0.1124 - val_accuracy: 0.9824\n",
            "Epoch 29/100\n",
            "300/300 [==============================] - 2s 5ms/step - loss: 1.0899e-05 - accuracy: 1.0000 - val_loss: 0.1128 - val_accuracy: 0.9825\n",
            "Epoch 30/100\n",
            "300/300 [==============================] - 2s 6ms/step - loss: 1.0411e-05 - accuracy: 1.0000 - val_loss: 0.1135 - val_accuracy: 0.9825\n",
            "Epoch 31/100\n",
            "300/300 [==============================] - 1s 4ms/step - loss: 9.9543e-06 - accuracy: 1.0000 - val_loss: 0.1139 - val_accuracy: 0.9825\n",
            "Epoch 32/100\n",
            "300/300 [==============================] - 1s 4ms/step - loss: 9.5654e-06 - accuracy: 1.0000 - val_loss: 0.1142 - val_accuracy: 0.9825\n",
            "Epoch 33/100\n",
            "300/300 [==============================] - 1s 4ms/step - loss: 9.1871e-06 - accuracy: 1.0000 - val_loss: 0.1144 - val_accuracy: 0.9826\n",
            "Epoch 34/100\n",
            "300/300 [==============================] - 1s 4ms/step - loss: 8.8516e-06 - accuracy: 1.0000 - val_loss: 0.1148 - val_accuracy: 0.9824\n",
            "Epoch 35/100\n",
            "300/300 [==============================] - 1s 4ms/step - loss: 8.5234e-06 - accuracy: 1.0000 - val_loss: 0.1151 - val_accuracy: 0.9826\n",
            "Epoch 36/100\n",
            "300/300 [==============================] - 1s 4ms/step - loss: 8.2410e-06 - accuracy: 1.0000 - val_loss: 0.1153 - val_accuracy: 0.9824\n",
            "Epoch 37/100\n",
            "300/300 [==============================] - 1s 4ms/step - loss: 7.9902e-06 - accuracy: 1.0000 - val_loss: 0.1156 - val_accuracy: 0.9823\n",
            "Epoch 38/100\n",
            "300/300 [==============================] - 1s 4ms/step - loss: 7.7284e-06 - accuracy: 1.0000 - val_loss: 0.1158 - val_accuracy: 0.9824\n",
            "Epoch 39/100\n",
            "300/300 [==============================] - 1s 4ms/step - loss: 7.4959e-06 - accuracy: 1.0000 - val_loss: 0.1160 - val_accuracy: 0.9824\n",
            "Epoch 40/100\n",
            "300/300 [==============================] - 2s 6ms/step - loss: 7.2792e-06 - accuracy: 1.0000 - val_loss: 0.1163 - val_accuracy: 0.9823\n",
            "Epoch 41/100\n",
            "300/300 [==============================] - 1s 4ms/step - loss: 7.0852e-06 - accuracy: 1.0000 - val_loss: 0.1167 - val_accuracy: 0.9823\n",
            "Epoch 42/100\n",
            "300/300 [==============================] - 1s 4ms/step - loss: 6.8877e-06 - accuracy: 1.0000 - val_loss: 0.1169 - val_accuracy: 0.9826\n",
            "Epoch 43/100\n",
            "300/300 [==============================] - 1s 4ms/step - loss: 6.7050e-06 - accuracy: 1.0000 - val_loss: 0.1171 - val_accuracy: 0.9824\n",
            "Epoch 44/100\n",
            "300/300 [==============================] - 1s 4ms/step - loss: 6.5338e-06 - accuracy: 1.0000 - val_loss: 0.1173 - val_accuracy: 0.9825\n",
            "Epoch 45/100\n",
            "300/300 [==============================] - 1s 4ms/step - loss: 6.3736e-06 - accuracy: 1.0000 - val_loss: 0.1176 - val_accuracy: 0.9825\n",
            "Epoch 46/100\n",
            "300/300 [==============================] - 1s 4ms/step - loss: 6.2183e-06 - accuracy: 1.0000 - val_loss: 0.1177 - val_accuracy: 0.9825\n",
            "Epoch 47/100\n",
            "300/300 [==============================] - 1s 4ms/step - loss: 6.0734e-06 - accuracy: 1.0000 - val_loss: 0.1180 - val_accuracy: 0.9825\n",
            "Epoch 48/100\n",
            "300/300 [==============================] - 1s 4ms/step - loss: 5.9365e-06 - accuracy: 1.0000 - val_loss: 0.1182 - val_accuracy: 0.9825\n",
            "Epoch 49/100\n",
            "300/300 [==============================] - 1s 4ms/step - loss: 5.7878e-06 - accuracy: 1.0000 - val_loss: 0.1184 - val_accuracy: 0.9825\n",
            "Epoch 50/100\n",
            "300/300 [==============================] - 1s 5ms/step - loss: 5.6809e-06 - accuracy: 1.0000 - val_loss: 0.1186 - val_accuracy: 0.9825\n",
            "Epoch 51/100\n",
            "300/300 [==============================] - 1s 5ms/step - loss: 5.5602e-06 - accuracy: 1.0000 - val_loss: 0.1188 - val_accuracy: 0.9824\n",
            "Epoch 52/100\n",
            "300/300 [==============================] - 1s 4ms/step - loss: 5.4415e-06 - accuracy: 1.0000 - val_loss: 0.1189 - val_accuracy: 0.9824\n",
            "Epoch 53/100\n",
            "300/300 [==============================] - 1s 4ms/step - loss: 5.3311e-06 - accuracy: 1.0000 - val_loss: 0.1191 - val_accuracy: 0.9825\n",
            "Epoch 54/100\n",
            "300/300 [==============================] - 1s 4ms/step - loss: 5.2309e-06 - accuracy: 1.0000 - val_loss: 0.1193 - val_accuracy: 0.9825\n",
            "Epoch 55/100\n",
            "300/300 [==============================] - 1s 4ms/step - loss: 5.1272e-06 - accuracy: 1.0000 - val_loss: 0.1195 - val_accuracy: 0.9825\n",
            "Epoch 56/100\n",
            "300/300 [==============================] - 1s 4ms/step - loss: 5.0200e-06 - accuracy: 1.0000 - val_loss: 0.1196 - val_accuracy: 0.9826\n",
            "Epoch 57/100\n",
            "300/300 [==============================] - 1s 4ms/step - loss: 4.9334e-06 - accuracy: 1.0000 - val_loss: 0.1198 - val_accuracy: 0.9826\n",
            "Epoch 58/100\n",
            "300/300 [==============================] - 1s 4ms/step - loss: 4.8461e-06 - accuracy: 1.0000 - val_loss: 0.1200 - val_accuracy: 0.9826\n",
            "Epoch 59/100\n",
            "300/300 [==============================] - 1s 4ms/step - loss: 4.7573e-06 - accuracy: 1.0000 - val_loss: 0.1201 - val_accuracy: 0.9827\n",
            "Epoch 60/100\n",
            "300/300 [==============================] - 1s 4ms/step - loss: 4.6781e-06 - accuracy: 1.0000 - val_loss: 0.1203 - val_accuracy: 0.9826\n",
            "Epoch 61/100\n",
            "300/300 [==============================] - 2s 5ms/step - loss: 4.5949e-06 - accuracy: 1.0000 - val_loss: 0.1204 - val_accuracy: 0.9827\n",
            "Epoch 62/100\n",
            "300/300 [==============================] - 1s 5ms/step - loss: 4.5182e-06 - accuracy: 1.0000 - val_loss: 0.1206 - val_accuracy: 0.9826\n",
            "Epoch 63/100\n",
            "300/300 [==============================] - 1s 4ms/step - loss: 4.4448e-06 - accuracy: 1.0000 - val_loss: 0.1208 - val_accuracy: 0.9826\n",
            "Epoch 64/100\n",
            "300/300 [==============================] - 1s 4ms/step - loss: 4.3734e-06 - accuracy: 1.0000 - val_loss: 0.1209 - val_accuracy: 0.9826\n",
            "Epoch 65/100\n",
            "300/300 [==============================] - 1s 5ms/step - loss: 4.3034e-06 - accuracy: 1.0000 - val_loss: 0.1210 - val_accuracy: 0.9826\n",
            "Epoch 66/100\n",
            "300/300 [==============================] - 2s 5ms/step - loss: 4.2367e-06 - accuracy: 1.0000 - val_loss: 0.1212 - val_accuracy: 0.9826\n",
            "Epoch 67/100\n",
            "300/300 [==============================] - 1s 4ms/step - loss: 4.1687e-06 - accuracy: 1.0000 - val_loss: 0.1213 - val_accuracy: 0.9826\n",
            "Epoch 68/100\n",
            "300/300 [==============================] - 1s 4ms/step - loss: 4.1047e-06 - accuracy: 1.0000 - val_loss: 0.1214 - val_accuracy: 0.9827\n",
            "Epoch 69/100\n",
            "300/300 [==============================] - 1s 4ms/step - loss: 4.0476e-06 - accuracy: 1.0000 - val_loss: 0.1215 - val_accuracy: 0.9826\n",
            "Epoch 70/100\n",
            "300/300 [==============================] - 1s 4ms/step - loss: 3.9869e-06 - accuracy: 1.0000 - val_loss: 0.1217 - val_accuracy: 0.9826\n",
            "Epoch 71/100\n",
            "300/300 [==============================] - 2s 6ms/step - loss: 3.9294e-06 - accuracy: 1.0000 - val_loss: 0.1218 - val_accuracy: 0.9826\n",
            "Epoch 72/100\n",
            "300/300 [==============================] - 1s 4ms/step - loss: 3.8729e-06 - accuracy: 1.0000 - val_loss: 0.1220 - val_accuracy: 0.9826\n",
            "Epoch 73/100\n",
            "300/300 [==============================] - 1s 3ms/step - loss: 3.8205e-06 - accuracy: 1.0000 - val_loss: 0.1221 - val_accuracy: 0.9825\n",
            "Epoch 74/100\n",
            "300/300 [==============================] - 1s 4ms/step - loss: 3.7651e-06 - accuracy: 1.0000 - val_loss: 0.1222 - val_accuracy: 0.9825\n",
            "Epoch 75/100\n",
            "300/300 [==============================] - 1s 4ms/step - loss: 3.7141e-06 - accuracy: 1.0000 - val_loss: 0.1223 - val_accuracy: 0.9826\n",
            "Epoch 76/100\n",
            "300/300 [==============================] - 1s 5ms/step - loss: 3.6641e-06 - accuracy: 1.0000 - val_loss: 0.1225 - val_accuracy: 0.9826\n",
            "Epoch 77/100\n",
            "300/300 [==============================] - 2s 5ms/step - loss: 3.6167e-06 - accuracy: 1.0000 - val_loss: 0.1226 - val_accuracy: 0.9826\n",
            "Epoch 78/100\n",
            "300/300 [==============================] - 1s 4ms/step - loss: 3.5711e-06 - accuracy: 1.0000 - val_loss: 0.1227 - val_accuracy: 0.9825\n",
            "Epoch 79/100\n",
            "300/300 [==============================] - 1s 4ms/step - loss: 3.5261e-06 - accuracy: 1.0000 - val_loss: 0.1228 - val_accuracy: 0.9825\n",
            "Epoch 80/100\n",
            "300/300 [==============================] - 1s 4ms/step - loss: 3.4792e-06 - accuracy: 1.0000 - val_loss: 0.1230 - val_accuracy: 0.9826\n",
            "Epoch 81/100\n",
            "300/300 [==============================] - 2s 5ms/step - loss: 3.4378e-06 - accuracy: 1.0000 - val_loss: 0.1230 - val_accuracy: 0.9826\n",
            "Epoch 82/100\n",
            "300/300 [==============================] - 1s 4ms/step - loss: 3.3941e-06 - accuracy: 1.0000 - val_loss: 0.1231 - val_accuracy: 0.9825\n",
            "Epoch 83/100\n",
            "300/300 [==============================] - 1s 4ms/step - loss: 3.3526e-06 - accuracy: 1.0000 - val_loss: 0.1233 - val_accuracy: 0.9826\n",
            "Epoch 84/100\n",
            "300/300 [==============================] - 1s 4ms/step - loss: 3.3139e-06 - accuracy: 1.0000 - val_loss: 0.1233 - val_accuracy: 0.9826\n",
            "Epoch 85/100\n",
            "300/300 [==============================] - 1s 4ms/step - loss: 3.2748e-06 - accuracy: 1.0000 - val_loss: 0.1235 - val_accuracy: 0.9826\n",
            "Epoch 86/100\n",
            "300/300 [==============================] - 1s 4ms/step - loss: 3.2358e-06 - accuracy: 1.0000 - val_loss: 0.1236 - val_accuracy: 0.9826\n",
            "Epoch 87/100\n",
            "300/300 [==============================] - 1s 4ms/step - loss: 3.1992e-06 - accuracy: 1.0000 - val_loss: 0.1237 - val_accuracy: 0.9825\n",
            "Epoch 88/100\n",
            "300/300 [==============================] - 1s 4ms/step - loss: 3.1631e-06 - accuracy: 1.0000 - val_loss: 0.1238 - val_accuracy: 0.9826\n",
            "Epoch 89/100\n",
            "300/300 [==============================] - 1s 4ms/step - loss: 3.1279e-06 - accuracy: 1.0000 - val_loss: 0.1239 - val_accuracy: 0.9826\n",
            "Epoch 90/100\n",
            "300/300 [==============================] - 1s 4ms/step - loss: 3.0919e-06 - accuracy: 1.0000 - val_loss: 0.1240 - val_accuracy: 0.9826\n",
            "Epoch 91/100\n",
            "300/300 [==============================] - 1s 5ms/step - loss: 3.0566e-06 - accuracy: 1.0000 - val_loss: 0.1241 - val_accuracy: 0.9826\n",
            "Epoch 92/100\n",
            "300/300 [==============================] - 2s 5ms/step - loss: 3.0247e-06 - accuracy: 1.0000 - val_loss: 0.1242 - val_accuracy: 0.9826\n",
            "Epoch 93/100\n",
            "300/300 [==============================] - 1s 4ms/step - loss: 2.9928e-06 - accuracy: 1.0000 - val_loss: 0.1243 - val_accuracy: 0.9826\n",
            "Epoch 94/100\n",
            "300/300 [==============================] - 1s 4ms/step - loss: 2.9598e-06 - accuracy: 1.0000 - val_loss: 0.1244 - val_accuracy: 0.9826\n",
            "Epoch 95/100\n",
            "300/300 [==============================] - 1s 4ms/step - loss: 2.9294e-06 - accuracy: 1.0000 - val_loss: 0.1245 - val_accuracy: 0.9826\n",
            "Epoch 96/100\n",
            "300/300 [==============================] - 1s 4ms/step - loss: 2.8989e-06 - accuracy: 1.0000 - val_loss: 0.1246 - val_accuracy: 0.9826\n",
            "Epoch 97/100\n",
            "300/300 [==============================] - 1s 4ms/step - loss: 2.8677e-06 - accuracy: 1.0000 - val_loss: 0.1247 - val_accuracy: 0.9826\n",
            "Epoch 98/100\n",
            "300/300 [==============================] - 1s 4ms/step - loss: 2.8400e-06 - accuracy: 1.0000 - val_loss: 0.1248 - val_accuracy: 0.9826\n",
            "Epoch 99/100\n",
            "300/300 [==============================] - 1s 4ms/step - loss: 2.8098e-06 - accuracy: 1.0000 - val_loss: 0.1249 - val_accuracy: 0.9826\n",
            "Epoch 100/100\n",
            "300/300 [==============================] - 1s 4ms/step - loss: 2.7828e-06 - accuracy: 1.0000 - val_loss: 0.1250 - val_accuracy: 0.9826\n",
            "CPU times: user 1min 59s, sys: 10.9 s, total: 2min 9s\n",
            "Wall time: 2min 22s\n"
          ]
        }
      ]
    },
    {
      "cell_type": "code",
      "source": [
        "import matplotlib.pyplot as plt\n",
        "epochs = range(1, len(Hist_mnist.history['loss']) + 1)\n",
        "plt.figure(figsize = (15, 5))\n",
        "plt.subplot(1, 2, 1)\n",
        "plt.plot(epochs, Hist_mnist.history['loss'], 'b-')\n",
        "plt.plot(epochs, Hist_mnist.history['val_loss'], 'r--')\n",
        "plt.title('Training & Validation Loss')\n",
        "plt.xlabel('Epochs')\n",
        "plt.ylabel('Loss')\n",
        "plt.legend(['Training Loss', 'Validation Loss'])\n",
        "plt.grid()\n",
        "plt.subplot(1, 2, 2)\n",
        "plt.plot(epochs, Hist_mnist.history['accuracy'], 'b-')\n",
        "plt.plot(epochs, Hist_mnist.history['val_accuracy'], 'r--')\n",
        "plt.title('Training & Validation Accuracy')\n",
        "plt.xlabel('Epochs')\n",
        "plt.ylabel('Accuracy')\n",
        "plt.legend(['Training Accuracy', 'Validation Accuracy'])\n",
        "plt.grid()\n",
        "plt.show()\n"
      ],
      "metadata": {
        "colab": {
          "base_uri": "https://localhost:8080/",
          "height": 455
        },
        "id": "Ukp5hNGzBVRt",
        "outputId": "bbd6e332-3390-478e-8c37-4145c8863270"
      },
      "execution_count": null,
      "outputs": [
        {
          "output_type": "display_data",
          "data": {
            "text/plain": [
              "<Figure size 1500x500 with 2 Axes>"
            ],
            "image/png": "[encoded data removed]"
          },
          "metadata": {}
        }
      ]
    },
    {
      "cell_type": "code",
      "source": [
        "loss, accuracy = mnist.evaluate(X_test, y_test, verbose = 0)\n",
        "print('Loss = {:.5f}'.format(loss))\n",
        "print('Accuracy = {:.5f}'.format(accuracy))\n"
      ],
      "metadata": {
        "colab": {
          "base_uri": "https://localhost:8080/"
        },
        "id": "wgw0hTKGBpKW",
        "outputId": "a5350a13-fba6-436a-8ef7-e3822879d110"
      },
      "execution_count": null,
      "outputs": [
        {
          "output_type": "stream",
          "name": "stdout",
          "text": [
            "Loss = 0.10513\n",
            "Accuracy = 0.98400\n"
          ]
        }
      ]
    },
    {
      "cell_type": "code",
      "source": [
        "np.set_printoptions(suppress = True, precision = 9)\n",
        "print(mnist.predict(X_test[:1,:], verbose = 0))\n"
      ],
      "metadata": {
        "colab": {
          "base_uri": "https://localhost:8080/"
        },
        "id": "fY6TLCxhBssD",
        "outputId": "ec2a1cd5-6837-4820-8b55-24733f6b3ba2"
      },
      "execution_count": null,
      "outputs": [
        {
          "output_type": "stream",
          "name": "stdout",
          "text": [
            "[[0. 0. 0. 0. 0. 0. 0. 1. 0. 0.]]\n"
          ]
        }
      ]
    },
    {
      "cell_type": "code",
      "source": [
        "print(np.argmax(mnist.predict(X_test[:1,:], verbose = 0)))"
      ],
      "metadata": {
        "colab": {
          "base_uri": "https://localhost:8080/"
        },
        "id": "6js4fb3jB9Vo",
        "outputId": "81645405-4968-4ca4-f13b-594de4893fec"
      },
      "execution_count": null,
      "outputs": [
        {
          "output_type": "stream",
          "name": "stdout",
          "text": [
            "7\n"
          ]
        }
      ]
    },
    {
      "cell_type": "code",
      "source": [
        "plt.imshow(X_test[0].reshape(28, 28), cmap = 'gray')\n",
        "plt.title('Predicted Image', fontsize = 20)\n",
        "plt.show()\n"
      ],
      "metadata": {
        "colab": {
          "base_uri": "https://localhost:8080/",
          "height": 460
        },
        "id": "vsFs9e3KCAQV",
        "outputId": "7de54cb2-4867-41d3-d9c9-db4c66969319"
      },
      "execution_count": null,
      "outputs": [
        {
          "output_type": "display_data",
          "data": {
            "text/plain": [
              "<Figure size 640x480 with 1 Axes>"
            ],
            "image/png": "[encoded data removed]"
          },
          "metadata": {}
        }
      ]
    },
    {
      "cell_type": "code",
      "source": [
        "from sklearn.metrics import confusion_matrix\n",
        "import matplotlib.pyplot as plt\n",
        "import seaborn as sns\n",
        "\n",
        "CM = confusion_matrix(np.argmax(y_test, axis = 1),\n",
        "                      np.argmax(mnist.predict(X_test, verbose = 0), axis = 1))\n",
        "plt.figure(figsize = (10, 10))\n",
        "sns.heatmap(CM,\n",
        "            annot = True,\n",
        "            fmt = 'd',\n",
        "            cmap = 'Blues',\n",
        "            cbar = False)\n",
        "\n",
        "plt.xlabel('y_hat', fontsize = 25)\n",
        "plt.ylabel('y', fontsize = 25)\n",
        "plt.show()"
      ],
      "metadata": {
        "colab": {
          "base_uri": "https://localhost:8080/",
          "height": 871
        },
        "id": "TPawrVTrCIsJ",
        "outputId": "b968fea9-86f8-4dd6-837e-4f0a757b461a"
      },
      "execution_count": null,
      "outputs": [
        {
          "output_type": "display_data",
          "data": {
            "text/plain": [
              "<Figure size 1000x1000 with 1 Axes>"
            ],
            "image/png": "[encoded data removed]"
          },
          "metadata": {}
        }
      ]
    },
    {
      "cell_type": "code",
      "source": [
        "from sklearn.metrics import classification_report\n",
        "print('\\n',\n",
        "      classification_report(np.argmax(y_test, axis = 1),\n",
        "                            np.argmax(mnist.predict(X_test, verbose = 0), axis = 1)))"
      ],
      "metadata": {
        "id": "Di_eddWmCV1-",
        "outputId": "019f2e30-6cac-456a-e3e9-d6c5af310b52",
        "colab": {
          "base_uri": "https://localhost:8080/"
        }
      },
      "execution_count": null,
      "outputs": [
        {
          "output_type": "stream",
          "name": "stdout",
          "text": [
            "\n",
            "               precision    recall  f1-score   support\n",
            "\n",
            "           0       0.99      0.99      0.99       980\n",
            "           1       0.99      0.99      0.99      1135\n",
            "           2       0.98      0.98      0.98      1032\n",
            "           3       0.98      0.99      0.98      1010\n",
            "           4       0.98      0.98      0.98       982\n",
            "           5       0.99      0.98      0.99       892\n",
            "           6       0.98      0.98      0.98       958\n",
            "           7       0.99      0.98      0.98      1028\n",
            "           8       0.98      0.98      0.98       974\n",
            "           9       0.98      0.98      0.98      1009\n",
            "\n",
            "    accuracy                           0.98     10000\n",
            "   macro avg       0.98      0.98      0.98     10000\n",
            "weighted avg       0.98      0.98      0.98     10000\n",
            "\n"
          ]
        }
      ]
    }
  ]
}